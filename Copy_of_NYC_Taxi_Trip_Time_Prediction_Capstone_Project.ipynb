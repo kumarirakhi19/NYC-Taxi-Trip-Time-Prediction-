{
  "nbformat": 4,
  "nbformat_minor": 0,
  "metadata": {
    "kernelspec": {
      "display_name": "Python 3",
      "language": "python",
      "name": "python3"
    },
    "language_info": {
      "codemirror_mode": {
        "name": "ipython",
        "version": 3
      },
      "file_extension": ".py",
      "mimetype": "text/x-python",
      "name": "python",
      "nbconvert_exporter": "python",
      "pygments_lexer": "ipython3",
      "version": "3.6.6"
    },
    "colab": {
      "name": "Copy of NYC Taxi Trip Time Prediction - Capstone Project.ipynb",
      "provenance": [],
      "collapsed_sections": [],
      "include_colab_link": true
    }
  },
  "cells": [
    {
      "cell_type": "markdown",
      "metadata": {
        "id": "view-in-github",
        "colab_type": "text"
      },
      "source": [
        "<a href=\"https://colab.research.google.com/github/kumarirakhi19/NYC-Taxi-Trip-Time-Prediction-/blob/main/Copy_of_NYC_Taxi_Trip_Time_Prediction_Capstone_Project.ipynb\" target=\"_parent\"><img src=\"https://colab.research.google.com/assets/colab-badge.svg\" alt=\"Open In Colab\"/></a>"
      ]
    },
    {
      "cell_type": "markdown",
      "metadata": {
        "id": "tOGC-qoyhJeX"
      },
      "source": [
        "# <b><u> Project Title : Taxi trip time Prediction : Predicting total ride duration of taxi trips in New York City</u></b>"
      ]
    },
    {
      "cell_type": "markdown",
      "metadata": {
        "id": "Y06xIdG26kRF"
      },
      "source": [
        "## <b> Problem Description </b>\n",
        "\n",
        "### Your task is to build a model that predicts the total ride duration of taxi trips in New York City. Your primary dataset is one released by the NYC Taxi and Limousine Commission, which includes pickup time, geo-coordinates, number of passengers, and several other variables."
      ]
    },
    {
      "cell_type": "markdown",
      "metadata": {
        "id": "WWeU1f9bwqQq"
      },
      "source": [
        "## <b> Data Description </b>\n",
        "\n",
        "### The dataset is based on the 2016 NYC Yellow Cab trip record data made available in Big Query on Google Cloud Platform. The data was originally published by the NYC Taxi and Limousine Commission (TLC). The data was sampled and cleaned for the purposes of this project. Based on individual trip attributes, you should predict the duration of each trip in the test set.\n",
        "\n",
        "### <b>NYC Taxi Data.csv</b> - the training set (contains 1458644 trip records)\n",
        "\n",
        "\n",
        "### Data fields\n",
        "* #### id - a unique identifier for each trip\n",
        "* #### vendor_id - a code indicating the provider associated with the trip record\n",
        "* #### pickup_datetime - date and time when the meter was engaged\n",
        "* #### dropoff_datetime - date and time when the meter was disengaged\n",
        "* #### passenger_count - the number of passengers in the vehicle (driver entered value)\n",
        "* #### pickup_longitude - the longitude where the meter was engaged\n",
        "* #### pickup_latitude - the latitude where the meter was engaged\n",
        "* #### dropoff_longitude - the longitude where the meter was disengaged\n",
        "* #### dropoff_latitude - the latitude where the meter was disengaged\n",
        "* #### store_and_fwd_flag - This flag indicates whether the trip record was held in vehicle memory before sending to the vendor because the vehicle did not have a connection to the server - Y=store and forward; N=not a store and forward trip\n",
        "* #### trip_duration - duration of the trip in seconds"
      ]
    },
    {
      "cell_type": "code",
      "metadata": {
        "id": "dByMsuzT8Tnw",
        "colab": {
          "base_uri": "https://localhost:8080/"
        },
        "outputId": "b194e981-a8e5-46f6-f7ff-9918e0fead5e"
      },
      "source": [
        "# import important library\n",
        "import pandas as pd\n",
        "import datetime as dt\n",
        "import seaborn as sns\n",
        "import matplotlib.pyplot as plt\n",
        "from sklearn.model_selection import train_test_split, GridSearchCV\n",
        "import statsmodels.formula.api as sm\n",
        "sns.set()\n",
        "import datetime\n",
        "import warnings; warnings.simplefilter('ignore')"
      ],
      "execution_count": null,
      "outputs": [
        {
          "output_type": "stream",
          "name": "stderr",
          "text": [
            "/usr/local/lib/python3.7/dist-packages/statsmodels/tools/_testing.py:19: FutureWarning: pandas.util.testing is deprecated. Use the functions in the public API at pandas.testing instead.\n",
            "  import pandas.util.testing as tm\n"
          ]
        }
      ]
    },
    {
      "cell_type": "code",
      "metadata": {
        "id": "jS17h8Zm8fAq",
        "colab": {
          "base_uri": "https://localhost:8080/"
        },
        "outputId": "2fd7f6a9-58b7-4efb-d74e-143e66d8a0bf"
      },
      "source": [
        "# mounted the drive\n",
        "from google.colab import drive\n",
        "drive.mount('/content/drive')"
      ],
      "execution_count": null,
      "outputs": [
        {
          "output_type": "stream",
          "name": "stdout",
          "text": [
            "Mounted at /content/drive\n"
          ]
        }
      ]
    },
    {
      "cell_type": "code",
      "metadata": {
        "id": "GLEJkAlk8wAb"
      },
      "source": [
        "# creating the path\n",
        "path = '/content/drive/MyDrive/Colab Notebooks/MACHINE LEARNING/NYC Taxi Data.csv'"
      ],
      "execution_count": null,
      "outputs": []
    },
    {
      "cell_type": "code",
      "metadata": {
        "id": "UFEaBewC9A9q"
      },
      "source": [
        "# import the data set\n",
        "nyc_df = pd.read_csv(path)"
      ],
      "execution_count": null,
      "outputs": []
    },
    {
      "cell_type": "markdown",
      "metadata": {
        "id": "prChOgGISu6e"
      },
      "source": [
        "Now, we have our dataset which was of the type ‘csv’ in a pandas dataframe which we have named ‘nyc_df’."
      ]
    },
    {
      "cell_type": "markdown",
      "metadata": {
        "id": "g26nd0r4THb_"
      },
      "source": [
        "# **Exploring the dataset**"
      ]
    },
    {
      "cell_type": "markdown",
      "metadata": {
        "id": "CZqr9D0rTmuq"
      },
      "source": [
        "Let us look at how does the data in these columns look like"
      ]
    },
    {
      "cell_type": "code",
      "metadata": {
        "colab": {
          "base_uri": "https://localhost:8080/",
          "height": 309
        },
        "id": "zsccjgO8bR6V",
        "outputId": "3b2c7cfa-f338-4de9-e5d6-afff1dea331c"
      },
      "source": [
        "nyc_df.head()"
      ],
      "execution_count": null,
      "outputs": [
        {
          "output_type": "execute_result",
          "data": {
            "text/html": [
              "<div>\n",
              "<style scoped>\n",
              "    .dataframe tbody tr th:only-of-type {\n",
              "        vertical-align: middle;\n",
              "    }\n",
              "\n",
              "    .dataframe tbody tr th {\n",
              "        vertical-align: top;\n",
              "    }\n",
              "\n",
              "    .dataframe thead th {\n",
              "        text-align: right;\n",
              "    }\n",
              "</style>\n",
              "<table border=\"1\" class=\"dataframe\">\n",
              "  <thead>\n",
              "    <tr style=\"text-align: right;\">\n",
              "      <th></th>\n",
              "      <th>id</th>\n",
              "      <th>vendor_id</th>\n",
              "      <th>pickup_datetime</th>\n",
              "      <th>dropoff_datetime</th>\n",
              "      <th>passenger_count</th>\n",
              "      <th>pickup_longitude</th>\n",
              "      <th>pickup_latitude</th>\n",
              "      <th>dropoff_longitude</th>\n",
              "      <th>dropoff_latitude</th>\n",
              "      <th>store_and_fwd_flag</th>\n",
              "      <th>trip_duration</th>\n",
              "    </tr>\n",
              "  </thead>\n",
              "  <tbody>\n",
              "    <tr>\n",
              "      <th>0</th>\n",
              "      <td>id2875421</td>\n",
              "      <td>2</td>\n",
              "      <td>2016-03-14 17:24:55</td>\n",
              "      <td>2016-03-14 17:32:30</td>\n",
              "      <td>1</td>\n",
              "      <td>-73.982155</td>\n",
              "      <td>40.767937</td>\n",
              "      <td>-73.964630</td>\n",
              "      <td>40.765602</td>\n",
              "      <td>N</td>\n",
              "      <td>455</td>\n",
              "    </tr>\n",
              "    <tr>\n",
              "      <th>1</th>\n",
              "      <td>id2377394</td>\n",
              "      <td>1</td>\n",
              "      <td>2016-06-12 00:43:35</td>\n",
              "      <td>2016-06-12 00:54:38</td>\n",
              "      <td>1</td>\n",
              "      <td>-73.980415</td>\n",
              "      <td>40.738564</td>\n",
              "      <td>-73.999481</td>\n",
              "      <td>40.731152</td>\n",
              "      <td>N</td>\n",
              "      <td>663</td>\n",
              "    </tr>\n",
              "    <tr>\n",
              "      <th>2</th>\n",
              "      <td>id3858529</td>\n",
              "      <td>2</td>\n",
              "      <td>2016-01-19 11:35:24</td>\n",
              "      <td>2016-01-19 12:10:48</td>\n",
              "      <td>1</td>\n",
              "      <td>-73.979027</td>\n",
              "      <td>40.763939</td>\n",
              "      <td>-74.005333</td>\n",
              "      <td>40.710087</td>\n",
              "      <td>N</td>\n",
              "      <td>2124</td>\n",
              "    </tr>\n",
              "    <tr>\n",
              "      <th>3</th>\n",
              "      <td>id3504673</td>\n",
              "      <td>2</td>\n",
              "      <td>2016-04-06 19:32:31</td>\n",
              "      <td>2016-04-06 19:39:40</td>\n",
              "      <td>1</td>\n",
              "      <td>-74.010040</td>\n",
              "      <td>40.719971</td>\n",
              "      <td>-74.012268</td>\n",
              "      <td>40.706718</td>\n",
              "      <td>N</td>\n",
              "      <td>429</td>\n",
              "    </tr>\n",
              "    <tr>\n",
              "      <th>4</th>\n",
              "      <td>id2181028</td>\n",
              "      <td>2</td>\n",
              "      <td>2016-03-26 13:30:55</td>\n",
              "      <td>2016-03-26 13:38:10</td>\n",
              "      <td>1</td>\n",
              "      <td>-73.973053</td>\n",
              "      <td>40.793209</td>\n",
              "      <td>-73.972923</td>\n",
              "      <td>40.782520</td>\n",
              "      <td>N</td>\n",
              "      <td>435</td>\n",
              "    </tr>\n",
              "  </tbody>\n",
              "</table>\n",
              "</div>"
            ],
            "text/plain": [
              "          id  vendor_id  ... store_and_fwd_flag trip_duration\n",
              "0  id2875421          2  ...                  N           455\n",
              "1  id2377394          1  ...                  N           663\n",
              "2  id3858529          2  ...                  N          2124\n",
              "3  id3504673          2  ...                  N           429\n",
              "4  id2181028          2  ...                  N           435\n",
              "\n",
              "[5 rows x 11 columns]"
            ]
          },
          "metadata": {},
          "execution_count": 5
        }
      ]
    },
    {
      "cell_type": "markdown",
      "metadata": {
        "id": "euWwsIknZTjM"
      },
      "source": [
        "\n",
        "\n",
        "Independent Variables\n",
        "\n",
        "id — a unique identifier for each trip\n",
        "\n",
        "vendor_id — a code indicating the provider associated with the trip record\n",
        "\n",
        "pickup_datetime — date and time when the meter was engaged\n",
        "\n",
        "dropoff_datetime — date and time when the meter was disengaged\n",
        "\n",
        "passenger_count — the number of passengers in the vehicle (driver entered value)\n",
        "\n",
        "pickup_longitude — the longitude where the meter was engaged\n",
        "\n",
        "pickup_latitude — the latitude where the meter was engaged\n",
        "\n",
        "dropoff_longitude — the longitude where the meter was disengaged\n",
        "\n",
        "dropoff_latitude — the latitude where the meter was disengaged\n",
        "\n",
        "store_and_fwd_flag — This flag indicates whether the trip record was held in vehicle memory before sending to the vendor because the vehicle did not have a connection to the server — Y=store and forward; N=not a store and forward trip.\n",
        "\n",
        "\n",
        " \n",
        "\n",
        "\n",
        "Target Variable\n",
        "\n",
        "trip_duration — duration of the trip in seconds\n",
        " \n",
        "\n"
      ]
    },
    {
      "cell_type": "code",
      "metadata": {
        "colab": {
          "base_uri": "https://localhost:8080/"
        },
        "id": "1U4_OOWQbfJo",
        "outputId": "f420c6c3-a8d6-48eb-eaeb-d5b5848a139c"
      },
      "source": [
        "nyc_df.shape"
      ],
      "execution_count": null,
      "outputs": [
        {
          "output_type": "execute_result",
          "data": {
            "text/plain": [
              "(1458644, 11)"
            ]
          },
          "metadata": {},
          "execution_count": 6
        }
      ]
    },
    {
      "cell_type": "markdown",
      "metadata": {
        "id": "7nVFTc6uUAda"
      },
      "source": [
        "We see the shape of the dataset is (1458644, 11) which essentially means that there are 1458644 rows and 11 columns in the dataset."
      ]
    },
    {
      "cell_type": "markdown",
      "metadata": {
        "id": "Owd3AirRUkcu"
      },
      "source": [
        "Let’s see what are those 11 columns."
      ]
    },
    {
      "cell_type": "code",
      "metadata": {
        "colab": {
          "base_uri": "https://localhost:8080/"
        },
        "id": "hAYpXO9DUTQn",
        "outputId": "be0307d2-1eb7-4716-a555-d5276d0ffac3"
      },
      "source": [
        "nyc_df.columns"
      ],
      "execution_count": null,
      "outputs": [
        {
          "output_type": "execute_result",
          "data": {
            "text/plain": [
              "Index(['id', 'vendor_id', 'pickup_datetime', 'dropoff_datetime',\n",
              "       'passenger_count', 'pickup_longitude', 'pickup_latitude',\n",
              "       'dropoff_longitude', 'dropoff_latitude', 'store_and_fwd_flag',\n",
              "       'trip_duration'],\n",
              "      dtype='object')"
            ]
          },
          "metadata": {},
          "execution_count": 7
        }
      ]
    },
    {
      "cell_type": "markdown",
      "metadata": {
        "id": "4laQTCuyVd8L"
      },
      "source": [
        "Let us now look at the datatypes of all these columns."
      ]
    },
    {
      "cell_type": "code",
      "metadata": {
        "colab": {
          "base_uri": "https://localhost:8080/"
        },
        "id": "oyxKmWpzU5SW",
        "outputId": "745dd7d1-8c6b-4333-cade-59f91e711bf6"
      },
      "source": [
        "nyc_df.dtypes"
      ],
      "execution_count": null,
      "outputs": [
        {
          "output_type": "execute_result",
          "data": {
            "text/plain": [
              "id                     object\n",
              "vendor_id               int64\n",
              "pickup_datetime        object\n",
              "dropoff_datetime       object\n",
              "passenger_count         int64\n",
              "pickup_longitude      float64\n",
              "pickup_latitude       float64\n",
              "dropoff_longitude     float64\n",
              "dropoff_latitude      float64\n",
              "store_and_fwd_flag     object\n",
              "trip_duration           int64\n",
              "dtype: object"
            ]
          },
          "metadata": {},
          "execution_count": 8
        }
      ]
    },
    {
      "cell_type": "markdown",
      "metadata": {
        "id": "Z81hAdm1Vr2v"
      },
      "source": [
        "We have id, pickup_datetime, dropoff_datetime, and store_and_fwd_flag of the \n",
        "\n",
        "\n",
        "\n",
        "vendor_id, passenger_count, and trip_duration are of type int.\n",
        "\n",
        "pickup_longitude, pickup_latitude, dropoff_longitude, and dropoff_latitude are of type float."
      ]
    },
    {
      "cell_type": "code",
      "metadata": {
        "colab": {
          "base_uri": "https://localhost:8080/"
        },
        "id": "4UZPsSgCbwvp",
        "outputId": "4653a13b-d2d6-4c6e-dbf1-c8118f5cf688"
      },
      "source": [
        "##Check count of unique id's in the dataset\n",
        "nyc_df.nunique()"
      ],
      "execution_count": null,
      "outputs": [
        {
          "output_type": "execute_result",
          "data": {
            "text/plain": [
              "id                    1458644\n",
              "vendor_id                   2\n",
              "pickup_datetime       1380222\n",
              "dropoff_datetime      1380377\n",
              "passenger_count            10\n",
              "pickup_longitude        23047\n",
              "pickup_latitude         45245\n",
              "dropoff_longitude       33821\n",
              "dropoff_latitude        62519\n",
              "store_and_fwd_flag          2\n",
              "trip_duration            7417\n",
              "dtype: int64"
            ]
          },
          "metadata": {},
          "execution_count": 9
        }
      ]
    },
    {
      "cell_type": "markdown",
      "metadata": {
        "id": "H79lW-RHcP3i"
      },
      "source": [
        "There are 1458644 unique id's in Training dataset, which is equal to the number of records\n",
        "\n",
        "There are 2 unique vendor ids.\n",
        "\n",
        "There are 10 unique passenger counts.\n",
        "\n",
        "There are 2 unique values for store_and_fwd_flag, that we also saw in the description of the variables, which are Y and N."
      ]
    },
    {
      "cell_type": "markdown",
      "metadata": {
        "id": "r01n5-e-amB3"
      },
      "source": [
        "Let us see if there are any null values in our dataset."
      ]
    },
    {
      "cell_type": "code",
      "metadata": {
        "colab": {
          "base_uri": "https://localhost:8080/"
        },
        "id": "62APA2qucbhB",
        "outputId": "cc17e2ae-4090-47a9-f3c6-0c6707fccbfd"
      },
      "source": [
        "nyc_df.isnull().sum()"
      ],
      "execution_count": null,
      "outputs": [
        {
          "output_type": "execute_result",
          "data": {
            "text/plain": [
              "id                    0\n",
              "vendor_id             0\n",
              "pickup_datetime       0\n",
              "dropoff_datetime      0\n",
              "passenger_count       0\n",
              "pickup_longitude      0\n",
              "pickup_latitude       0\n",
              "dropoff_longitude     0\n",
              "dropoff_latitude      0\n",
              "store_and_fwd_flag    0\n",
              "trip_duration         0\n",
              "dtype: int64"
            ]
          },
          "metadata": {},
          "execution_count": 10
        }
      ]
    },
    {
      "cell_type": "markdown",
      "metadata": {
        "id": "7ZBU6lcLcqRy"
      },
      "source": [
        "There is no NaN/NULL record in the dataset, So we dont have to impute any record."
      ]
    },
    {
      "cell_type": "markdown",
      "metadata": {
        "id": "tgrtZZv8civh"
      },
      "source": [
        "Let us finally check for a statistical summary of our dataset.\n",
        "\n",
        "Note that this function can provide statistics for numerical features only."
      ]
    },
    {
      "cell_type": "code",
      "metadata": {
        "colab": {
          "base_uri": "https://localhost:8080/",
          "height": 297
        },
        "id": "qd723OnbOZCd",
        "outputId": "fe110c00-b51e-4b78-8431-b855e6d4bc02"
      },
      "source": [
        "nyc_df.describe()"
      ],
      "execution_count": null,
      "outputs": [
        {
          "output_type": "execute_result",
          "data": {
            "text/html": [
              "<div>\n",
              "<style scoped>\n",
              "    .dataframe tbody tr th:only-of-type {\n",
              "        vertical-align: middle;\n",
              "    }\n",
              "\n",
              "    .dataframe tbody tr th {\n",
              "        vertical-align: top;\n",
              "    }\n",
              "\n",
              "    .dataframe thead th {\n",
              "        text-align: right;\n",
              "    }\n",
              "</style>\n",
              "<table border=\"1\" class=\"dataframe\">\n",
              "  <thead>\n",
              "    <tr style=\"text-align: right;\">\n",
              "      <th></th>\n",
              "      <th>vendor_id</th>\n",
              "      <th>passenger_count</th>\n",
              "      <th>pickup_longitude</th>\n",
              "      <th>pickup_latitude</th>\n",
              "      <th>dropoff_longitude</th>\n",
              "      <th>dropoff_latitude</th>\n",
              "      <th>trip_duration</th>\n",
              "    </tr>\n",
              "  </thead>\n",
              "  <tbody>\n",
              "    <tr>\n",
              "      <th>count</th>\n",
              "      <td>1.458644e+06</td>\n",
              "      <td>1.458644e+06</td>\n",
              "      <td>1.458644e+06</td>\n",
              "      <td>1.458644e+06</td>\n",
              "      <td>1.458644e+06</td>\n",
              "      <td>1.458644e+06</td>\n",
              "      <td>1.458644e+06</td>\n",
              "    </tr>\n",
              "    <tr>\n",
              "      <th>mean</th>\n",
              "      <td>1.534950e+00</td>\n",
              "      <td>1.664530e+00</td>\n",
              "      <td>-7.397349e+01</td>\n",
              "      <td>4.075092e+01</td>\n",
              "      <td>-7.397342e+01</td>\n",
              "      <td>4.075180e+01</td>\n",
              "      <td>9.594923e+02</td>\n",
              "    </tr>\n",
              "    <tr>\n",
              "      <th>std</th>\n",
              "      <td>4.987772e-01</td>\n",
              "      <td>1.314242e+00</td>\n",
              "      <td>7.090186e-02</td>\n",
              "      <td>3.288119e-02</td>\n",
              "      <td>7.064327e-02</td>\n",
              "      <td>3.589056e-02</td>\n",
              "      <td>5.237432e+03</td>\n",
              "    </tr>\n",
              "    <tr>\n",
              "      <th>min</th>\n",
              "      <td>1.000000e+00</td>\n",
              "      <td>0.000000e+00</td>\n",
              "      <td>-1.219333e+02</td>\n",
              "      <td>3.435970e+01</td>\n",
              "      <td>-1.219333e+02</td>\n",
              "      <td>3.218114e+01</td>\n",
              "      <td>1.000000e+00</td>\n",
              "    </tr>\n",
              "    <tr>\n",
              "      <th>25%</th>\n",
              "      <td>1.000000e+00</td>\n",
              "      <td>1.000000e+00</td>\n",
              "      <td>-7.399187e+01</td>\n",
              "      <td>4.073735e+01</td>\n",
              "      <td>-7.399133e+01</td>\n",
              "      <td>4.073588e+01</td>\n",
              "      <td>3.970000e+02</td>\n",
              "    </tr>\n",
              "    <tr>\n",
              "      <th>50%</th>\n",
              "      <td>2.000000e+00</td>\n",
              "      <td>1.000000e+00</td>\n",
              "      <td>-7.398174e+01</td>\n",
              "      <td>4.075410e+01</td>\n",
              "      <td>-7.397975e+01</td>\n",
              "      <td>4.075452e+01</td>\n",
              "      <td>6.620000e+02</td>\n",
              "    </tr>\n",
              "    <tr>\n",
              "      <th>75%</th>\n",
              "      <td>2.000000e+00</td>\n",
              "      <td>2.000000e+00</td>\n",
              "      <td>-7.396733e+01</td>\n",
              "      <td>4.076836e+01</td>\n",
              "      <td>-7.396301e+01</td>\n",
              "      <td>4.076981e+01</td>\n",
              "      <td>1.075000e+03</td>\n",
              "    </tr>\n",
              "    <tr>\n",
              "      <th>max</th>\n",
              "      <td>2.000000e+00</td>\n",
              "      <td>9.000000e+00</td>\n",
              "      <td>-6.133553e+01</td>\n",
              "      <td>5.188108e+01</td>\n",
              "      <td>-6.133553e+01</td>\n",
              "      <td>4.392103e+01</td>\n",
              "      <td>3.526282e+06</td>\n",
              "    </tr>\n",
              "  </tbody>\n",
              "</table>\n",
              "</div>"
            ],
            "text/plain": [
              "          vendor_id  passenger_count  ...  dropoff_latitude  trip_duration\n",
              "count  1.458644e+06     1.458644e+06  ...      1.458644e+06   1.458644e+06\n",
              "mean   1.534950e+00     1.664530e+00  ...      4.075180e+01   9.594923e+02\n",
              "std    4.987772e-01     1.314242e+00  ...      3.589056e-02   5.237432e+03\n",
              "min    1.000000e+00     0.000000e+00  ...      3.218114e+01   1.000000e+00\n",
              "25%    1.000000e+00     1.000000e+00  ...      4.073588e+01   3.970000e+02\n",
              "50%    2.000000e+00     1.000000e+00  ...      4.075452e+01   6.620000e+02\n",
              "75%    2.000000e+00     2.000000e+00  ...      4.076981e+01   1.075000e+03\n",
              "max    2.000000e+00     9.000000e+00  ...      4.392103e+01   3.526282e+06\n",
              "\n",
              "[8 rows x 7 columns]"
            ]
          },
          "metadata": {},
          "execution_count": 11
        }
      ]
    },
    {
      "cell_type": "markdown",
      "metadata": {
        "id": "UgPEDACudE0N"
      },
      "source": [
        "Some insights from the above summary:\n",
        "\n",
        "Vendor id has a minimum value of 1 and a maximum value of 2 which makes sense as we saw there are two vendor ids 1 and 2.\n",
        "\n",
        "Passenger count has a minimum of 0 which means either it is an error entered or the drivers deliberately entered 0 to complete a target number of rides.\n",
        "\n",
        "The minimum trip duration is also quite low. We will come back to this later during Univariate Analysis.\n",
        " "
      ]
    },
    {
      "cell_type": "markdown",
      "metadata": {
        "id": "wlAYipuVdscb"
      },
      "source": [
        "# Features Creation"
      ]
    },
    {
      "cell_type": "markdown",
      "metadata": {
        "id": "rgyVbIDVd61H"
      },
      "source": [
        "Let us create some new features from the existing variables so that we can gain more insights from the data.\n",
        "\n",
        "Remember pickup_datetime and dropoff_datetime were both of type object.\n",
        "If we want to make use of this data, we can convert it to datetime object which contains numerous functions with which we can create new features that we will see soon.\n",
        "\n",
        "We can convert it to datetime using the following code."
      ]
    },
    {
      "cell_type": "code",
      "metadata": {
        "id": "FPwBoXPugYao"
      },
      "source": [
        "nyc_df['pickup_datetime'] = pd.to_datetime(nyc_df['pickup_datetime'])\n",
        "nyc_df['dropoff_datetime'] = pd.to_datetime(nyc_df['dropoff_datetime'])"
      ],
      "execution_count": null,
      "outputs": []
    },
    {
      "cell_type": "markdown",
      "metadata": {
        "id": "Ys7Ucq4qeJ5I"
      },
      "source": [
        "Let's check , changes in pickup_datetime or dropoff_datetime"
      ]
    },
    {
      "cell_type": "code",
      "metadata": {
        "colab": {
          "base_uri": "https://localhost:8080/"
        },
        "id": "6znvyUR-Pvlc",
        "outputId": "220db492-5719-435b-df32-275817e90d83"
      },
      "source": [
        "nyc_df.dtypes"
      ],
      "execution_count": null,
      "outputs": [
        {
          "output_type": "execute_result",
          "data": {
            "text/plain": [
              "id                            object\n",
              "vendor_id                      int64\n",
              "pickup_datetime       datetime64[ns]\n",
              "dropoff_datetime      datetime64[ns]\n",
              "passenger_count                int64\n",
              "pickup_longitude             float64\n",
              "pickup_latitude              float64\n",
              "dropoff_longitude            float64\n",
              "dropoff_latitude             float64\n",
              "store_and_fwd_flag            object\n",
              "trip_duration                  int64\n",
              "dtype: object"
            ]
          },
          "metadata": {},
          "execution_count": 13
        }
      ]
    },
    {
      "cell_type": "code",
      "metadata": {
        "id": "0RGA1eqVQb6H"
      },
      "source": [
        "nyc_df['pickup_day']=nyc_df['pickup_datetime'].dt.day_name()\n",
        "nyc_df['dropoff_day']=nyc_df['dropoff_datetime'].dt.day_name()"
      ],
      "execution_count": null,
      "outputs": []
    },
    {
      "cell_type": "code",
      "metadata": {
        "id": "JfOEcmmSQr2v"
      },
      "source": [
        "nyc_df['pickup_day_no']=nyc_df['pickup_datetime'].dt.weekday\n",
        "nyc_df['dropoff_day_no']=nyc_df['dropoff_datetime'].dt.weekday"
      ],
      "execution_count": null,
      "outputs": []
    },
    {
      "cell_type": "code",
      "metadata": {
        "id": "euIZd76eREFa"
      },
      "source": [
        "nyc_df['pickup_hour']=nyc_df['pickup_datetime'].dt.hour\n",
        "nyc_df['dropoff_hour']=nyc_df['dropoff_datetime'].dt.hour"
      ],
      "execution_count": null,
      "outputs": []
    },
    {
      "cell_type": "code",
      "metadata": {
        "id": "SgxJ2RAFRPu5"
      },
      "source": [
        "nyc_df['pickup_month']=nyc_df['pickup_datetime'].dt.month\n",
        "nyc_df['dropoff_month']=nyc_df['dropoff_datetime'].dt.month"
      ],
      "execution_count": null,
      "outputs": []
    },
    {
      "cell_type": "markdown",
      "metadata": {
        "id": "kGCQt28DfHEy"
      },
      "source": [
        "We have created the following features:\n",
        "\n",
        "pickup_day and dropoff_day which will contain the name of the day on which the \n",
        "ride was taken.\n",
        "\n",
        "pickup_day_no and dropoff_day_no which will contain the day number instead of characters with Monday=0 and Sunday=6.\n",
        "\n",
        "pickup_hour and dropoff_hour with an hour of the day in the 24-hour format.\n",
        "\n",
        "pickup_month and dropoff_month with month number with January=1 and December=12."
      ]
    },
    {
      "cell_type": "markdown",
      "metadata": {
        "id": "yrKHImSGfZfM"
      },
      "source": [
        " I have defined a function that lets us determine what time of the day the ride was taken. I have created 4 time zones ‘Morning’ (from 6:00 am to 11:59 pm), ‘Afternoon’ (from 12 noon to 3:59 pm), ‘Evening’ (from 4:00 pm to 9:59 pm), and ‘Late Night’ (from 10:00 pm to 5:59 am)"
      ]
    },
    {
      "cell_type": "code",
      "metadata": {
        "id": "YbxhVhJYSEPX"
      },
      "source": [
        "def time_of_day(x):\n",
        "    if x in range(6,12):\n",
        "        return 'Morning'\n",
        "    elif x in range(12,16):\n",
        "        return 'Afternoon'\n",
        "    elif x in range(16,22):\n",
        "        return 'Evening'\n",
        "    else:\n",
        "        return 'Late night'"
      ],
      "execution_count": null,
      "outputs": []
    },
    {
      "cell_type": "code",
      "metadata": {
        "id": "RU4_j4RznH0v"
      },
      "source": [
        ""
      ],
      "execution_count": null,
      "outputs": []
    },
    {
      "cell_type": "code",
      "metadata": {
        "id": "iWHIjZYR92Jn"
      },
      "source": [
        "nyc_df['pickup_time_of_day']=nyc_df['pickup_datetime'].apply(lambda x :time_of_day(datetime.datetime.strptime(str(x), \"%Y-%m-%d %H:%M:%S\").time()) )\n",
        "nyc_df['dropoff_time_of_day']=nyc_df['dropoff_datetime'].apply(lambda x :time_of_day(datetime.datetime.strptime(str(x), \"%Y-%m-%d %H:%M:%S\").time()) )"
      ],
      "execution_count": null,
      "outputs": []
    },
    {
      "cell_type": "markdown",
      "metadata": {
        "id": "jxR__1b_fqXz"
      },
      "source": [
        "Now let us apply this function and create new columns in the dataset"
      ]
    },
    {
      "cell_type": "code",
      "metadata": {
        "id": "jfooDxUqSO20"
      },
      "source": [
        "nyc_df['pickup_timeofday']=nyc_df['pickup_hour'].apply(time_of_day)\n",
        "nyc_df['dropoff_timeofday']=nyc_df['dropoff_hour'].apply(time_of_day)"
      ],
      "execution_count": null,
      "outputs": []
    },
    {
      "cell_type": "code",
      "metadata": {
        "colab": {
          "base_uri": "https://localhost:8080/"
        },
        "id": "WXFJ1xvevgRY",
        "outputId": "73fad1de-6d39-4212-d321-5bdb3358e3cb"
      },
      "source": [
        "#check the value of dropoff time of day\n",
        "nyc_df['dropoff_timeofday'].value_counts()"
      ],
      "execution_count": null,
      "outputs": [
        {
          "output_type": "execute_result",
          "data": {
            "text/plain": [
              "Evening       489912\n",
              "Morning       343679\n",
              "Late night    336741\n",
              "Afternoon     288312\n",
              "Name: dropoff_timeofday, dtype: int64"
            ]
          },
          "metadata": {},
          "execution_count": 21
        }
      ]
    },
    {
      "cell_type": "code",
      "metadata": {
        "id": "32Su64k5TrBk"
      },
      "source": [
        "# calculate duration of the trip\n",
        "nyc_df['duration_trip'] = nyc_df['dropoff_datetime']-nyc_df['pickup_datetime']"
      ],
      "execution_count": null,
      "outputs": []
    },
    {
      "cell_type": "code",
      "metadata": {
        "colab": {
          "base_uri": "https://localhost:8080/"
        },
        "id": "Qlm6QJitUCIK",
        "outputId": "78a8feb9-6078-462c-cbb7-02a88ce29805"
      },
      "source": [
        "nyc_df['duration_trip']"
      ],
      "execution_count": null,
      "outputs": [
        {
          "output_type": "execute_result",
          "data": {
            "text/plain": [
              "0         0 days 00:07:35\n",
              "1         0 days 00:11:03\n",
              "2         0 days 00:35:24\n",
              "3         0 days 00:07:09\n",
              "4         0 days 00:07:15\n",
              "                ...      \n",
              "1458639   0 days 00:12:58\n",
              "1458640   0 days 00:10:55\n",
              "1458641   0 days 00:12:44\n",
              "1458642   0 days 00:06:13\n",
              "1458643   0 days 00:03:18\n",
              "Name: duration_trip, Length: 1458644, dtype: timedelta64[ns]"
            ]
          },
          "metadata": {},
          "execution_count": 23
        }
      ]
    },
    {
      "cell_type": "markdown",
      "metadata": {
        "id": "Tj5FbKfA4B5w"
      },
      "source": [
        "Importing the library which lets us calculate distance from geographical coordinates"
      ]
    },
    {
      "cell_type": "code",
      "metadata": {
        "id": "xR9WhOZaS0IY"
      },
      "source": [
        "from geopy.distance import great_circle"
      ],
      "execution_count": null,
      "outputs": []
    },
    {
      "cell_type": "markdown",
      "metadata": {
        "id": "xj132Kkh4Pxr"
      },
      "source": [
        "Defining a function to take coordinates as inputs and return us distance."
      ]
    },
    {
      "cell_type": "code",
      "metadata": {
        "id": "9ywkb7GyrbmZ"
      },
      "source": [
        "def cal_distance(pickup_lat,pickup_long,dropoff_lat,dropoff_long):\n",
        " \n",
        " start_coordinates=(pickup_lat,pickup_long)\n",
        " stop_coordinates=(dropoff_lat,dropoff_long)\n",
        " \n",
        " return great_circle(start_coordinates,stop_coordinates).km"
      ],
      "execution_count": null,
      "outputs": []
    },
    {
      "cell_type": "markdown",
      "metadata": {
        "id": "06HPr-3p4YvC"
      },
      "source": [
        "Finally, applying the function to our dataset and creating the feature ‘distance’."
      ]
    },
    {
      "cell_type": "code",
      "metadata": {
        "id": "J7eW88y0tLan"
      },
      "source": [
        "nyc_df['distance'] = nyc_df.apply(lambda x: cal_distance(x['pickup_latitude'],x['pickup_longitude'],x['dropoff_latitude'],x['dropoff_longitude'] ), axis=1)"
      ],
      "execution_count": null,
      "outputs": []
    },
    {
      "cell_type": "markdown",
      "metadata": {
        "id": "t_-xBdQFBFc_"
      },
      "source": [
        "Now let us re-run and see what the head looks like now with these new features."
      ]
    },
    {
      "cell_type": "code",
      "metadata": {
        "colab": {
          "base_uri": "https://localhost:8080/",
          "height": 309
        },
        "id": "_gPrN965-hrQ",
        "outputId": "b369bcdd-b8d3-48a3-8474-c8031c6557ec"
      },
      "source": [
        "nyc_df.head()"
      ],
      "execution_count": null,
      "outputs": [
        {
          "output_type": "execute_result",
          "data": {
            "text/html": [
              "<div>\n",
              "<style scoped>\n",
              "    .dataframe tbody tr th:only-of-type {\n",
              "        vertical-align: middle;\n",
              "    }\n",
              "\n",
              "    .dataframe tbody tr th {\n",
              "        vertical-align: top;\n",
              "    }\n",
              "\n",
              "    .dataframe thead th {\n",
              "        text-align: right;\n",
              "    }\n",
              "</style>\n",
              "<table border=\"1\" class=\"dataframe\">\n",
              "  <thead>\n",
              "    <tr style=\"text-align: right;\">\n",
              "      <th></th>\n",
              "      <th>id</th>\n",
              "      <th>vendor_id</th>\n",
              "      <th>pickup_datetime</th>\n",
              "      <th>dropoff_datetime</th>\n",
              "      <th>passenger_count</th>\n",
              "      <th>pickup_longitude</th>\n",
              "      <th>pickup_latitude</th>\n",
              "      <th>dropoff_longitude</th>\n",
              "      <th>dropoff_latitude</th>\n",
              "      <th>store_and_fwd_flag</th>\n",
              "      <th>trip_duration</th>\n",
              "      <th>pickup_day</th>\n",
              "      <th>dropoff_day</th>\n",
              "      <th>pickup_day_no</th>\n",
              "      <th>dropoff_day_no</th>\n",
              "      <th>pickup_hour</th>\n",
              "      <th>dropoff_hour</th>\n",
              "      <th>pickup_month</th>\n",
              "      <th>dropoff_month</th>\n",
              "      <th>pickup_time_of_day</th>\n",
              "      <th>dropoff_time_of_day</th>\n",
              "      <th>pickup_timeofday</th>\n",
              "      <th>dropoff_timeofday</th>\n",
              "      <th>duration_trip</th>\n",
              "      <th>distance</th>\n",
              "    </tr>\n",
              "  </thead>\n",
              "  <tbody>\n",
              "    <tr>\n",
              "      <th>0</th>\n",
              "      <td>id2875421</td>\n",
              "      <td>2</td>\n",
              "      <td>2016-03-14 17:24:55</td>\n",
              "      <td>2016-03-14 17:32:30</td>\n",
              "      <td>1</td>\n",
              "      <td>-73.982155</td>\n",
              "      <td>40.767937</td>\n",
              "      <td>-73.964630</td>\n",
              "      <td>40.765602</td>\n",
              "      <td>N</td>\n",
              "      <td>455</td>\n",
              "      <td>Monday</td>\n",
              "      <td>Monday</td>\n",
              "      <td>0</td>\n",
              "      <td>0</td>\n",
              "      <td>17</td>\n",
              "      <td>17</td>\n",
              "      <td>3</td>\n",
              "      <td>3</td>\n",
              "      <td>Late night</td>\n",
              "      <td>Late night</td>\n",
              "      <td>Evening</td>\n",
              "      <td>Evening</td>\n",
              "      <td>0 days 00:07:35</td>\n",
              "      <td>1.498523</td>\n",
              "    </tr>\n",
              "    <tr>\n",
              "      <th>1</th>\n",
              "      <td>id2377394</td>\n",
              "      <td>1</td>\n",
              "      <td>2016-06-12 00:43:35</td>\n",
              "      <td>2016-06-12 00:54:38</td>\n",
              "      <td>1</td>\n",
              "      <td>-73.980415</td>\n",
              "      <td>40.738564</td>\n",
              "      <td>-73.999481</td>\n",
              "      <td>40.731152</td>\n",
              "      <td>N</td>\n",
              "      <td>663</td>\n",
              "      <td>Sunday</td>\n",
              "      <td>Sunday</td>\n",
              "      <td>6</td>\n",
              "      <td>6</td>\n",
              "      <td>0</td>\n",
              "      <td>0</td>\n",
              "      <td>6</td>\n",
              "      <td>6</td>\n",
              "      <td>Late night</td>\n",
              "      <td>Late night</td>\n",
              "      <td>Late night</td>\n",
              "      <td>Late night</td>\n",
              "      <td>0 days 00:11:03</td>\n",
              "      <td>1.805510</td>\n",
              "    </tr>\n",
              "    <tr>\n",
              "      <th>2</th>\n",
              "      <td>id3858529</td>\n",
              "      <td>2</td>\n",
              "      <td>2016-01-19 11:35:24</td>\n",
              "      <td>2016-01-19 12:10:48</td>\n",
              "      <td>1</td>\n",
              "      <td>-73.979027</td>\n",
              "      <td>40.763939</td>\n",
              "      <td>-74.005333</td>\n",
              "      <td>40.710087</td>\n",
              "      <td>N</td>\n",
              "      <td>2124</td>\n",
              "      <td>Tuesday</td>\n",
              "      <td>Tuesday</td>\n",
              "      <td>1</td>\n",
              "      <td>1</td>\n",
              "      <td>11</td>\n",
              "      <td>12</td>\n",
              "      <td>1</td>\n",
              "      <td>1</td>\n",
              "      <td>Late night</td>\n",
              "      <td>Late night</td>\n",
              "      <td>Morning</td>\n",
              "      <td>Afternoon</td>\n",
              "      <td>0 days 00:35:24</td>\n",
              "      <td>6.385108</td>\n",
              "    </tr>\n",
              "    <tr>\n",
              "      <th>3</th>\n",
              "      <td>id3504673</td>\n",
              "      <td>2</td>\n",
              "      <td>2016-04-06 19:32:31</td>\n",
              "      <td>2016-04-06 19:39:40</td>\n",
              "      <td>1</td>\n",
              "      <td>-74.010040</td>\n",
              "      <td>40.719971</td>\n",
              "      <td>-74.012268</td>\n",
              "      <td>40.706718</td>\n",
              "      <td>N</td>\n",
              "      <td>429</td>\n",
              "      <td>Wednesday</td>\n",
              "      <td>Wednesday</td>\n",
              "      <td>2</td>\n",
              "      <td>2</td>\n",
              "      <td>19</td>\n",
              "      <td>19</td>\n",
              "      <td>4</td>\n",
              "      <td>4</td>\n",
              "      <td>Late night</td>\n",
              "      <td>Late night</td>\n",
              "      <td>Evening</td>\n",
              "      <td>Evening</td>\n",
              "      <td>0 days 00:07:09</td>\n",
              "      <td>1.485501</td>\n",
              "    </tr>\n",
              "    <tr>\n",
              "      <th>4</th>\n",
              "      <td>id2181028</td>\n",
              "      <td>2</td>\n",
              "      <td>2016-03-26 13:30:55</td>\n",
              "      <td>2016-03-26 13:38:10</td>\n",
              "      <td>1</td>\n",
              "      <td>-73.973053</td>\n",
              "      <td>40.793209</td>\n",
              "      <td>-73.972923</td>\n",
              "      <td>40.782520</td>\n",
              "      <td>N</td>\n",
              "      <td>435</td>\n",
              "      <td>Saturday</td>\n",
              "      <td>Saturday</td>\n",
              "      <td>5</td>\n",
              "      <td>5</td>\n",
              "      <td>13</td>\n",
              "      <td>13</td>\n",
              "      <td>3</td>\n",
              "      <td>3</td>\n",
              "      <td>Late night</td>\n",
              "      <td>Late night</td>\n",
              "      <td>Afternoon</td>\n",
              "      <td>Afternoon</td>\n",
              "      <td>0 days 00:07:15</td>\n",
              "      <td>1.188590</td>\n",
              "    </tr>\n",
              "  </tbody>\n",
              "</table>\n",
              "</div>"
            ],
            "text/plain": [
              "          id  vendor_id  ...   duration_trip  distance\n",
              "0  id2875421          2  ... 0 days 00:07:35  1.498523\n",
              "1  id2377394          1  ... 0 days 00:11:03  1.805510\n",
              "2  id3858529          2  ... 0 days 00:35:24  6.385108\n",
              "3  id3504673          2  ... 0 days 00:07:09  1.485501\n",
              "4  id2181028          2  ... 0 days 00:07:15  1.188590\n",
              "\n",
              "[5 rows x 25 columns]"
            ]
          },
          "metadata": {},
          "execution_count": 27
        }
      ]
    },
    {
      "cell_type": "markdown",
      "metadata": {
        "id": "CZivpwR_BSU5"
      },
      "source": [
        "# **Univariate Analysis**"
      ]
    },
    {
      "cell_type": "markdown",
      "metadata": {
        "id": "osAohdTZB5n4"
      },
      "source": [
        "The univariate analysis involves studying patterns of all variables individually."
      ]
    },
    {
      "cell_type": "markdown",
      "metadata": {
        "id": "-MxyCVsrB_RA"
      },
      "source": [
        "# Target Variable"
      ]
    },
    {
      "cell_type": "markdown",
      "metadata": {
        "id": "ld8KcEOaCIO2"
      },
      "source": [
        "Let us start by analyzing the target variable."
      ]
    },
    {
      "cell_type": "markdown",
      "metadata": {
        "id": "cQTbu36cPbWb"
      },
      "source": [
        "Let us start by analyzing the target variable."
      ]
    },
    {
      "cell_type": "code",
      "metadata": {
        "colab": {
          "base_uri": "https://localhost:8080/",
          "height": 313
        },
        "id": "5sj9RG89VFIw",
        "outputId": "f11d3370-d981-4d8f-d65a-5925d3490bed"
      },
      "source": [
        "sns.histplot(nyc_df['trip_duration'],kde=False,bins=20)"
      ],
      "execution_count": null,
      "outputs": [
        {
          "output_type": "execute_result",
          "data": {
            "text/plain": [
              "<matplotlib.axes._subplots.AxesSubplot at 0x7f43eecf6750>"
            ]
          },
          "metadata": {},
          "execution_count": 28
        },
        {
          "output_type": "display_data",
          "data": {
            "image/png": "[encoded data removed]",
            "text/plain": [
              "<Figure size 432x288 with 1 Axes>"
            ]
          },
          "metadata": {
            "needs_background": "light"
          }
        }
      ]
    },
    {
      "cell_type": "markdown",
      "metadata": {
        "id": "MZSyKTq1PkHl"
      },
      "source": [
        "The histogram is really skewed as we can see."
      ]
    },
    {
      "cell_type": "markdown",
      "metadata": {
        "id": "JtSc7FgQPqzT"
      },
      "source": [
        "Let us also look at the boxplot."
      ]
    },
    {
      "cell_type": "code",
      "metadata": {
        "colab": {
          "base_uri": "https://localhost:8080/",
          "height": 302
        },
        "id": "v5NjIfocr2hd",
        "outputId": "2f84d371-d95b-4620-df31-97c3f66b3fc7"
      },
      "source": [
        "sns.boxplot(nyc_df['trip_duration'])"
      ],
      "execution_count": null,
      "outputs": [
        {
          "output_type": "execute_result",
          "data": {
            "text/plain": [
              "<matplotlib.axes._subplots.AxesSubplot at 0x7f43baca4f10>"
            ]
          },
          "metadata": {},
          "execution_count": 29
        },
        {
          "output_type": "display_data",
          "data": {
            "image/png": "[encoded data removed]",
            "text/plain": [
              "<Figure size 432x288 with 1 Axes>"
            ]
          },
          "metadata": {
            "needs_background": "light"
          }
        }
      ]
    },
    {
      "cell_type": "markdown",
      "metadata": {
        "id": "RF4R3pKfbxYd"
      },
      "source": [
        "We can clearly see an outlier."
      ]
    },
    {
      "cell_type": "code",
      "metadata": {
        "colab": {
          "base_uri": "https://localhost:8080/"
        },
        "id": "A6qqm5uasRMm",
        "outputId": "e2b772b0-260d-471a-8cd0-ae53c84f15b4"
      },
      "source": [
        "nyc_df['trip_duration'].sort_values(ascending=False)"
      ],
      "execution_count": null,
      "outputs": [
        {
          "output_type": "execute_result",
          "data": {
            "text/plain": [
              "978383     3526282\n",
              "924150     2227612\n",
              "680594     2049578\n",
              "355003     1939736\n",
              "1234291      86392\n",
              "            ...   \n",
              "1034341          1\n",
              "346102           1\n",
              "1360664          1\n",
              "1382872          1\n",
              "207497           1\n",
              "Name: trip_duration, Length: 1458644, dtype: int64"
            ]
          },
          "metadata": {},
          "execution_count": 30
        }
      ]
    },
    {
      "cell_type": "markdown",
      "metadata": {
        "id": "N4PjpXNZdrIr"
      },
      "source": [
        "We can see that there is an entry which is significantly different from others."
      ]
    },
    {
      "cell_type": "markdown",
      "metadata": {
        "id": "EMc9vfiEd10-"
      },
      "source": [
        "# Vendor id"
      ]
    },
    {
      "cell_type": "code",
      "metadata": {
        "colab": {
          "base_uri": "https://localhost:8080/",
          "height": 302
        },
        "id": "ycFyYcu9X0Fj",
        "outputId": "d30b0262-21e1-42df-c2e6-dfbc43e9a2e5"
      },
      "source": [
        "sns.countplot(x='vendor_id',data=nyc_df)"
      ],
      "execution_count": null,
      "outputs": [
        {
          "output_type": "execute_result",
          "data": {
            "text/plain": [
              "<matplotlib.axes._subplots.AxesSubplot at 0x7f43b869ba10>"
            ]
          },
          "metadata": {},
          "execution_count": 31
        },
        {
          "output_type": "display_data",
          "data": {
            "image/png": "[encoded data removed]",
            "text/plain": [
              "<Figure size 432x288 with 1 Axes>"
            ]
          },
          "metadata": {
            "needs_background": "light"
          }
        }
      ]
    },
    {
      "cell_type": "markdown",
      "metadata": {
        "id": "GSRf04ooeUYX"
      },
      "source": [
        "We see that there is not much difference between the trips taken by both vendors"
      ]
    },
    {
      "cell_type": "markdown",
      "metadata": {
        "id": "p-mFLc9YeaNF"
      },
      "source": [
        "# Passenger count"
      ]
    },
    {
      "cell_type": "code",
      "metadata": {
        "colab": {
          "base_uri": "https://localhost:8080/"
        },
        "id": "padvpmb-X_2L",
        "outputId": "07442c71-07c1-4c76-b15d-f26ee9fe68ba"
      },
      "source": [
        "nyc_df.passenger_count.value_counts()"
      ],
      "execution_count": null,
      "outputs": [
        {
          "output_type": "execute_result",
          "data": {
            "text/plain": [
              "1    1033540\n",
              "2     210318\n",
              "5      78088\n",
              "3      59896\n",
              "6      48333\n",
              "4      28404\n",
              "0         60\n",
              "7          3\n",
              "9          1\n",
              "8          1\n",
              "Name: passenger_count, dtype: int64"
            ]
          },
          "metadata": {},
          "execution_count": 32
        }
      ]
    },
    {
      "cell_type": "markdown",
      "metadata": {
        "id": "GOR-uWGHe-bh"
      },
      "source": [
        "There are some trips with even 0 passenger count.\n",
        "\n",
        "There is only 1 trip each for 7,8 and 9 passengers."
      ]
    },
    {
      "cell_type": "code",
      "metadata": {
        "colab": {
          "base_uri": "https://localhost:8080/",
          "height": 313
        },
        "id": "H5qa8dAkYU-9",
        "outputId": "a8d01d3d-0134-4ac5-8798-2c9688e8ff28"
      },
      "source": [
        "sns.countplot(x='passenger_count',data=nyc_df)"
      ],
      "execution_count": null,
      "outputs": [
        {
          "output_type": "execute_result",
          "data": {
            "text/plain": [
              "<matplotlib.axes._subplots.AxesSubplot at 0x7f43b7705b10>"
            ]
          },
          "metadata": {},
          "execution_count": 33
        },
        {
          "output_type": "display_data",
          "data": {
            "image/png": "[encoded data removed]",
            "text/plain": [
              "<Figure size 432x288 with 1 Axes>"
            ]
          },
          "metadata": {
            "needs_background": "light"
          }
        }
      ]
    },
    {
      "cell_type": "markdown",
      "metadata": {
        "id": "xSR4v0XAfS5P"
      },
      "source": [
        "We see the highest amount of trips are with 1 passenger."
      ]
    },
    {
      "cell_type": "markdown",
      "metadata": {
        "id": "YVLSEuhEfVK4"
      },
      "source": [
        "Let us remove the rows which have 0 or 7 or 8 or 9 passenger count."
      ]
    },
    {
      "cell_type": "code",
      "metadata": {
        "id": "jtzD2G-LYncn"
      },
      "source": [
        "nyc_df=nyc_df[nyc_df['passenger_count']!=0]\n",
        "nyc_df=nyc_df[nyc_df['passenger_count']<=6]"
      ],
      "execution_count": null,
      "outputs": []
    },
    {
      "cell_type": "markdown",
      "metadata": {
        "id": "2Lnx49kRjgPn"
      },
      "source": [
        "Now, let’s see our value counts again."
      ]
    },
    {
      "cell_type": "code",
      "metadata": {
        "colab": {
          "base_uri": "https://localhost:8080/"
        },
        "id": "bIStoSfxZJjG",
        "outputId": "0767a16d-1ba2-40e2-b355-abc6af729ecc"
      },
      "source": [
        "nyc_df.passenger_count.value_counts()"
      ],
      "execution_count": null,
      "outputs": [
        {
          "output_type": "execute_result",
          "data": {
            "text/plain": [
              "1    1033540\n",
              "2     210318\n",
              "5      78088\n",
              "3      59896\n",
              "6      48333\n",
              "4      28404\n",
              "Name: passenger_count, dtype: int64"
            ]
          },
          "metadata": {},
          "execution_count": 35
        }
      ]
    },
    {
      "cell_type": "markdown",
      "metadata": {
        "id": "VfarXxy5jomU"
      },
      "source": [
        "# Store and Forward Flag"
      ]
    },
    {
      "cell_type": "code",
      "metadata": {
        "id": "HF_r2MADZf7x",
        "colab": {
          "base_uri": "https://localhost:8080/"
        },
        "outputId": "f952db52-168f-49ea-df84-8dd9f784a2c2"
      },
      "source": [
        "nyc_df['store_and_fwd_flag'].value_counts(normalize=True)"
      ],
      "execution_count": null,
      "outputs": [
        {
          "output_type": "execute_result",
          "data": {
            "text/plain": [
              "N    0.994486\n",
              "Y    0.005514\n",
              "Name: store_and_fwd_flag, dtype: float64"
            ]
          },
          "metadata": {},
          "execution_count": 36
        }
      ]
    },
    {
      "cell_type": "markdown",
      "metadata": {
        "id": "DaSbjC06jzb1"
      },
      "source": [
        "We see there are less than 1% of trips that were stored before forwarding."
      ]
    },
    {
      "cell_type": "markdown",
      "metadata": {
        "id": "Z1aNlzgHyi2T"
      },
      "source": [
        "Above result shows that only about 1% of the trip details were stored in the vehicle first before sending it to the server. This might have occured because of the following reasons:\n",
        "\n",
        "Outstation trips didn't had proper connection at the time when trip completes.\n",
        "\n",
        "Temporary loss of signals while the trip was about to finish\n",
        "\n",
        "Inconsistent signal reception over the trip duration.\n",
        "\n",
        "The GPS or mobile device battery was down when the trip finished."
      ]
    },
    {
      "cell_type": "markdown",
      "metadata": {
        "id": "IK_piRfSj8zQ"
      },
      "source": [
        "# Distance"
      ]
    },
    {
      "cell_type": "code",
      "metadata": {
        "colab": {
          "base_uri": "https://localhost:8080/"
        },
        "id": "FCaHJOXQs0Ds",
        "outputId": "0c0a80f3-cc80-48d1-cee7-67218477a2f3"
      },
      "source": [
        "nyc_df['distance'].value_counts()"
      ],
      "execution_count": null,
      "outputs": [
        {
          "output_type": "execute_result",
          "data": {
            "text/plain": [
              "0.000000     5887\n",
              "0.000424       47\n",
              "0.000424       44\n",
              "0.000424       36\n",
              "0.000424       18\n",
              "             ... \n",
              "21.041878       1\n",
              "1.495052        1\n",
              "3.397905        1\n",
              "7.866919        1\n",
              "2.882464        1\n",
              "Name: distance, Length: 1452298, dtype: int64"
            ]
          },
          "metadata": {},
          "execution_count": 37
        }
      ]
    },
    {
      "cell_type": "markdown",
      "metadata": {
        "id": "5OjX9CKQkx02"
      },
      "source": [
        "We see there are 2893 trips with 0 km distance."
      ]
    },
    {
      "cell_type": "markdown",
      "metadata": {
        "id": "Uzd2Nj0vk0l5"
      },
      "source": [
        "The reasons for 0 km distance can be:\n",
        "\n",
        "The dropoff location couldn’t be tracked.\n",
        "\n",
        "The driver deliberately took this ride to complete a target ride number.\n",
        "\n",
        "The passengers canceled the trip.\n",
        "\n",
        "We will analyze these trips further in bivariate analysis"
      ]
    },
    {
      "cell_type": "markdown",
      "metadata": {
        "id": "APuVMDHFlNvD"
      },
      "source": [
        "# Trips per day"
      ]
    },
    {
      "cell_type": "code",
      "metadata": {
        "colab": {
          "base_uri": "https://localhost:8080/",
          "height": 355
        },
        "id": "0dfNBNMlunZq",
        "outputId": "0dff96bf-2c2e-4578-fd00-07927a925b47"
      },
      "source": [
        "figure,(ax1,ax2)=plt.subplots(ncols=2,figsize=(12,5))\n",
        "ax1.set_title('Pickup Days')\n",
        "ax=sns.countplot(x=\"pickup_day\",data=nyc_df,ax=ax1)\n",
        "ax2.set_title('Dropoff Days')\n",
        "ax=sns.countplot(x=\"dropoff_day\",data=nyc_df,ax=ax2)"
      ],
      "execution_count": null,
      "outputs": [
        {
          "output_type": "display_data",
          "data": {
            "image/png": "[encoded data removed]",
            "text/plain": [
              "<Figure size 864x360 with 2 Axes>"
            ]
          },
          "metadata": {
            "needs_background": "light"
          }
        }
      ]
    },
    {
      "cell_type": "markdown",
      "metadata": {
        "id": "gHOk6Cw4lnX6"
      },
      "source": [
        "We see Fridays are the busiest days followed by Saturdays. That is probably because it’s weekend."
      ]
    },
    {
      "cell_type": "code",
      "metadata": {
        "colab": {
          "base_uri": "https://localhost:8080/"
        },
        "id": "nMajPfi949Fa",
        "outputId": "5934f644-36aa-464e-f887-298d4e55a77a"
      },
      "source": [
        "nyc_df['pickup_day'].value_counts()"
      ],
      "execution_count": null,
      "outputs": [
        {
          "output_type": "execute_result",
          "data": {
            "text/plain": [
              "Friday       223521\n",
              "Saturday     220855\n",
              "Thursday     218566\n",
              "Wednesday    210132\n",
              "Tuesday      202745\n",
              "Sunday       195352\n",
              "Monday       187408\n",
              "Name: pickup_day, dtype: int64"
            ]
          },
          "metadata": {},
          "execution_count": 39
        }
      ]
    },
    {
      "cell_type": "code",
      "metadata": {
        "colab": {
          "base_uri": "https://localhost:8080/"
        },
        "id": "82xOxwTM5Bd3",
        "outputId": "7a73fc70-0987-4f8d-98ab-f449dcfa7026"
      },
      "source": [
        "nyc_df['dropoff_day'].value_counts()"
      ],
      "execution_count": null,
      "outputs": [
        {
          "output_type": "execute_result",
          "data": {
            "text/plain": [
              "Friday       223020\n",
              "Saturday     220888\n",
              "Thursday     217738\n",
              "Wednesday    209786\n",
              "Tuesday      202513\n",
              "Sunday       197210\n",
              "Monday       187424\n",
              "Name: dropoff_day, dtype: int64"
            ]
          },
          "metadata": {},
          "execution_count": 40
        }
      ]
    },
    {
      "cell_type": "markdown",
      "metadata": {
        "id": "sy5PzGShvG2B"
      },
      "source": [
        "# Trips per Day"
      ]
    },
    {
      "cell_type": "code",
      "metadata": {
        "colab": {
          "base_uri": "https://localhost:8080/",
          "height": 513
        },
        "id": "aELpA2Fm5aMO",
        "outputId": "28b29bab-9031-4eff-d3d4-bb1a3961c7ea"
      },
      "source": [
        "figure,ax=plt.subplots(nrows=2,ncols=1,figsize=(7,7))\n",
        "sns.countplot(x='pickup_day',data=nyc_df,ax=ax[0])\n",
        "\n",
        "ax[0].set_title('Number of Pickups done on each day of the week')\n",
        "sns.countplot(x='dropoff_day',data=nyc_df,ax=ax[1])\n",
        "\n",
        "ax[1].set_title('Number of dropoffs done on each day of the week')\n",
        "plt.tight_layout()"
      ],
      "execution_count": null,
      "outputs": [
        {
          "output_type": "display_data",
          "data": {
            "image/png": "[encoded data removed]",
            "text/plain": [
              "<Figure size 504x504 with 2 Axes>"
            ]
          },
          "metadata": {
            "needs_background": "light"
          }
        }
      ]
    },
    {
      "cell_type": "markdown",
      "metadata": {
        "id": "8bcufBmkvmL0"
      },
      "source": [
        "**Trips per Hour**"
      ]
    },
    {
      "cell_type": "code",
      "metadata": {
        "colab": {
          "base_uri": "https://localhost:8080/",
          "height": 355
        },
        "id": "WvCO4g2WvRw2",
        "outputId": "60ffc096-8873-4891-ddab-02a0b8c4f551"
      },
      "source": [
        "figure,(ax9,ax10)=plt.subplots(ncols=2,figsize=(15,5))\n",
        "ax9.set_title('Pickup Days')\n",
        "ax=sns.countplot(x=\"pickup_hour\",data=nyc_df,ax=ax9)\n",
        "ax10.set_title('Dropoff Days')\n",
        "ax=sns.countplot(x=\"dropoff_hour\",data=nyc_df,ax=ax10)"
      ],
      "execution_count": null,
      "outputs": [
        {
          "output_type": "display_data",
          "data": {
            "image/png": "[encoded data removed]",
            "text/plain": [
              "<Figure size 1080x360 with 2 Axes>"
            ]
          },
          "metadata": {
            "needs_background": "light"
          }
        }
      ]
    },
    {
      "cell_type": "markdown",
      "metadata": {
        "id": "Og7Ze38HmZ8h"
      },
      "source": [
        "We see the busiest hours are 6:00 pm to 7:00 pm and that makes sense as this is the time when people return from their offices."
      ]
    },
    {
      "cell_type": "markdown",
      "metadata": {
        "id": "HGhVPYJ-n1Fr"
      },
      "source": [
        "**Trips per Time of Day**"
      ]
    },
    {
      "cell_type": "code",
      "metadata": {
        "colab": {
          "base_uri": "https://localhost:8080/",
          "height": 355
        },
        "id": "sS15owhPvwdx",
        "outputId": "b9a1268b-39f8-4b10-fa39-f73dffc6f2bb"
      },
      "source": [
        "figure,(ax3,ax4)=plt.subplots(ncols=2,figsize=(12,5))\n",
        "ax3.set_title('Pickup Time of Day')\n",
        "ax=sns.countplot(x=\"pickup_timeofday\",data=nyc_df,ax=ax3)\n",
        "ax4.set_title('Dropoff Time of Day')\n",
        "ax=sns.countplot(x=\"dropoff_timeofday\",data=nyc_df,ax=ax4)"
      ],
      "execution_count": null,
      "outputs": [
        {
          "output_type": "display_data",
          "data": {
            "image/png": "[encoded data removed]",
            "text/plain": [
              "<Figure size 864x360 with 2 Axes>"
            ]
          },
          "metadata": {
            "needs_background": "light"
          }
        }
      ]
    },
    {
      "cell_type": "markdown",
      "metadata": {
        "id": "j9fMOup3nd3o"
      },
      "source": [
        "As we saw above, evenings are the busiest"
      ]
    },
    {
      "cell_type": "code",
      "metadata": {
        "colab": {
          "base_uri": "https://localhost:8080/",
          "height": 355
        },
        "id": "xeYwKQiOoL--",
        "outputId": "6d5f9b1e-cccc-4014-e51a-f19f0198d7f4"
      },
      "source": [
        "figure,(ax11,ax12)=plt.subplots(ncols=2,figsize=(10,5))\n",
        "ax11.set_title('Pickup Month')\n",
        "ax=sns.countplot(x=\"pickup_month\",data=nyc_df,ax=ax11)\n",
        "ax12.set_title('Dropoff Month')\n",
        "ax=sns.countplot(x=\"dropoff_month\",data=nyc_df,ax=ax12)\n"
      ],
      "execution_count": null,
      "outputs": [
        {
          "output_type": "display_data",
          "data": {
            "image/png": "[encoded data removed]",
            "text/plain": [
              "<Figure size 720x360 with 2 Axes>"
            ]
          },
          "metadata": {
            "needs_background": "light"
          }
        }
      ]
    },
    {
      "cell_type": "code",
      "metadata": {
        "colab": {
          "base_uri": "https://localhost:8080/",
          "height": 914
        },
        "id": "jD1UBcfRBfFm",
        "outputId": "324b8a3e-a2ea-445e-a1c6-f7e05d100b4c"
      },
      "source": [
        "sns.catplot(x=\"pickup_day\",y=\"trip_duration\",kind=\"bar\",data=nyc_df,height=6,aspect=1)\n",
        "plt.title('The Average Trip Duration per PickUp Day of the week')\n",
        "sns.catplot(x=\"dropoff_day\",y=\"trip_duration\",kind=\"bar\",data=nyc_df,height=6,aspect=1)\n",
        "plt.title('The Average Trip Duration per Dropoff Day of the week')"
      ],
      "execution_count": null,
      "outputs": [
        {
          "output_type": "execute_result",
          "data": {
            "text/plain": [
              "Text(0.5, 1.0, 'The Average Trip Duration per Dropoff Day of the week')"
            ]
          },
          "metadata": {},
          "execution_count": 45
        },
        {
          "output_type": "display_data",
          "data": {
            "image/png": "[encoded data removed]",
            "text/plain": [
              "<Figure size 432x432 with 1 Axes>"
            ]
          },
          "metadata": {
            "needs_background": "light"
          }
        },
        {
          "output_type": "display_data",
          "data": {
            "image/png": "[encoded data removed]",
            "text/plain": [
              "<Figure size 432x432 with 1 Axes>"
            ]
          },
          "metadata": {
            "needs_background": "light"
          }
        }
      ]
    },
    {
      "cell_type": "markdown",
      "metadata": {
        "id": "kWKPiw5spYSN"
      },
      "source": [
        "**Trip Duration per Store and Forward Flag**"
      ]
    },
    {
      "cell_type": "code",
      "metadata": {
        "colab": {
          "base_uri": "https://localhost:8080/",
          "height": 386
        },
        "id": "slkmnEwZDQHL",
        "outputId": "211c58c2-0fa6-4ae4-a822-c664fe4888ed"
      },
      "source": [
        "sns.catplot(x=\"store_and_fwd_flag\", y=\"trip_duration\",kind=\"strip\",data=nyc_df)"
      ],
      "execution_count": null,
      "outputs": [
        {
          "output_type": "execute_result",
          "data": {
            "text/plain": [
              "<seaborn.axisgrid.FacetGrid at 0x7f43bb17d3d0>"
            ]
          },
          "metadata": {},
          "execution_count": 46
        },
        {
          "output_type": "display_data",
          "data": {
            "image/png": "[encoded data removed]",
            "text/plain": [
              "<Figure size 360x360 with 1 Axes>"
            ]
          },
          "metadata": {
            "needs_background": "light"
          }
        }
      ]
    },
    {
      "cell_type": "markdown",
      "metadata": {
        "id": "0mp5nc0wq0js"
      },
      "source": [
        "Trip duration is generally longer for trips whose flag was not stored."
      ]
    },
    {
      "cell_type": "markdown",
      "metadata": {
        "id": "ZSGfN2OLq8rC"
      },
      "source": [
        "**Trip Duration per passenger count**"
      ]
    },
    {
      "cell_type": "code",
      "metadata": {
        "colab": {
          "base_uri": "https://localhost:8080/",
          "height": 386
        },
        "id": "oFjWOaFarvIH",
        "outputId": "911c5052-4622-4034-ccfc-25d291565cae"
      },
      "source": [
        "sns.catplot(y='trip_duration',x='passenger_count',data=nyc_df,kind=\"strip\")"
      ],
      "execution_count": null,
      "outputs": [
        {
          "output_type": "execute_result",
          "data": {
            "text/plain": [
              "<seaborn.axisgrid.FacetGrid at 0x7f43b7f56bd0>"
            ]
          },
          "metadata": {},
          "execution_count": 47
        },
        {
          "output_type": "display_data",
          "data": {
            "image/png": "[encoded data removed]",
            "text/plain": [
              "<Figure size 360x360 with 1 Axes>"
            ]
          },
          "metadata": {
            "needs_background": "light"
          }
        }
      ]
    },
    {
      "cell_type": "markdown",
      "metadata": {
        "id": "QXeqRBrarlyA"
      },
      "source": [
        "There is no visible relation between trip duration and passenger count"
      ]
    },
    {
      "cell_type": "markdown",
      "metadata": {
        "id": "6liNrinysdYZ"
      },
      "source": [
        "**Trip duration per vendor id**"
      ]
    },
    {
      "cell_type": "code",
      "metadata": {
        "colab": {
          "base_uri": "https://localhost:8080/",
          "height": 386
        },
        "id": "SdS9WLvjEglj",
        "outputId": "21ed6f7f-28cb-4ec9-969c-48871e6af6c6"
      },
      "source": [
        "sns.catplot(x=\"vendor_id\", y=\"trip_duration\",kind=\"strip\",data=nyc_df)"
      ],
      "execution_count": null,
      "outputs": [
        {
          "output_type": "execute_result",
          "data": {
            "text/plain": [
              "<seaborn.axisgrid.FacetGrid at 0x7f43b66c7c10>"
            ]
          },
          "metadata": {},
          "execution_count": 48
        },
        {
          "output_type": "display_data",
          "data": {
            "image/png": "[encoded data removed]",
            "text/plain": [
              "<Figure size 360x360 with 1 Axes>"
            ]
          },
          "metadata": {
            "needs_background": "light"
          }
        }
      ]
    },
    {
      "cell_type": "markdown",
      "metadata": {
        "id": "VzgOzuYLsz7i"
      },
      "source": [
        "Vendor id 2 takes longer trips as compared to vendor 1."
      ]
    },
    {
      "cell_type": "markdown",
      "metadata": {
        "id": "YFoyB5zotF0I"
      },
      "source": [
        "**Trip Duration per hou**r"
      ]
    },
    {
      "cell_type": "code",
      "metadata": {
        "colab": {
          "base_uri": "https://localhost:8080/",
          "height": 302
        },
        "id": "EZL45kZntVPJ",
        "outputId": "c4d349fe-0de6-4b0d-aad7-9e7320907f13"
      },
      "source": [
        "sns.lineplot(x='pickup_hour',y='trip_duration',data=nyc_df)"
      ],
      "execution_count": null,
      "outputs": [
        {
          "output_type": "execute_result",
          "data": {
            "text/plain": [
              "<matplotlib.axes._subplots.AxesSubplot at 0x7f43b92a4710>"
            ]
          },
          "metadata": {},
          "execution_count": 49
        },
        {
          "output_type": "display_data",
          "data": {
            "image/png": "[encoded data removed]",
            "text/plain": [
              "<Figure size 432x288 with 1 Axes>"
            ]
          },
          "metadata": {
            "needs_background": "light"
          }
        }
      ]
    },
    {
      "cell_type": "markdown",
      "metadata": {
        "id": "OwSSiiGCuA2K"
      },
      "source": [
        "We see the trip duration is the maximum around 3 pm which may be because of traffic on the roads.\n",
        "Trip duration is the lowest around 6 am as streets may not be busy."
      ]
    },
    {
      "cell_type": "markdown",
      "metadata": {
        "id": "XXDfUncNudCA"
      },
      "source": [
        "**Trip Duration per time of day**"
      ]
    },
    {
      "cell_type": "code",
      "metadata": {
        "colab": {
          "base_uri": "https://localhost:8080/",
          "height": 305
        },
        "id": "uzng-2HQuIo7",
        "outputId": "da266d36-b53b-4a98-e3a8-c0b5b7ba19ef"
      },
      "source": [
        "sns.lineplot(x='pickup_timeofday',y='trip_duration',data=nyc_df)"
      ],
      "execution_count": null,
      "outputs": [
        {
          "output_type": "execute_result",
          "data": {
            "text/plain": [
              "<matplotlib.axes._subplots.AxesSubplot at 0x7f43b20e4dd0>"
            ]
          },
          "metadata": {},
          "execution_count": 50
        },
        {
          "output_type": "display_data",
          "data": {
            "image/png": "[encoded data removed]",
            "text/plain": [
              "<Figure size 432x288 with 1 Axes>"
            ]
          },
          "metadata": {
            "needs_background": "light"
          }
        }
      ]
    },
    {
      "cell_type": "markdown",
      "metadata": {
        "id": "GVQ3pf2OuqUl"
      },
      "source": [
        "As we saw above, trip duration is the maximum in the afternoon and lowest between late night and morning."
      ]
    },
    {
      "cell_type": "markdown",
      "metadata": {
        "id": "H2lO4DMUuuRJ"
      },
      "source": [
        "**Trip Duration per Day of Week**"
      ]
    },
    {
      "cell_type": "code",
      "metadata": {
        "colab": {
          "base_uri": "https://localhost:8080/",
          "height": 302
        },
        "id": "hI-TNqX_u46X",
        "outputId": "15872843-4a2c-47cf-bc18-31c66ab6b4d6"
      },
      "source": [
        "sns.lineplot(x='pickup_day_no',y='trip_duration',data=nyc_df)"
      ],
      "execution_count": null,
      "outputs": [
        {
          "output_type": "execute_result",
          "data": {
            "text/plain": [
              "<matplotlib.axes._subplots.AxesSubplot at 0x7f43b20ccf10>"
            ]
          },
          "metadata": {},
          "execution_count": 51
        },
        {
          "output_type": "display_data",
          "data": {
            "image/png": "[encoded data removed]",
            "text/plain": [
              "<Figure size 432x288 with 1 Axes>"
            ]
          },
          "metadata": {
            "needs_background": "light"
          }
        }
      ]
    },
    {
      "cell_type": "markdown",
      "metadata": {
        "id": "6p9LAsFqvVdX"
      },
      "source": [
        "Trip duration is the longest on Thursdays closely followed by Fridays.\n"
      ]
    },
    {
      "cell_type": "markdown",
      "metadata": {
        "id": "g7cAR8ChviA1"
      },
      "source": [
        "**Trip Duration per month**"
      ]
    },
    {
      "cell_type": "code",
      "metadata": {
        "colab": {
          "base_uri": "https://localhost:8080/",
          "height": 302
        },
        "id": "8pu7nh3TvqCi",
        "outputId": "0002015e-1626-4257-aaf5-b81cfa27534f"
      },
      "source": [
        "sns.lineplot(x='pickup_month',y='trip_duration',data=nyc_df)"
      ],
      "execution_count": null,
      "outputs": [
        {
          "output_type": "execute_result",
          "data": {
            "text/plain": [
              "<matplotlib.axes._subplots.AxesSubplot at 0x7f43b2103410>"
            ]
          },
          "metadata": {},
          "execution_count": 52
        },
        {
          "output_type": "display_data",
          "data": {
            "image/png": "[encoded data removed]",
            "text/plain": [
              "<Figure size 432x288 with 1 Axes>"
            ]
          },
          "metadata": {
            "needs_background": "light"
          }
        }
      ]
    },
    {
      "cell_type": "markdown",
      "metadata": {
        "id": "sdvACcnZv-Et"
      },
      "source": [
        "From February, we can see trip duration rising every month."
      ]
    },
    {
      "cell_type": "code",
      "metadata": {
        "id": "Mt-cuGnurFJl"
      },
      "source": [
        "import numpy as np\n"
      ],
      "execution_count": null,
      "outputs": []
    },
    {
      "cell_type": "markdown",
      "metadata": {
        "id": "95WvBxmL0Ks_"
      },
      "source": [
        "**Relationships Between Variables**"
      ]
    },
    {
      "cell_type": "markdown",
      "metadata": {
        "id": "_HDnJxqarhrX"
      },
      "source": [
        "\n",
        "\n",
        "Now that each feature has been explored individually, I will examine how they relate to the target variable as well as each other. Variables that are highly correlated (correlation cofficient >.70) are likely to convey redudant information and can be removed from the dataset. Reducing the data's dimentionality in this way will make the data easier to work with and allow for better model results."
      ]
    },
    {
      "cell_type": "code",
      "metadata": {
        "colab": {
          "base_uri": "https://localhost:8080/",
          "height": 756
        },
        "id": "DT7VPnWGqua2",
        "outputId": "43456f77-ff45-4632-886a-d254eccff200"
      },
      "source": [
        "corr = nyc_df.select_dtypes(include = ['float64', 'int64']).iloc[:, 1:].corr()\n",
        "cor_dict = corr['trip_duration'].to_dict()\n",
        "del cor_dict['trip_duration']\n",
        "print(\"List the numerical features in decending order by their correlation with trip_duration:\\n\")\n",
        "for ele in sorted(cor_dict.items(), key = lambda x: -abs(x[1])):\n",
        "    print(\"{0}: {1}\".format(*ele))\n",
        "    \n",
        "# Correlation matrix heatmap\n",
        "corrmat = nyc_df.corr()\n",
        "plt.figure(figsize=(12, 7))\n",
        "\n",
        "# Number of variables for heatmap\n",
        "k = 76\n",
        "cols = corrmat.nlargest(k, 'trip_duration')['trip_duration'].index\n",
        "cm = np.corrcoef(nyc_df[cols].values.T)\n",
        "\n",
        "# Generate mask for upper triangle\n",
        "mask = np.zeros_like(cm, dtype=np.bool)\n",
        "mask[np.triu_indices_from(mask)] = True\n",
        "\n",
        "sns.set(font_scale=1)\n",
        "sns.heatmap(cm, mask=mask, cbar=True, annot=True, square=True,\\\n",
        "                 fmt='.2f',annot_kws={'size': 12}, yticklabels=cols.values,\\\n",
        "                 xticklabels=cols.values, cmap = 'coolwarm',lw = .1)\n",
        "plt.show() "
      ],
      "execution_count": null,
      "outputs": [
        {
          "output_type": "stream",
          "name": "stdout",
          "text": [
            "List the numerical features in decending order by their correlation with trip_duration:\n",
            "\n",
            "distance: 0.09478990008762113\n",
            "pickup_latitude: -0.02917556143959524\n",
            "pickup_longitude: 0.02651552034109458\n",
            "dropoff_latitude: -0.020649437775950224\n",
            "dropoff_longitude: 0.01465074226653523\n",
            "passenger_count: 0.008482219881101427\n",
            "dropoff_month: 0.007496995994320165\n",
            "pickup_month: 0.006591528423158377\n",
            "pickup_hour: 0.0036843360638006543\n",
            "dropoff_hour: 0.002646208053336974\n",
            "dropoff_day_no: -0.0018643176143429412\n",
            "pickup_day_no: -0.0006871420338743639\n"
          ]
        },
        {
          "output_type": "display_data",
          "data": {
            "image/png": "[encoded data removed]",
            "text/plain": [
              "<Figure size 864x504 with 2 Axes>"
            ]
          },
          "metadata": {
            "needs_background": "light"
          }
        }
      ]
    },
    {
      "cell_type": "markdown",
      "metadata": {
        "id": "EGji74tS0mzO"
      },
      "source": [
        "**Correlations**"
      ]
    },
    {
      "cell_type": "markdown",
      "metadata": {
        "id": "rZVTW6Pfrv2X"
      },
      "source": [
        "Not suprisingly, the correlation coefficient of the coordinate features: pickup_latitude, pickup_longitude, dropoff_latitude, dropoff_longitude, indicates a linear relationship exists between them. However, this correlation is under .50 and is not strong enough to merit removal from the data set.\n",
        "\n",
        "There is a weak positive correlation between the longitude variables and trip_duration. There is also a weak negative correlation betwen the latitude variables and trip_duration.\n",
        "\n",
        "Otherwise, there doesn't appear to be much a of a linear relationship between our target variable and the remaining features."
      ]
    },
    {
      "cell_type": "code",
      "metadata": {
        "colab": {
          "base_uri": "https://localhost:8080/"
        },
        "id": "0c9jRTJWsczs",
        "outputId": "6a360965-7211-4a2d-e83d-dc84175bb916"
      },
      "source": [
        "nyc_df.columns"
      ],
      "execution_count": null,
      "outputs": [
        {
          "output_type": "execute_result",
          "data": {
            "text/plain": [
              "Index(['id', 'vendor_id', 'pickup_datetime', 'dropoff_datetime',\n",
              "       'passenger_count', 'pickup_longitude', 'pickup_latitude',\n",
              "       'dropoff_longitude', 'dropoff_latitude', 'store_and_fwd_flag',\n",
              "       'trip_duration', 'pickup_day', 'dropoff_day', 'pickup_day_no',\n",
              "       'dropoff_day_no', 'pickup_hour', 'dropoff_hour', 'pickup_month',\n",
              "       'dropoff_month', 'pickup_time_of_day', 'dropoff_time_of_day',\n",
              "       'pickup_timeofday', 'dropoff_timeofday', 'duration_trip', 'distance'],\n",
              "      dtype='object')"
            ]
          },
          "metadata": {},
          "execution_count": 55
        }
      ]
    },
    {
      "cell_type": "markdown",
      "metadata": {
        "id": "ZobOGHnY3v5u"
      },
      "source": [
        "**Model development**"
      ]
    },
    {
      "cell_type": "markdown",
      "metadata": {
        "id": "oZ7N6TZq34QU"
      },
      "source": [
        "Now that data is ready for model development, we are finally ready for  - building models! First, I will split the data into training and test sets. Next, I will feed these sets into a number of Regression algorithms to determine which learner is the most performant to use for."
      ]
    },
    {
      "cell_type": "code",
      "metadata": {
        "id": "rpNsi92ETiQk"
      },
      "source": [
        "nyc_df['store_and_fwd_flag'] = nyc_df['store_and_fwd_flag'].map({'N':0,'Y':1})"
      ],
      "execution_count": null,
      "outputs": []
    },
    {
      "cell_type": "code",
      "metadata": {
        "id": "oh_EzJwRsARv"
      },
      "source": [
        "# Split\n",
        "# Create matrix of features\n",
        "X = nyc_df[['vendor_id', 'passenger_count', 'pickup_longitude',\n",
        "       'pickup_latitude', 'dropoff_longitude', 'dropoff_latitude',\n",
        "       'store_and_fwd_flag','pickup_month', 'pickup_hour' ,'pickup_day_no'\n",
        "       ]]# double brackets!\n",
        "\n",
        "# Create array of target variable \n",
        "y = nyc_df['trip_duration']\n",
        "\n",
        "# Create train and test sets\n",
        "from sklearn.model_selection import train_test_split\n",
        "X_train, X_test, y_train, y_test = train_test_split(X, y, test_size = 0.2, random_state = 0)"
      ],
      "execution_count": null,
      "outputs": []
    },
    {
      "cell_type": "markdown",
      "metadata": {
        "id": "VQ9frCWh5xO8"
      },
      "source": [
        "During the training process, I will apply GridSearchCV() to use the best parameters possible to train the model"
      ]
    },
    {
      "cell_type": "markdown",
      "metadata": {
        "id": "7SjdP9iiIBZP"
      },
      "source": [
        "# **Decision Tree Regression**"
      ]
    },
    {
      "cell_type": "markdown",
      "metadata": {
        "id": "ILnCx4p7H3Dz"
      },
      "source": [
        " I will implement a Decision Tree Regressor first for three primary reasons:\n",
        "\n",
        "it is the easiest to interpret\n",
        "\n",
        "does not require feature scaling\n",
        "\n",
        "computationally less expensive than other methods"
      ]
    },
    {
      "cell_type": "code",
      "metadata": {
        "colab": {
          "base_uri": "https://localhost:8080/"
        },
        "id": "s7fQlllatmWD",
        "outputId": "9a541429-86bd-4754-affd-0ae626c53ea0"
      },
      "source": [
        "from sklearn.tree import DecisionTreeRegressor\n",
        "\n",
        "# Instantiate model object\n",
        "dtree = DecisionTreeRegressor()\n",
        "\n",
        "# Fit to training data\n",
        "dtree.fit(X_train,y_train)\n",
        "print(dtree)\n",
        "\n",
        "# Predict\n",
        "y_pred_dtree = dtree.predict(X_test)\n",
        "\n",
        "# Score It\n",
        "from sklearn import metrics\n",
        "print('\\nDecision Tree Regression Performance Metrics')\n",
        "print('R^2=',metrics.explained_variance_score(y_test,y_pred_dtree))\n",
        "print('MAE:',metrics.mean_absolute_error(y_test,y_pred_dtree))\n",
        "print('MSE:',metrics.mean_squared_error(y_test,y_pred_dtree))\n",
        "print('RMSE:',np.sqrt(metrics.mean_squared_error(y_test,y_pred_dtree)))"
      ],
      "execution_count": null,
      "outputs": [
        {
          "output_type": "stream",
          "name": "stdout",
          "text": [
            "DecisionTreeRegressor(ccp_alpha=0.0, criterion='mse', max_depth=None,\n",
            "                      max_features=None, max_leaf_nodes=None,\n",
            "                      min_impurity_decrease=0.0, min_impurity_split=None,\n",
            "                      min_samples_leaf=1, min_samples_split=2,\n",
            "                      min_weight_fraction_leaf=0.0, presort='deprecated',\n",
            "                      random_state=None, splitter='best')\n",
            "\n",
            "Decision Tree Regression Performance Metrics\n",
            "R^2= -2.6017592937938923\n",
            "MAE: 526.0123990456472\n",
            "MSE: 35249399.43959193\n",
            "RMSE: 5937.1204669934\n"
          ]
        }
      ]
    },
    {
      "cell_type": "code",
      "metadata": {
        "id": "2SwbHqthCPh2"
      },
      "source": [
        "from sklearn import tree\n",
        "from IPython.display import SVG\n",
        "from graphviz import Source\n",
        "from IPython.display import display"
      ],
      "execution_count": null,
      "outputs": []
    },
    {
      "cell_type": "markdown",
      "metadata": {
        "id": "cl5pL-KzN52P"
      },
      "source": [
        "# **Learning curve**"
      ]
    },
    {
      "cell_type": "markdown",
      "metadata": {
        "id": "F3nG0B-sOBCs"
      },
      "source": [
        "Learning curves constitute a great tool to diagnose bias and variance in any supervised learning algorithm. It shows how error changes as the training set size increases. We'll use the learning_curve() function from the scikit-learn library to generate a learning curve for the regression model. There's no need to put aside a validation set because learning_curve() will take care of that and that's why we will plot the learning curve over whole dataset."
      ]
    },
    {
      "cell_type": "code",
      "metadata": {
        "id": "wIMB38Au9ySP"
      },
      "source": [
        "import statsmodels.formula.api as sm\n",
        "from sklearn.model_selection import learning_curve\n",
        "from sklearn.model_selection import ShuffleSplit\n",
        "import warnings; warnings.simplefilter('ignore')"
      ],
      "execution_count": null,
      "outputs": []
    },
    {
      "cell_type": "code",
      "metadata": {
        "colab": {
          "base_uri": "https://localhost:8080/",
          "height": 377
        },
        "id": "Z-tvQG_xUgj5",
        "outputId": "31cc2f9c-c39f-447b-d0e0-132b5478d065"
      },
      "source": [
        "def learning_curves(estimator, title, features, target, train_sizes, cv, n_jobs=-1):\n",
        "    plt.figure(figsize = (14,5))\n",
        "    train_sizes, train_scores, validation_scores = learning_curve(estimator, features, target, train_sizes = train_sizes, cv = cv, scoring = 'neg_mean_squared_error',  n_jobs=n_jobs)\n",
        "    train_scores_mean = -train_scores.mean(axis = 1)\n",
        "    validation_scores_mean = -validation_scores.mean(axis = 1)\n",
        "    \n",
        "    plt.grid()\n",
        "    \n",
        "    plt.plot(train_sizes, train_scores_mean,'o-', color=\"r\", label = 'Training error')\n",
        "    plt.plot(train_sizes, validation_scores_mean,'o-', color=\"g\", label = 'Validation error')\n",
        "\n",
        "    plt.ylabel('MSE', fontsize = 14)\n",
        "    plt.xlabel('Training set size', fontsize = 14)\n",
        "    \n",
        "    title = 'Learning curves for a ' + title + ' model'\n",
        "    plt.title(title, fontsize = 18, loc='left')\n",
        "    \n",
        "    plt.legend(loc=\"best\")\n",
        "    \n",
        "    return plt\n",
        "\n",
        "# score curves, each time with 20% data randomly selected as a validation set.\n",
        "cv = ShuffleSplit(n_splits=10, test_size=0.2, random_state=4)\n",
        "\n",
        "# Plot learning curve for the RF Regressor\n",
        "title = \"Decision Tree Regressor\"\n",
        "\n",
        "# Call learning curve with all dataset i.e. traininig and test combined because CV will take of data split.\n",
        "learning_curves(dtree, title, X,y, train_sizes=np.linspace(.1, 1.0, 5), cv=cv, n_jobs=-1)\n",
        "\n"
      ],
      "execution_count": null,
      "outputs": [
        {
          "output_type": "execute_result",
          "data": {
            "text/plain": [
              "<module 'matplotlib.pyplot' from '/usr/local/lib/python3.7/dist-packages/matplotlib/pyplot.py'>"
            ]
          },
          "metadata": {},
          "execution_count": 61
        },
        {
          "output_type": "display_data",
          "data": {
            "image/png": "[encoded data removed]",
            "text/plain": [
              "<Figure size 1008x360 with 1 Axes>"
            ]
          },
          "metadata": {}
        }
      ]
    },
    {
      "cell_type": "code",
      "metadata": {
        "colab": {
          "base_uri": "https://localhost:8080/",
          "height": 197
        },
        "id": "gXz-2xcwpeW7",
        "outputId": "b73fe72b-9f66-4f41-8601-7bbb07729ee8"
      },
      "source": [
        "# Plot learning curve for the RF Regressor\n",
        "title = \"Random Forest Regressor\"\n",
        "\n",
        "# Call learning curve with all dataset i.e. traininig and test combined because CV will take of data split.\n",
        "learning_curves(random, title, X,y, train_sizes=np.linspace(.1, 1.0, 5), cv=cv, n_jobs=-1)"
      ],
      "execution_count": null,
      "outputs": [
        {
          "output_type": "error",
          "ename": "NameError",
          "evalue": "ignored",
          "traceback": [
            "\u001b[0;31m---------------------------------------------------------------------------\u001b[0m",
            "\u001b[0;31mNameError\u001b[0m                                 Traceback (most recent call last)",
            "\u001b[0;32m<ipython-input-1-e5fa8a4bd1c5>\u001b[0m in \u001b[0;36m<module>\u001b[0;34m()\u001b[0m\n\u001b[1;32m      3\u001b[0m \u001b[0;34m\u001b[0m\u001b[0m\n\u001b[1;32m      4\u001b[0m \u001b[0;31m# Call learning curve with all dataset i.e. traininig and test combined because CV will take of data split.\u001b[0m\u001b[0;34m\u001b[0m\u001b[0;34m\u001b[0m\u001b[0;34m\u001b[0m\u001b[0m\n\u001b[0;32m----> 5\u001b[0;31m \u001b[0mlearning_curves\u001b[0m\u001b[0;34m(\u001b[0m\u001b[0mrandom\u001b[0m\u001b[0;34m,\u001b[0m \u001b[0mtitle\u001b[0m\u001b[0;34m,\u001b[0m \u001b[0mX\u001b[0m\u001b[0;34m,\u001b[0m\u001b[0my\u001b[0m\u001b[0;34m,\u001b[0m \u001b[0mtrain_sizes\u001b[0m\u001b[0;34m=\u001b[0m\u001b[0mnp\u001b[0m\u001b[0;34m.\u001b[0m\u001b[0mlinspace\u001b[0m\u001b[0;34m(\u001b[0m\u001b[0;36m.1\u001b[0m\u001b[0;34m,\u001b[0m \u001b[0;36m1.0\u001b[0m\u001b[0;34m,\u001b[0m \u001b[0;36m5\u001b[0m\u001b[0;34m)\u001b[0m\u001b[0;34m,\u001b[0m \u001b[0mcv\u001b[0m\u001b[0;34m=\u001b[0m\u001b[0mcv\u001b[0m\u001b[0;34m,\u001b[0m \u001b[0mn_jobs\u001b[0m\u001b[0;34m=\u001b[0m\u001b[0;34m-\u001b[0m\u001b[0;36m1\u001b[0m\u001b[0;34m)\u001b[0m\u001b[0;34m\u001b[0m\u001b[0;34m\u001b[0m\u001b[0m\n\u001b[0m",
            "\u001b[0;31mNameError\u001b[0m: name 'learning_curves' is not defined"
          ]
        }
      ]
    }
  ]
}