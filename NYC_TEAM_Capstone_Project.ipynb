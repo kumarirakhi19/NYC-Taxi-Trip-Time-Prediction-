{
  "cells": [
    {
      "cell_type": "markdown",
      "metadata": {
        "id": "view-in-github",
        "colab_type": "text"
      },
      "source": [
        "<a href=\"https://colab.research.google.com/github/kumarirakhi19/NYC-Taxi-Trip-Time-Prediction-/blob/main/NYC_TEAM_Capstone_Project.ipynb\" target=\"_parent\"><img src=\"https://colab.research.google.com/assets/colab-badge.svg\" alt=\"Open In Colab\"/></a>"
      ]
    },
    {
      "cell_type": "markdown",
      "metadata": {
        "id": "tOGC-qoyhJeX"
      },
      "source": [
        "# <b><u> Project Title : Taxi trip time Prediction : Predicting total ride duration of taxi trips in New York City</u></b>"
      ]
    },
    {
      "cell_type": "markdown",
      "metadata": {
        "id": "Y06xIdG26kRF"
      },
      "source": [
        "## <b> Problem Description </b>\n",
        "\n",
        "### Your task is to build a model that predicts the total ride duration of taxi trips in New York City. Your primary dataset is one released by the NYC Taxi and Limousine Commission, which includes pickup time, geo-coordinates, number of passengers, and several other variables."
      ]
    },
    {
      "cell_type": "markdown",
      "metadata": {
        "id": "WWeU1f9bwqQq"
      },
      "source": [
        "## <b> Data Description </b>\n",
        "\n",
        "### The dataset is based on the 2016 NYC Yellow Cab trip record data made available in Big Query on Google Cloud Platform. The data was originally published by the NYC Taxi and Limousine Commission (TLC). The data was sampled and cleaned for the purposes of this project. Based on individual trip attributes, you should predict the duration of each trip in the test set.\n",
        "\n",
        "### <b>NYC Taxi Data.csv</b> - the training set (contains 1458644 trip records)\n",
        "\n",
        "\n",
        "### Data fields\n",
        "* #### id - a unique identifier for each trip\n",
        "* #### vendor_id - a code indicating the provider associated with the trip record\n",
        "* #### pickup_datetime - date and time when the meter was engaged\n",
        "* #### dropoff_datetime - date and time when the meter was disengaged\n",
        "* #### passenger_count - the number of passengers in the vehicle (driver entered value)\n",
        "* #### pickup_longitude - the longitude where the meter was engaged\n",
        "* #### pickup_latitude - the latitude where the meter was engaged\n",
        "* #### dropoff_longitude - the longitude where the meter was disengaged\n",
        "* #### dropoff_latitude - the latitude where the meter was disengaged\n",
        "* #### store_and_fwd_flag - This flag indicates whether the trip record was held in vehicle memory before sending to the vendor because the vehicle did not have a connection to the server - Y=store and forward; N=not a store and forward trip\n",
        "* #### trip_duration - duration of the trip in seconds"
      ]
    },
    {
      "cell_type": "code",
      "execution_count": 1,
      "metadata": {
        "colab": {
          "base_uri": "https://localhost:8080/"
        },
        "id": "jtirpeI8CSP6",
        "outputId": "4bda3d75-84e9-4e5b-86d2-7568bfb2c86d"
      },
      "outputs": [
        {
          "output_type": "stream",
          "name": "stdout",
          "text": [
            "Collecting pycountry\n",
            "  Downloading pycountry-22.3.5.tar.gz (10.1 MB)\n",
            "\u001b[K     |████████████████████████████████| 10.1 MB 2.7 MB/s \n",
            "\u001b[?25h  Installing build dependencies ... \u001b[?25l\u001b[?25hdone\n",
            "  Getting requirements to build wheel ... \u001b[?25l\u001b[?25hdone\n",
            "    Preparing wheel metadata ... \u001b[?25l\u001b[?25hdone\n",
            "Requirement already satisfied: setuptools in /usr/local/lib/python3.7/dist-packages (from pycountry) (57.4.0)\n",
            "Building wheels for collected packages: pycountry\n",
            "  Building wheel for pycountry (PEP 517) ... \u001b[?25l\u001b[?25hdone\n",
            "  Created wheel for pycountry: filename=pycountry-22.3.5-py2.py3-none-any.whl size=10681845 sha256=47f05413f242f27517a58ce7251453d7f1c4460770d84bba655c4efe883776c4\n",
            "  Stored in directory: /root/.cache/pip/wheels/0e/06/e8/7ee176e95ea9a8a8c3b3afcb1869f20adbd42413d4611c6eb4\n",
            "Successfully built pycountry\n",
            "Installing collected packages: pycountry\n",
            "Successfully installed pycountry-22.3.5\n",
            "Collecting haversine\n",
            "  Downloading haversine-2.5.1-py2.py3-none-any.whl (6.1 kB)\n",
            "Installing collected packages: haversine\n",
            "Successfully installed haversine-2.5.1\n"
          ]
        }
      ],
      "source": [
        "!pip install pycountry\n",
        "!pip install haversine"
      ]
    },
    {
      "cell_type": "markdown",
      "metadata": {
        "id": "bwxwUWlICYIs"
      },
      "source": [
        "# **Importing Libraries**"
      ]
    },
    {
      "cell_type": "code",
      "execution_count": 2,
      "metadata": {
        "id": "yPrq4G8GCfta"
      },
      "outputs": [],
      "source": [
        "import numpy as np\n",
        "import pandas as pd\n",
        "import matplotlib.pyplot as plt\n",
        "%matplotlib inline\n",
        "import seaborn as sns\n",
        "import pycountry as pc\n",
        "import matplotlib.ticker as mtick\n",
        "import plotly.express as px\n",
        "from numpy import math\n",
        "from math import sqrt\n",
        "from sklearn.preprocessing import MinMaxScaler\n",
        "from sklearn.model_selection import train_test_split\n",
        "from sklearn.linear_model import LinearRegression\n",
        "from sklearn.metrics import r2_score\n",
        "from sklearn.metrics import mean_squared_error\n",
        "from sklearn.tree import DecisionTreeRegressor\n",
        "from sklearn.linear_model import Ridge, Lasso\n",
        "from sklearn.model_selection import KFold\n",
        "from sklearn.neighbors import KNeighborsRegressor\n",
        "from datetime import datetime as dt\n",
        "from sklearn.ensemble import RandomForestRegressor\n",
        "from sklearn import metrics\n",
        "from sklearn.model_selection import train_test_split, GridSearchCV\n",
        "from haversine import haversine\n",
        "from sklearn.model_selection import ShuffleSplit\n",
        "import warnings; warnings.simplefilter('ignore')"
      ]
    },
    {
      "cell_type": "code",
      "execution_count": 3,
      "metadata": {
        "id": "u985CZT8ClqO",
        "colab": {
          "base_uri": "https://localhost:8080/"
        },
        "outputId": "a407f9c6-64b9-462e-93ff-b8efeef76f88"
      },
      "outputs": [
        {
          "output_type": "stream",
          "name": "stdout",
          "text": [
            "Mounted at /content/drive\n"
          ]
        }
      ],
      "source": [
        "# mounted the drive\n",
        "from google.colab import drive\n",
        "drive.mount('/content/drive')"
      ]
    },
    {
      "cell_type": "markdown",
      "metadata": {
        "id": "_Yj4mg6NC53U"
      },
      "source": [
        "# **Loading DataSet**"
      ]
    },
    {
      "cell_type": "code",
      "execution_count": 4,
      "metadata": {
        "id": "db0QdU0gCrGq"
      },
      "outputs": [],
      "source": [
        "# creating directory path\n",
        "df = pd.read_csv('/content/drive/MyDrive/NYC Taxi Data (1).csv')"
      ]
    },
    {
      "cell_type": "code",
      "execution_count": 5,
      "metadata": {
        "id": "OZs1eNoKJh4H"
      },
      "outputs": [],
      "source": [
        "dfm=df.copy()"
      ]
    },
    {
      "cell_type": "markdown",
      "metadata": {
        "id": "8T91_rc6DVmy"
      },
      "source": [
        "Now, we have our dataset which was of the type ‘csv’ in a pandas dataframe which we have named ‘df’."
      ]
    },
    {
      "cell_type": "markdown",
      "metadata": {
        "id": "VPW0ChMZD1gX"
      },
      "source": [
        "# **File Structure and content**"
      ]
    },
    {
      "cell_type": "code",
      "execution_count": 6,
      "metadata": {
        "colab": {
          "base_uri": "https://localhost:8080/"
        },
        "id": "cb4ZCMOIDChL",
        "outputId": "55ab966f-6ad8-4df3-f3d6-836b808f6d1f"
      },
      "outputs": [
        {
          "output_type": "stream",
          "name": "stdout",
          "text": [
            "We have 1458644 rows.\n",
            "We have 11 columns.\n"
          ]
        },
        {
          "output_type": "execute_result",
          "data": {
            "text/plain": [
              "id                              id2377394\n",
              "vendor_id                               1\n",
              "pickup_datetime       2016-06-12 00:43:35\n",
              "dropoff_datetime      2016-06-12 00:54:38\n",
              "passenger_count                         1\n",
              "pickup_longitude               -73.980415\n",
              "pickup_latitude                 40.738564\n",
              "dropoff_longitude              -73.999481\n",
              "dropoff_latitude                40.731152\n",
              "store_and_fwd_flag                      N\n",
              "trip_duration                         663\n",
              "Name: 1, dtype: object"
            ]
          },
          "metadata": {},
          "execution_count": 6
        }
      ],
      "source": [
        "#no. of row and column\n",
        "print(\"We have {} rows.\".format(dfm.shape[0]))\n",
        "print(\"We have {} columns.\".format(dfm.shape[1]))\n",
        "dfm.iloc[1,:]"
      ]
    },
    {
      "cell_type": "markdown",
      "metadata": {
        "id": "J9IxB59zEUJs"
      },
      "source": [
        "At first galance, We have seen that the type of each variable and how they look like"
      ]
    },
    {
      "cell_type": "markdown",
      "metadata": {
        "id": "N8k66G5oEf4O"
      },
      "source": [
        "# **MISSING VALUES**\n",
        "Knowing about missing values is important because they indicate how much we dont's know about our data. Making inferences based on just a few cases is often unwise. In addition, many modelling procedures break down when missing values are involved and the corresponding rows will either have to be removed completely or the values need to be estimated somehow."
      ]
    },
    {
      "cell_type": "code",
      "execution_count": 7,
      "metadata": {
        "colab": {
          "base_uri": "https://localhost:8080/"
        },
        "id": "05T2uM7KD7Ed",
        "outputId": "215febc9-63fc-4f86-c325-4e6ef861bd3a"
      },
      "outputs": [
        {
          "output_type": "execute_result",
          "data": {
            "text/plain": [
              "id                    0\n",
              "vendor_id             0\n",
              "pickup_datetime       0\n",
              "dropoff_datetime      0\n",
              "passenger_count       0\n",
              "pickup_longitude      0\n",
              "pickup_latitude       0\n",
              "dropoff_longitude     0\n",
              "dropoff_latitude      0\n",
              "store_and_fwd_flag    0\n",
              "trip_duration         0\n",
              "dtype: int64"
            ]
          },
          "metadata": {},
          "execution_count": 7
        }
      ],
      "source": [
        "#check null values in Data frame\n",
        "dfm.isnull().sum()"
      ]
    },
    {
      "cell_type": "markdown",
      "metadata": {
        "id": "pPhfG02aE42V"
      },
      "source": [
        "Fortunately, in this dataset we do not have any missing values which is great"
      ]
    },
    {
      "cell_type": "markdown",
      "metadata": {
        "id": "p7L1ajJbFFEl"
      },
      "source": [
        "# **Describing Dataset**"
      ]
    },
    {
      "cell_type": "code",
      "execution_count": 8,
      "metadata": {
        "colab": {
          "base_uri": "https://localhost:8080/",
          "height": 0
        },
        "id": "p9Wvmr-aFEvt",
        "outputId": "a9029b6e-2d0a-4276-8637-fd5d83e2fe63"
      },
      "outputs": [
        {
          "output_type": "execute_result",
          "data": {
            "text/plain": [
              "          id  vendor_id      pickup_datetime     dropoff_datetime  \\\n",
              "0  id2875421          2  2016-03-14 17:24:55  2016-03-14 17:32:30   \n",
              "1  id2377394          1  2016-06-12 00:43:35  2016-06-12 00:54:38   \n",
              "2  id3858529          2  2016-01-19 11:35:24  2016-01-19 12:10:48   \n",
              "3  id3504673          2  2016-04-06 19:32:31  2016-04-06 19:39:40   \n",
              "4  id2181028          2  2016-03-26 13:30:55  2016-03-26 13:38:10   \n",
              "\n",
              "   passenger_count  pickup_longitude  pickup_latitude  dropoff_longitude  \\\n",
              "0                1        -73.982155        40.767937         -73.964630   \n",
              "1                1        -73.980415        40.738564         -73.999481   \n",
              "2                1        -73.979027        40.763939         -74.005333   \n",
              "3                1        -74.010040        40.719971         -74.012268   \n",
              "4                1        -73.973053        40.793209         -73.972923   \n",
              "\n",
              "   dropoff_latitude store_and_fwd_flag  trip_duration  \n",
              "0         40.765602                  N            455  \n",
              "1         40.731152                  N            663  \n",
              "2         40.710087                  N           2124  \n",
              "3         40.706718                  N            429  \n",
              "4         40.782520                  N            435  "
            ],
            "text/html": [
              "\n",
              "  <div id=\"df-c4930b30-b84a-483f-9d0f-4994c8d5b07c\">\n",
              "    <div class=\"colab-df-container\">\n",
              "      <div>\n",
              "<style scoped>\n",
              "    .dataframe tbody tr th:only-of-type {\n",
              "        vertical-align: middle;\n",
              "    }\n",
              "\n",
              "    .dataframe tbody tr th {\n",
              "        vertical-align: top;\n",
              "    }\n",
              "\n",
              "    .dataframe thead th {\n",
              "        text-align: right;\n",
              "    }\n",
              "</style>\n",
              "<table border=\"1\" class=\"dataframe\">\n",
              "  <thead>\n",
              "    <tr style=\"text-align: right;\">\n",
              "      <th></th>\n",
              "      <th>id</th>\n",
              "      <th>vendor_id</th>\n",
              "      <th>pickup_datetime</th>\n",
              "      <th>dropoff_datetime</th>\n",
              "      <th>passenger_count</th>\n",
              "      <th>pickup_longitude</th>\n",
              "      <th>pickup_latitude</th>\n",
              "      <th>dropoff_longitude</th>\n",
              "      <th>dropoff_latitude</th>\n",
              "      <th>store_and_fwd_flag</th>\n",
              "      <th>trip_duration</th>\n",
              "    </tr>\n",
              "  </thead>\n",
              "  <tbody>\n",
              "    <tr>\n",
              "      <th>0</th>\n",
              "      <td>id2875421</td>\n",
              "      <td>2</td>\n",
              "      <td>2016-03-14 17:24:55</td>\n",
              "      <td>2016-03-14 17:32:30</td>\n",
              "      <td>1</td>\n",
              "      <td>-73.982155</td>\n",
              "      <td>40.767937</td>\n",
              "      <td>-73.964630</td>\n",
              "      <td>40.765602</td>\n",
              "      <td>N</td>\n",
              "      <td>455</td>\n",
              "    </tr>\n",
              "    <tr>\n",
              "      <th>1</th>\n",
              "      <td>id2377394</td>\n",
              "      <td>1</td>\n",
              "      <td>2016-06-12 00:43:35</td>\n",
              "      <td>2016-06-12 00:54:38</td>\n",
              "      <td>1</td>\n",
              "      <td>-73.980415</td>\n",
              "      <td>40.738564</td>\n",
              "      <td>-73.999481</td>\n",
              "      <td>40.731152</td>\n",
              "      <td>N</td>\n",
              "      <td>663</td>\n",
              "    </tr>\n",
              "    <tr>\n",
              "      <th>2</th>\n",
              "      <td>id3858529</td>\n",
              "      <td>2</td>\n",
              "      <td>2016-01-19 11:35:24</td>\n",
              "      <td>2016-01-19 12:10:48</td>\n",
              "      <td>1</td>\n",
              "      <td>-73.979027</td>\n",
              "      <td>40.763939</td>\n",
              "      <td>-74.005333</td>\n",
              "      <td>40.710087</td>\n",
              "      <td>N</td>\n",
              "      <td>2124</td>\n",
              "    </tr>\n",
              "    <tr>\n",
              "      <th>3</th>\n",
              "      <td>id3504673</td>\n",
              "      <td>2</td>\n",
              "      <td>2016-04-06 19:32:31</td>\n",
              "      <td>2016-04-06 19:39:40</td>\n",
              "      <td>1</td>\n",
              "      <td>-74.010040</td>\n",
              "      <td>40.719971</td>\n",
              "      <td>-74.012268</td>\n",
              "      <td>40.706718</td>\n",
              "      <td>N</td>\n",
              "      <td>429</td>\n",
              "    </tr>\n",
              "    <tr>\n",
              "      <th>4</th>\n",
              "      <td>id2181028</td>\n",
              "      <td>2</td>\n",
              "      <td>2016-03-26 13:30:55</td>\n",
              "      <td>2016-03-26 13:38:10</td>\n",
              "      <td>1</td>\n",
              "      <td>-73.973053</td>\n",
              "      <td>40.793209</td>\n",
              "      <td>-73.972923</td>\n",
              "      <td>40.782520</td>\n",
              "      <td>N</td>\n",
              "      <td>435</td>\n",
              "    </tr>\n",
              "  </tbody>\n",
              "</table>\n",
              "</div>\n",
              "      <button class=\"colab-df-convert\" onclick=\"convertToInteractive('df-c4930b30-b84a-483f-9d0f-4994c8d5b07c')\"\n",
              "              title=\"Convert this dataframe to an interactive table.\"\n",
              "              style=\"display:none;\">\n",
              "        \n",
              "  <svg xmlns=\"http://www.w3.org/2000/svg\" height=\"24px\"viewBox=\"0 0 24 24\"\n",
              "       width=\"24px\">\n",
              "    <path d=\"M0 0h24v24H0V0z\" fill=\"none\"/>\n",
              "    <path d=\"M18.56 5.44l.94 2.06.94-2.06 2.06-.94-2.06-.94-.94-2.06-.94 2.06-2.06.94zm-11 1L8.5 8.5l.94-2.06 2.06-.94-2.06-.94L8.5 2.5l-.94 2.06-2.06.94zm10 10l.94 2.06.94-2.06 2.06-.94-2.06-.94-.94-2.06-.94 2.06-2.06.94z\"/><path d=\"M17.41 7.96l-1.37-1.37c-.4-.4-.92-.59-1.43-.59-.52 0-1.04.2-1.43.59L10.3 9.45l-7.72 7.72c-.78.78-.78 2.05 0 2.83L4 21.41c.39.39.9.59 1.41.59.51 0 1.02-.2 1.41-.59l7.78-7.78 2.81-2.81c.8-.78.8-2.07 0-2.86zM5.41 20L4 18.59l7.72-7.72 1.47 1.35L5.41 20z\"/>\n",
              "  </svg>\n",
              "      </button>\n",
              "      \n",
              "  <style>\n",
              "    .colab-df-container {\n",
              "      display:flex;\n",
              "      flex-wrap:wrap;\n",
              "      gap: 12px;\n",
              "    }\n",
              "\n",
              "    .colab-df-convert {\n",
              "      background-color: #E8F0FE;\n",
              "      border: none;\n",
              "      border-radius: 50%;\n",
              "      cursor: pointer;\n",
              "      display: none;\n",
              "      fill: #1967D2;\n",
              "      height: 32px;\n",
              "      padding: 0 0 0 0;\n",
              "      width: 32px;\n",
              "    }\n",
              "\n",
              "    .colab-df-convert:hover {\n",
              "      background-color: #E2EBFA;\n",
              "      box-shadow: 0px 1px 2px rgba(60, 64, 67, 0.3), 0px 1px 3px 1px rgba(60, 64, 67, 0.15);\n",
              "      fill: #174EA6;\n",
              "    }\n",
              "\n",
              "    [theme=dark] .colab-df-convert {\n",
              "      background-color: #3B4455;\n",
              "      fill: #D2E3FC;\n",
              "    }\n",
              "\n",
              "    [theme=dark] .colab-df-convert:hover {\n",
              "      background-color: #434B5C;\n",
              "      box-shadow: 0px 1px 3px 1px rgba(0, 0, 0, 0.15);\n",
              "      filter: drop-shadow(0px 1px 2px rgba(0, 0, 0, 0.3));\n",
              "      fill: #FFFFFF;\n",
              "    }\n",
              "  </style>\n",
              "\n",
              "      <script>\n",
              "        const buttonEl =\n",
              "          document.querySelector('#df-c4930b30-b84a-483f-9d0f-4994c8d5b07c button.colab-df-convert');\n",
              "        buttonEl.style.display =\n",
              "          google.colab.kernel.accessAllowed ? 'block' : 'none';\n",
              "\n",
              "        async function convertToInteractive(key) {\n",
              "          const element = document.querySelector('#df-c4930b30-b84a-483f-9d0f-4994c8d5b07c');\n",
              "          const dataTable =\n",
              "            await google.colab.kernel.invokeFunction('convertToInteractive',\n",
              "                                                     [key], {});\n",
              "          if (!dataTable) return;\n",
              "\n",
              "          const docLinkHtml = 'Like what you see? Visit the ' +\n",
              "            '<a target=\"_blank\" href=https://colab.research.google.com/notebooks/data_table.ipynb>data table notebook</a>'\n",
              "            + ' to learn more about interactive tables.';\n",
              "          element.innerHTML = '';\n",
              "          dataTable['output_type'] = 'display_data';\n",
              "          await google.colab.output.renderOutput(dataTable, element);\n",
              "          const docLink = document.createElement('div');\n",
              "          docLink.innerHTML = docLinkHtml;\n",
              "          element.appendChild(docLink);\n",
              "        }\n",
              "      </script>\n",
              "    </div>\n",
              "  </div>\n",
              "  "
            ]
          },
          "metadata": {},
          "execution_count": 8
        }
      ],
      "source": [
        "# Visualizing the dataset\n",
        "dfm.head()"
      ]
    },
    {
      "cell_type": "code",
      "execution_count": 9,
      "metadata": {
        "colab": {
          "base_uri": "https://localhost:8080/",
          "height": 0
        },
        "id": "1X3-QI8lE3U5",
        "outputId": "9a47386e-caee-40e7-b1dd-a6697dcca5ec"
      },
      "outputs": [
        {
          "output_type": "execute_result",
          "data": {
            "text/plain": [
              "          vendor_id  passenger_count  pickup_longitude  pickup_latitude  \\\n",
              "count  1.458644e+06     1.458644e+06      1.458644e+06     1.458644e+06   \n",
              "mean   1.534950e+00     1.664530e+00     -7.397349e+01     4.075092e+01   \n",
              "std    4.987772e-01     1.314242e+00      7.090186e-02     3.288119e-02   \n",
              "min    1.000000e+00     0.000000e+00     -1.219333e+02     3.435970e+01   \n",
              "25%    1.000000e+00     1.000000e+00     -7.399187e+01     4.073735e+01   \n",
              "50%    2.000000e+00     1.000000e+00     -7.398174e+01     4.075410e+01   \n",
              "75%    2.000000e+00     2.000000e+00     -7.396733e+01     4.076836e+01   \n",
              "max    2.000000e+00     9.000000e+00     -6.133553e+01     5.188108e+01   \n",
              "\n",
              "       dropoff_longitude  dropoff_latitude  trip_duration  \n",
              "count       1.458644e+06      1.458644e+06   1.458644e+06  \n",
              "mean       -7.397342e+01      4.075180e+01   9.594923e+02  \n",
              "std         7.064327e-02      3.589056e-02   5.237432e+03  \n",
              "min        -1.219333e+02      3.218114e+01   1.000000e+00  \n",
              "25%        -7.399133e+01      4.073588e+01   3.970000e+02  \n",
              "50%        -7.397975e+01      4.075452e+01   6.620000e+02  \n",
              "75%        -7.396301e+01      4.076981e+01   1.075000e+03  \n",
              "max        -6.133553e+01      4.392103e+01   3.526282e+06  "
            ],
            "text/html": [
              "\n",
              "  <div id=\"df-7e92dbd6-3800-4ad2-b35d-567ea29f938f\">\n",
              "    <div class=\"colab-df-container\">\n",
              "      <div>\n",
              "<style scoped>\n",
              "    .dataframe tbody tr th:only-of-type {\n",
              "        vertical-align: middle;\n",
              "    }\n",
              "\n",
              "    .dataframe tbody tr th {\n",
              "        vertical-align: top;\n",
              "    }\n",
              "\n",
              "    .dataframe thead th {\n",
              "        text-align: right;\n",
              "    }\n",
              "</style>\n",
              "<table border=\"1\" class=\"dataframe\">\n",
              "  <thead>\n",
              "    <tr style=\"text-align: right;\">\n",
              "      <th></th>\n",
              "      <th>vendor_id</th>\n",
              "      <th>passenger_count</th>\n",
              "      <th>pickup_longitude</th>\n",
              "      <th>pickup_latitude</th>\n",
              "      <th>dropoff_longitude</th>\n",
              "      <th>dropoff_latitude</th>\n",
              "      <th>trip_duration</th>\n",
              "    </tr>\n",
              "  </thead>\n",
              "  <tbody>\n",
              "    <tr>\n",
              "      <th>count</th>\n",
              "      <td>1.458644e+06</td>\n",
              "      <td>1.458644e+06</td>\n",
              "      <td>1.458644e+06</td>\n",
              "      <td>1.458644e+06</td>\n",
              "      <td>1.458644e+06</td>\n",
              "      <td>1.458644e+06</td>\n",
              "      <td>1.458644e+06</td>\n",
              "    </tr>\n",
              "    <tr>\n",
              "      <th>mean</th>\n",
              "      <td>1.534950e+00</td>\n",
              "      <td>1.664530e+00</td>\n",
              "      <td>-7.397349e+01</td>\n",
              "      <td>4.075092e+01</td>\n",
              "      <td>-7.397342e+01</td>\n",
              "      <td>4.075180e+01</td>\n",
              "      <td>9.594923e+02</td>\n",
              "    </tr>\n",
              "    <tr>\n",
              "      <th>std</th>\n",
              "      <td>4.987772e-01</td>\n",
              "      <td>1.314242e+00</td>\n",
              "      <td>7.090186e-02</td>\n",
              "      <td>3.288119e-02</td>\n",
              "      <td>7.064327e-02</td>\n",
              "      <td>3.589056e-02</td>\n",
              "      <td>5.237432e+03</td>\n",
              "    </tr>\n",
              "    <tr>\n",
              "      <th>min</th>\n",
              "      <td>1.000000e+00</td>\n",
              "      <td>0.000000e+00</td>\n",
              "      <td>-1.219333e+02</td>\n",
              "      <td>3.435970e+01</td>\n",
              "      <td>-1.219333e+02</td>\n",
              "      <td>3.218114e+01</td>\n",
              "      <td>1.000000e+00</td>\n",
              "    </tr>\n",
              "    <tr>\n",
              "      <th>25%</th>\n",
              "      <td>1.000000e+00</td>\n",
              "      <td>1.000000e+00</td>\n",
              "      <td>-7.399187e+01</td>\n",
              "      <td>4.073735e+01</td>\n",
              "      <td>-7.399133e+01</td>\n",
              "      <td>4.073588e+01</td>\n",
              "      <td>3.970000e+02</td>\n",
              "    </tr>\n",
              "    <tr>\n",
              "      <th>50%</th>\n",
              "      <td>2.000000e+00</td>\n",
              "      <td>1.000000e+00</td>\n",
              "      <td>-7.398174e+01</td>\n",
              "      <td>4.075410e+01</td>\n",
              "      <td>-7.397975e+01</td>\n",
              "      <td>4.075452e+01</td>\n",
              "      <td>6.620000e+02</td>\n",
              "    </tr>\n",
              "    <tr>\n",
              "      <th>75%</th>\n",
              "      <td>2.000000e+00</td>\n",
              "      <td>2.000000e+00</td>\n",
              "      <td>-7.396733e+01</td>\n",
              "      <td>4.076836e+01</td>\n",
              "      <td>-7.396301e+01</td>\n",
              "      <td>4.076981e+01</td>\n",
              "      <td>1.075000e+03</td>\n",
              "    </tr>\n",
              "    <tr>\n",
              "      <th>max</th>\n",
              "      <td>2.000000e+00</td>\n",
              "      <td>9.000000e+00</td>\n",
              "      <td>-6.133553e+01</td>\n",
              "      <td>5.188108e+01</td>\n",
              "      <td>-6.133553e+01</td>\n",
              "      <td>4.392103e+01</td>\n",
              "      <td>3.526282e+06</td>\n",
              "    </tr>\n",
              "  </tbody>\n",
              "</table>\n",
              "</div>\n",
              "      <button class=\"colab-df-convert\" onclick=\"convertToInteractive('df-7e92dbd6-3800-4ad2-b35d-567ea29f938f')\"\n",
              "              title=\"Convert this dataframe to an interactive table.\"\n",
              "              style=\"display:none;\">\n",
              "        \n",
              "  <svg xmlns=\"http://www.w3.org/2000/svg\" height=\"24px\"viewBox=\"0 0 24 24\"\n",
              "       width=\"24px\">\n",
              "    <path d=\"M0 0h24v24H0V0z\" fill=\"none\"/>\n",
              "    <path d=\"M18.56 5.44l.94 2.06.94-2.06 2.06-.94-2.06-.94-.94-2.06-.94 2.06-2.06.94zm-11 1L8.5 8.5l.94-2.06 2.06-.94-2.06-.94L8.5 2.5l-.94 2.06-2.06.94zm10 10l.94 2.06.94-2.06 2.06-.94-2.06-.94-.94-2.06-.94 2.06-2.06.94z\"/><path d=\"M17.41 7.96l-1.37-1.37c-.4-.4-.92-.59-1.43-.59-.52 0-1.04.2-1.43.59L10.3 9.45l-7.72 7.72c-.78.78-.78 2.05 0 2.83L4 21.41c.39.39.9.59 1.41.59.51 0 1.02-.2 1.41-.59l7.78-7.78 2.81-2.81c.8-.78.8-2.07 0-2.86zM5.41 20L4 18.59l7.72-7.72 1.47 1.35L5.41 20z\"/>\n",
              "  </svg>\n",
              "      </button>\n",
              "      \n",
              "  <style>\n",
              "    .colab-df-container {\n",
              "      display:flex;\n",
              "      flex-wrap:wrap;\n",
              "      gap: 12px;\n",
              "    }\n",
              "\n",
              "    .colab-df-convert {\n",
              "      background-color: #E8F0FE;\n",
              "      border: none;\n",
              "      border-radius: 50%;\n",
              "      cursor: pointer;\n",
              "      display: none;\n",
              "      fill: #1967D2;\n",
              "      height: 32px;\n",
              "      padding: 0 0 0 0;\n",
              "      width: 32px;\n",
              "    }\n",
              "\n",
              "    .colab-df-convert:hover {\n",
              "      background-color: #E2EBFA;\n",
              "      box-shadow: 0px 1px 2px rgba(60, 64, 67, 0.3), 0px 1px 3px 1px rgba(60, 64, 67, 0.15);\n",
              "      fill: #174EA6;\n",
              "    }\n",
              "\n",
              "    [theme=dark] .colab-df-convert {\n",
              "      background-color: #3B4455;\n",
              "      fill: #D2E3FC;\n",
              "    }\n",
              "\n",
              "    [theme=dark] .colab-df-convert:hover {\n",
              "      background-color: #434B5C;\n",
              "      box-shadow: 0px 1px 3px 1px rgba(0, 0, 0, 0.15);\n",
              "      filter: drop-shadow(0px 1px 2px rgba(0, 0, 0, 0.3));\n",
              "      fill: #FFFFFF;\n",
              "    }\n",
              "  </style>\n",
              "\n",
              "      <script>\n",
              "        const buttonEl =\n",
              "          document.querySelector('#df-7e92dbd6-3800-4ad2-b35d-567ea29f938f button.colab-df-convert');\n",
              "        buttonEl.style.display =\n",
              "          google.colab.kernel.accessAllowed ? 'block' : 'none';\n",
              "\n",
              "        async function convertToInteractive(key) {\n",
              "          const element = document.querySelector('#df-7e92dbd6-3800-4ad2-b35d-567ea29f938f');\n",
              "          const dataTable =\n",
              "            await google.colab.kernel.invokeFunction('convertToInteractive',\n",
              "                                                     [key], {});\n",
              "          if (!dataTable) return;\n",
              "\n",
              "          const docLinkHtml = 'Like what you see? Visit the ' +\n",
              "            '<a target=\"_blank\" href=https://colab.research.google.com/notebooks/data_table.ipynb>data table notebook</a>'\n",
              "            + ' to learn more about interactive tables.';\n",
              "          element.innerHTML = '';\n",
              "          dataTable['output_type'] = 'display_data';\n",
              "          await google.colab.output.renderOutput(dataTable, element);\n",
              "          const docLink = document.createElement('div');\n",
              "          docLink.innerHTML = docLinkHtml;\n",
              "          element.appendChild(docLink);\n",
              "        }\n",
              "      </script>\n",
              "    </div>\n",
              "  </div>\n",
              "  "
            ]
          },
          "metadata": {},
          "execution_count": 9
        }
      ],
      "source": [
        "# summery of dataframe\n",
        "dfm.describe()"
      ]
    },
    {
      "cell_type": "markdown",
      "metadata": {
        "id": "_uh_yp4xGnZU"
      },
      "source": [
        "* Some insights from the above summary:\n",
        "\n",
        "* Vendor id has a minimum value of 1 and a maximum value of 2 which makes sense as we saw there are two vendor ids 1 and 2.\n",
        "\n",
        "* Passenger count has a minimum of 0 which means either it is an error entered or the drivers deliberately entered 0 to complete a target number of rides.\n",
        "\n",
        "* The minimum trip duration is also quite low. We will come back to this later during Univariate Analysis."
      ]
    },
    {
      "cell_type": "code",
      "execution_count": 10,
      "metadata": {
        "colab": {
          "base_uri": "https://localhost:8080/"
        },
        "id": "QiBwgiWTFr2t",
        "outputId": "6160138e-8396-4557-e476-16eb8849b9dd"
      },
      "outputs": [
        {
          "output_type": "execute_result",
          "data": {
            "text/plain": [
              "id                     object\n",
              "vendor_id               int64\n",
              "pickup_datetime        object\n",
              "dropoff_datetime       object\n",
              "passenger_count         int64\n",
              "pickup_longitude      float64\n",
              "pickup_latitude       float64\n",
              "dropoff_longitude     float64\n",
              "dropoff_latitude      float64\n",
              "store_and_fwd_flag     object\n",
              "trip_duration           int64\n",
              "dtype: object"
            ]
          },
          "metadata": {},
          "execution_count": 10
        }
      ],
      "source": [
        "#data type of columns\n",
        "dfm.dtypes"
      ]
    },
    {
      "cell_type": "markdown",
      "metadata": {
        "id": "oYIjsm-aGEcF"
      },
      "source": [
        "* We have id, pickup_datetime, dropoff_datetime, and store_and_fwd_flag of the vendor_id, passenger_count, and trip_duration are of type int.\n",
        "\n",
        "* pickup_longitude, pickup_latitude, dropoff_longitude, and dropoff_latitude are of type float."
      ]
    },
    {
      "cell_type": "code",
      "execution_count": 11,
      "metadata": {
        "colab": {
          "base_uri": "https://localhost:8080/"
        },
        "id": "tSitiMQyF-oL",
        "outputId": "d0f3729b-0d7c-478a-c31f-1aa0830e8bc7"
      },
      "outputs": [
        {
          "output_type": "execute_result",
          "data": {
            "text/plain": [
              "id                    1458644\n",
              "vendor_id                   2\n",
              "pickup_datetime       1380222\n",
              "dropoff_datetime      1380377\n",
              "passenger_count            10\n",
              "pickup_longitude        23047\n",
              "pickup_latitude         45245\n",
              "dropoff_longitude       33821\n",
              "dropoff_latitude        62519\n",
              "store_and_fwd_flag          2\n",
              "trip_duration            7417\n",
              "dtype: int64"
            ]
          },
          "metadata": {},
          "execution_count": 11
        }
      ],
      "source": [
        "#Check count of unique id's in the dataset\n",
        "dfm.nunique()"
      ]
    },
    {
      "cell_type": "markdown",
      "metadata": {
        "id": "o-BV6U53GYbc"
      },
      "source": [
        "* There are 1458644 unique id's in Training dataset, which is equal to the number of records\n",
        "\n",
        "* There are 2 unique vendor ids.\n",
        "\n",
        "* There are 10 unique passenger counts.\n",
        "\n",
        "* There are 2 unique values for store_and_fwd_flag, that we also saw in the description of the variables, which are Y and N."
      ]
    },
    {
      "cell_type": "markdown",
      "metadata": {
        "id": "_0jhRNqHHB-J"
      },
      "source": [
        "# **Reformatting features**\n",
        "There are a variety of features within the dataset and it is important to convert them into the right format such that we can analyse them easily. This would include converting datetime features and string features.\n",
        "\n",
        "Also, one important thing is never to take assumptions without backing it with data. Here, as you can see the trip duration can also be calculated pick up and drop off datetime. We will check whether the given duration is consistent with the calculated trip duration"
      ]
    },
    {
      "cell_type": "code",
      "execution_count": 12,
      "metadata": {
        "colab": {
          "base_uri": "https://localhost:8080/"
        },
        "id": "qBOCYmQcGW-S",
        "outputId": "5e98d468-b306-4b84-a624-12f2599c0897"
      },
      "outputs": [
        {
          "output_type": "execute_result",
          "data": {
            "text/plain": [
              "(0, 12)"
            ]
          },
          "metadata": {},
          "execution_count": 12
        }
      ],
      "source": [
        "#converting string to datetime features\n",
        "dfm['pickup_datetime']=pd.to_datetime(dfm.pickup_datetime)\n",
        "dfm['dropoff_datetime']=pd.to_datetime(dfm.dropoff_datetime)\n",
        "\n",
        "#converting yes/no flag to 1 and 0\n",
        "dfm['store_and_fwd_flag']=1*(dfm.store_and_fwd_flag.values=='Y')\n",
        "\n",
        "dfm['check_trip_duration'] = (dfm['dropoff_datetime'] - dfm['pickup_datetime']).map(lambda x: x.total_seconds())\n",
        "\n",
        "duration_difference = dfm[np.abs(dfm['check_trip_duration'].values  - dfm['trip_duration'].values) > 1]\n",
        "duration_difference.shape"
      ]
    },
    {
      "cell_type": "markdown",
      "metadata": {
        "id": "OXuDDsvhHxv9"
      },
      "source": [
        "This implies that there is no inconsistency in data wrt the drop location and trip duration"
      ]
    },
    {
      "cell_type": "markdown",
      "source": [
        "# **Target Exploration and Data Visualization**"
      ],
      "metadata": {
        "id": "kyo_qZY_jih6"
      }
    },
    {
      "cell_type": "markdown",
      "source": [
        "In this section we will take at the trip duration is the target variable. It is crucial to understand it in detail as this is what we ate trying to predict accurately."
      ],
      "metadata": {
        "id": "rGIrWixojuCC"
      }
    },
    {
      "cell_type": "markdown",
      "metadata": {
        "id": "HG7Y85Khpz7p"
      },
      "source": [
        "# **Univariate Analysis**"
      ]
    },
    {
      "cell_type": "markdown",
      "metadata": {
        "id": "6QmBY74gqM2J"
      },
      "source": [
        "In this section we will take at the trip duration is the target variable. It is crucial to understand it in detail as this is what we ate trying to predict accurately."
      ]
    },
    {
      "cell_type": "code",
      "execution_count": 13,
      "metadata": {
        "colab": {
          "base_uri": "https://localhost:8080/"
        },
        "id": "KS4eb1o2prZH",
        "outputId": "390aff5d-758b-4133-b7ef-ff8bded20c9c"
      },
      "outputs": [
        {
          "output_type": "execute_result",
          "data": {
            "text/plain": [
              "count    405.178889\n",
              "mean       0.266526\n",
              "std        1.454842\n",
              "min        0.000278\n",
              "25%        0.110278\n",
              "50%        0.183889\n",
              "75%        0.298611\n",
              "max      979.522778\n",
              "Name: trip_duration, dtype: float64"
            ]
          },
          "metadata": {},
          "execution_count": 13
        }
      ],
      "source": [
        "dfm['trip_duration'].describe()/3600   # trip_duration in hour"
      ]
    },
    {
      "cell_type": "markdown",
      "metadata": {
        "id": "8eFRg0CLrl-C"
      },
      "source": [
        "Hey! There is a trip with duration of 979 hours. This is a huge outlier and might create problem at the prediction stage. One idea is to log transform the trip duration before prediction to visualize it before."
      ]
    },
    {
      "cell_type": "code",
      "execution_count": 14,
      "metadata": {
        "colab": {
          "base_uri": "https://localhost:8080/",
          "height": 369
        },
        "id": "x8hc2zdyrf9-",
        "outputId": "8a594626-97b9-43cd-b9da-66d244e01865"
      },
      "outputs": [
        {
          "output_type": "display_data",
          "data": {
            "text/plain": [
              "<Figure size 360x360 with 1 Axes>"
            ],
            "image/png": "[encoded data removed]"
          },
          "metadata": {
            "needs_background": "light"
          }
        }
      ],
      "source": [
        "dfm['log_trip_duration']=np.log(dfm['trip_duration'].values+1)\n",
        "sns.displot(dfm['log_trip_duration'], kde=False, bins=500)\n",
        "plt.show()"
      ]
    },
    {
      "cell_type": "markdown",
      "source": [
        "1.There are several suspiciously short rides with less than 10 seconds duration\n",
        "\n",
        "2.As discussed earlier, there are few huge outliers near 12."
      ],
      "metadata": {
        "id": "51-4KHYUkIGY"
      }
    },
    {
      "cell_type": "code",
      "execution_count": 15,
      "metadata": {
        "colab": {
          "base_uri": "https://localhost:8080/",
          "height": 308
        },
        "id": "cvzc5xNtrpFu",
        "outputId": "afd54555-a501-49fb-d51b-39ad7da34928"
      },
      "outputs": [
        {
          "output_type": "execute_result",
          "data": {
            "text/plain": [
              "<matplotlib.axes._subplots.AxesSubplot at 0x7ff01be7f4d0>"
            ]
          },
          "metadata": {},
          "execution_count": 15
        },
        {
          "output_type": "display_data",
          "data": {
            "text/plain": [
              "<Figure size 432x288 with 1 Axes>"
            ],
            "image/png": "[encoded data removed]"
          },
          "metadata": {
            "needs_background": "light"
          }
        }
      ],
      "source": [
        "sns.histplot(dfm['trip_duration'],kde=False,bins=20)"
      ]
    },
    {
      "cell_type": "markdown",
      "metadata": {
        "id": "sN-lPwsqr7yB"
      },
      "source": [
        "The histogram is really skewed as we can see.\n",
        "Let us also look at the boxplot."
      ]
    },
    {
      "cell_type": "code",
      "execution_count": 16,
      "metadata": {
        "colab": {
          "base_uri": "https://localhost:8080/",
          "height": 297
        },
        "id": "Csen6UWPrvZM",
        "outputId": "2d6d2d16-a1a6-455e-9da6-f251274684ce"
      },
      "outputs": [
        {
          "output_type": "execute_result",
          "data": {
            "text/plain": [
              "<matplotlib.axes._subplots.AxesSubplot at 0x7ff01be47f90>"
            ]
          },
          "metadata": {},
          "execution_count": 16
        },
        {
          "output_type": "display_data",
          "data": {
            "text/plain": [
              "<Figure size 432x288 with 1 Axes>"
            ],
            "image/png": "[encoded data removed]"
          },
          "metadata": {
            "needs_background": "light"
          }
        }
      ],
      "source": [
        "sns.boxplot(dfm['trip_duration'])"
      ]
    },
    {
      "cell_type": "code",
      "execution_count": 17,
      "metadata": {
        "colab": {
          "base_uri": "https://localhost:8080/"
        },
        "id": "LZNy0AETsCuG",
        "outputId": "85496211-2dbf-48bc-8c7d-2aba182b62ba"
      },
      "outputs": [
        {
          "output_type": "execute_result",
          "data": {
            "text/plain": [
              "978383     3526282\n",
              "924150     2227612\n",
              "680594     2049578\n",
              "355003     1939736\n",
              "1234291      86392\n",
              "            ...   \n",
              "269418           1\n",
              "467645           1\n",
              "533799           1\n",
              "726971           1\n",
              "311745           1\n",
              "Name: trip_duration, Length: 1458644, dtype: int64"
            ]
          },
          "metadata": {},
          "execution_count": 17
        }
      ],
      "source": [
        "dfm['trip_duration'].sort_values(ascending=False)"
      ]
    },
    {
      "cell_type": "markdown",
      "metadata": {
        "id": "ARNg8NHbsT1o"
      },
      "source": [
        "We can see that there is an entry which is significantly different from others."
      ]
    },
    {
      "cell_type": "markdown",
      "metadata": {
        "id": "yttnMMGWsWiN"
      },
      "source": [
        "**vendor_id**"
      ]
    },
    {
      "cell_type": "code",
      "execution_count": 18,
      "metadata": {
        "colab": {
          "base_uri": "https://localhost:8080/",
          "height": 297
        },
        "id": "6H5bei5Vskie",
        "outputId": "b2d00600-77cf-4c04-d766-f2236aee7941"
      },
      "outputs": [
        {
          "output_type": "execute_result",
          "data": {
            "text/plain": [
              "<matplotlib.axes._subplots.AxesSubplot at 0x7ff01be47650>"
            ]
          },
          "metadata": {},
          "execution_count": 18
        },
        {
          "output_type": "display_data",
          "data": {
            "text/plain": [
              "<Figure size 432x288 with 1 Axes>"
            ],
            "image/png": "[encoded data removed]"
          },
          "metadata": {
            "needs_background": "light"
          }
        }
      ],
      "source": [
        "sns.countplot(x='vendor_id',data=dfm)"
      ]
    },
    {
      "cell_type": "markdown",
      "metadata": {
        "id": "kUCCgfoVstof"
      },
      "source": [
        "We see that there is not much difference between the trips taken by both vendors"
      ]
    },
    {
      "cell_type": "markdown",
      "metadata": {
        "id": "HP7Jvf0UszkV"
      },
      "source": [
        "**passenger_count**"
      ]
    },
    {
      "cell_type": "code",
      "execution_count": 19,
      "metadata": {
        "colab": {
          "base_uri": "https://localhost:8080/"
        },
        "id": "Df2zD8blsxX8",
        "outputId": "905c37e5-ed0a-4e1b-8581-0d41639d968b"
      },
      "outputs": [
        {
          "output_type": "execute_result",
          "data": {
            "text/plain": [
              "1    1033540\n",
              "2     210318\n",
              "5      78088\n",
              "3      59896\n",
              "6      48333\n",
              "4      28404\n",
              "0         60\n",
              "7          3\n",
              "9          1\n",
              "8          1\n",
              "Name: passenger_count, dtype: int64"
            ]
          },
          "metadata": {},
          "execution_count": 19
        }
      ],
      "source": [
        "dfm.passenger_count.value_counts()"
      ]
    },
    {
      "cell_type": "markdown",
      "metadata": {
        "id": "Ehc-moKOs_89"
      },
      "source": [
        "There are some trips with even 0 passenger count.\n",
        "\n",
        "There is only 1 trip each for 7,8 and 9 passengers."
      ]
    },
    {
      "cell_type": "code",
      "execution_count": 20,
      "metadata": {
        "colab": {
          "base_uri": "https://localhost:8080/",
          "height": 308
        },
        "id": "2M7m1eSNtKhC",
        "outputId": "175ebf7e-3bed-4d34-8ba0-a620fdbe2f92"
      },
      "outputs": [
        {
          "output_type": "execute_result",
          "data": {
            "text/plain": [
              "<matplotlib.axes._subplots.AxesSubplot at 0x7ff01bd255d0>"
            ]
          },
          "metadata": {},
          "execution_count": 20
        },
        {
          "output_type": "display_data",
          "data": {
            "text/plain": [
              "<Figure size 432x288 with 1 Axes>"
            ],
            "image/png": "[encoded data removed]"
          },
          "metadata": {
            "needs_background": "light"
          }
        }
      ],
      "source": [
        "sns.countplot(x='passenger_count',data=dfm)"
      ]
    },
    {
      "cell_type": "markdown",
      "metadata": {
        "id": "gswnV4d_tRT5"
      },
      "source": [
        "We see the highest amount of trips are with 1 passenger."
      ]
    },
    {
      "cell_type": "markdown",
      "metadata": {
        "id": "RaPDNhA9tU84"
      },
      "source": [
        "**Latitude and Longitude**"
      ]
    },
    {
      "cell_type": "markdown",
      "metadata": {
        "id": "RmCpYlntt5NK"
      },
      "source": [
        "Lets look at the geospatial or location features to check consistency. They should not vary much as we are only considering trips within New York city."
      ]
    },
    {
      "cell_type": "code",
      "execution_count": 21,
      "metadata": {
        "colab": {
          "base_uri": "https://localhost:8080/",
          "height": 725
        },
        "id": "mFtjMV-atSOT",
        "outputId": "9a120a5b-135f-4926-cfbd-a5bffe60c509"
      },
      "outputs": [
        {
          "output_type": "display_data",
          "data": {
            "text/plain": [
              "<Figure size 720x720 with 4 Axes>"
            ],
            "image/png": "[encoded data removed]"
          },
          "metadata": {}
        }
      ],
      "source": [
        "sns.set(style=\"white\", palette=\"muted\", color_codes=True)\n",
        "f, axes = plt.subplots(2,2,figsize=(10, 10), sharex=False, sharey = False)\n",
        "sns.despine(left=True)\n",
        "sns.distplot(dfm['pickup_latitude'].values, label = 'pickup_latitude',color=\"b\",bins = 100, ax=axes[0,0])\n",
        "sns.distplot(dfm['pickup_longitude'].values, label = 'pickup_longitude',color=\"r\",bins =100, ax=axes[1,0])\n",
        "sns.distplot(dfm['dropoff_latitude'].values, label = 'dropoff_latitude',color=\"b\",bins =100, ax=axes[0,1])\n",
        "sns.distplot(dfm['dropoff_longitude'].values, label = 'dropoff_longitude',color=\"r\",bins =100, ax=axes[1,1])\n",
        "plt.setp(axes, yticks=[])\n",
        "plt.tight_layout()\n",
        "plt.show()"
      ]
    },
    {
      "cell_type": "markdown",
      "metadata": {
        "id": "0Cr0lAvauKI7"
      },
      "source": [
        "Findings - (Here, red represents pickup and dropoff Longitudes & blue represents pickup & dropoff lattitudes)\n",
        "\n",
        "1. From the plot above it is clear that pick and drop latitude are centered around 40 to 41, and longitude are situated around -74 to -73.\n",
        "2. Some extreme co-ordinates has squeezed the plot such that we see a spike here\n",
        "3. A good idea is to remove these outliers and look at the distribution more closely"
      ]
    },
    {
      "cell_type": "code",
      "execution_count": 22,
      "metadata": {
        "colab": {
          "base_uri": "https://localhost:8080/",
          "height": 725
        },
        "id": "q5bpc4H-uVle",
        "outputId": "54fd962d-53b1-494e-d3fd-1f72cf9e2a76"
      },
      "outputs": [
        {
          "output_type": "display_data",
          "data": {
            "text/plain": [
              "<Figure size 720x720 with 4 Axes>"
            ],
            "image/png": "[encoded data removed]"
          },
          "metadata": {}
        }
      ],
      "source": [
        "dfm= dfm.loc[(dfm.pickup_latitude > 40.6) & (dfm.pickup_latitude < 40.9)]\n",
        "dfm= dfm.loc[(dfm.dropoff_latitude>40.6) & (dfm.dropoff_latitude < 40.9)]\n",
        "dfm = dfm.loc[(dfm.dropoff_longitude > -74.05) & (dfm.dropoff_longitude < -73.7)]\n",
        "dfm= dfm.loc[(dfm.pickup_longitude > -74.05) & (dfm.pickup_longitude < -73.7)]\n",
        "df_data_new = dfm.copy()\n",
        "sns.set(style=\"white\", palette=\"muted\", color_codes=True)\n",
        "f, axes = plt.subplots(2,2,figsize=(10, 10), sharex=False, sharey = False)#\n",
        "sns.despine(left=True)\n",
        "sns.distplot(df_data_new['pickup_latitude'].values, label = 'pickup_latitude',color=\"b\",bins = 100, ax=axes[0,0])\n",
        "sns.distplot(df_data_new['pickup_longitude'].values, label = 'pickup_longitude',color=\"r\",bins =100, ax=axes[0,1])\n",
        "sns.distplot(df_data_new['dropoff_latitude'].values, label = 'dropoff_latitude',color=\"b\",bins =100, ax=axes[1, 0])\n",
        "sns.distplot(df_data_new['dropoff_longitude'].values, label = 'dropoff_longitude',color=\"r\",bins =100, ax=axes[1, 1])\n",
        "plt.setp(axes, yticks=[])\n",
        "plt.tight_layout()\n",
        "\n",
        "plt.show()"
      ]
    },
    {
      "cell_type": "markdown",
      "metadata": {
        "id": "qQxUjpX_uVMl"
      },
      "source": [
        "* We have a much better view of the distribution of coordinates instead of spikes. And we see that most trips are concentrated between these lat long only with a few significant clusters.\n",
        "* These clusters are represented by the numerous peaks in the lattitude and longitude histograms"
      ]
    },
    {
      "cell_type": "markdown",
      "metadata": {
        "id": "nMGarDHru9ir"
      },
      "source": [
        "**store_and_fwd_flag**"
      ]
    },
    {
      "cell_type": "code",
      "execution_count": 23,
      "metadata": {
        "colab": {
          "base_uri": "https://localhost:8080/",
          "height": 402
        },
        "id": "r8xCgG_-vKcn",
        "outputId": "18e507bc-2983-4e9d-eab6-0de96490dbef"
      },
      "outputs": [
        {
          "output_type": "execute_result",
          "data": {
            "text/plain": [
              "0    1444400\n",
              "1       7985\n",
              "Name: store_and_fwd_flag, dtype: int64"
            ]
          },
          "metadata": {},
          "execution_count": 23
        },
        {
          "output_type": "display_data",
          "data": {
            "text/plain": [
              "<Figure size 720x360 with 1 Axes>"
            ],
            "image/png": "[encoded data removed]"
          },
          "metadata": {}
        }
      ],
      "source": [
        "# store and fwd flag count\n",
        "plt.figure(figsize=(10,5))\n",
        "sns.countplot(dfm['store_and_fwd_flag'])\n",
        "plt.xlabel('store_and_fwd_flag')\n",
        "plt.ylabel('Frequency')\n",
        "\n",
        "dfm['store_and_fwd_flag'].value_counts()"
      ]
    },
    {
      "cell_type": "markdown",
      "metadata": {
        "id": "vV-FLZD5vl22"
      },
      "source": [
        "The store_and_fwd_flag values, indicating whether the trip data was sent immediately to the vendor('0') or held in the memory of the taxi because there was no connection to the server('1'), show that there was almost no storing taking place."
      ]
    },
    {
      "cell_type": "markdown",
      "metadata": {
        "id": "N4lR0lpEv-5D"
      },
      "source": [
        "Now, we will delve into the datetime features to understand the trend of number of hourly/monthly/daily taxi trips"
      ]
    },
    {
      "cell_type": "code",
      "execution_count": 24,
      "metadata": {
        "colab": {
          "base_uri": "https://localhost:8080/"
        },
        "id": "N-EjQtHmwFaO",
        "outputId": "9dd95eae-126b-4ee9-cec9-78b4c92a52c6"
      },
      "outputs": [
        {
          "output_type": "execute_result",
          "data": {
            "text/plain": [
              "(Timestamp('2016-01-01 00:00:17'), Timestamp('2016-06-30 23:59:39'))"
            ]
          },
          "metadata": {},
          "execution_count": 24
        }
      ],
      "source": [
        "dfm['pickup_datetime'].min(), dfm['pickup_datetime'].max()"
      ]
    },
    {
      "cell_type": "markdown",
      "metadata": {
        "id": "2IqmPM9awL7O"
      },
      "source": [
        "Clearly, These trips are for first 6 months of 2016. To look at trends, we first need to extract week days and hour of day from the pickup date."
      ]
    },
    {
      "cell_type": "code",
      "execution_count": 25,
      "metadata": {
        "id": "_XTvYQ0MwPGF"
      },
      "outputs": [],
      "source": [
        "# creating a new column(day_of_week) from the pickup_datetime column\n",
        "dfm['day_of_week']=dfm['pickup_datetime'].dt.weekday\n",
        "# creating a new column(hour_of_week) from the pickup_datetime column\n",
        "dfm['hour_of_day']=dfm['pickup_datetime'].dt.hour"
      ]
    },
    {
      "cell_type": "code",
      "execution_count": 26,
      "metadata": {
        "colab": {
          "base_uri": "https://localhost:8080/",
          "height": 356
        },
        "id": "syVGoa0QwRf9",
        "outputId": "b80a0d9c-3409-4058-897e-51543e5205e4"
      },
      "outputs": [
        {
          "output_type": "execute_result",
          "data": {
            "text/plain": [
              "Text(0, 0.5, 'frequency')"
            ]
          },
          "metadata": {},
          "execution_count": 26
        },
        {
          "output_type": "display_data",
          "data": {
            "text/plain": [
              "<Figure size 720x360 with 1 Axes>"
            ],
            "image/png": "[encoded data removed]"
          },
          "metadata": {}
        }
      ],
      "source": [
        "plt.figure(figsize=(10,5))\n",
        "sns.countplot(dfm['day_of_week'])\n",
        "plt.xlabel('Week Day')\n",
        "plt.ylabel('frequency')"
      ]
    },
    {
      "cell_type": "markdown",
      "metadata": {
        "id": "Dp3wT1FdweGx"
      },
      "source": [
        "Number of pickups for weekends is much lower than weeks days with a peak on Thurusday(4). Note that here weekday is a decimal number, where 0 is Sunday and 6 is Saturday"
      ]
    },
    {
      "cell_type": "code",
      "execution_count": 27,
      "metadata": {
        "colab": {
          "base_uri": "https://localhost:8080/",
          "height": 356
        },
        "id": "N_60k3BFwhKt",
        "outputId": "ea3a5971-f89e-4365-80ba-8229c70200a0"
      },
      "outputs": [
        {
          "output_type": "execute_result",
          "data": {
            "text/plain": [
              "Text(0, 0.5, 'frequency')"
            ]
          },
          "metadata": {},
          "execution_count": 27
        },
        {
          "output_type": "display_data",
          "data": {
            "text/plain": [
              "<Figure size 720x360 with 1 Axes>"
            ],
            "image/png": "[encoded data removed]"
          },
          "metadata": {}
        }
      ],
      "source": [
        "plt.figure(figsize=(10,5))\n",
        "sns.countplot(dfm['hour_of_day'])\n",
        "plt.xlabel('hour of Day')\n",
        "plt.ylabel('frequency')"
      ]
    },
    {
      "cell_type": "markdown",
      "metadata": {
        "id": "XL5uuXEHwme4"
      },
      "source": [
        "Number of pickups as expected is highest in late evening. However, it is much lower during the morning peak hours."
      ]
    },
    {
      "cell_type": "markdown",
      "metadata": {
        "id": "MklK1xLUvnkH"
      },
      "source": [
        "# **Bivariate Analysis**"
      ]
    },
    {
      "cell_type": "markdown",
      "metadata": {
        "id": "IULiXzPcxFt9"
      },
      "source": [
        "Now that we have gone through all the basic features one by one. Let us start looking at their relation with the target. This will help us in selecting and extracting features at the modelling stage."
      ]
    },
    {
      "cell_type": "markdown",
      "metadata": {
        "id": "P7onf2f0xLDP"
      },
      "source": [
        "**Trip Duration vs Weekday**\n",
        "\n",
        "For different week days, the trip durations can vary as different week days might have different traffic densities especially the weekends might have a much different patterns as compared to working days. Weekday is taken as a decimal number, where 0 - Sunday and 6 is Saturday."
      ]
    },
    {
      "cell_type": "code",
      "execution_count": 28,
      "metadata": {
        "colab": {
          "base_uri": "https://localhost:8080/",
          "height": 302
        },
        "id": "F5fJXQZDxTXE",
        "outputId": "966a1760-c89f-40d5-c633-951803fbb040"
      },
      "outputs": [
        {
          "output_type": "execute_result",
          "data": {
            "text/plain": [
              "Text(0.5, 0, 'Week_day')"
            ]
          },
          "metadata": {},
          "execution_count": 28
        },
        {
          "output_type": "display_data",
          "data": {
            "text/plain": [
              "<Figure size 432x288 with 1 Axes>"
            ],
            "image/png": "[encoded data removed]"
          },
          "metadata": {}
        }
      ],
      "source": [
        "summary_wdays_avg_duration = pd.DataFrame(dfm.groupby(['day_of_week'])['trip_duration'].median())\n",
        "X=[0,1,2,3,4,5,6]\n",
        "Y=summary_wdays_avg_duration['trip_duration']\n",
        "sns.lineplot(X,Y)\n",
        "plt.xlabel(\"Week_day\")"
      ]
    },
    {
      "cell_type": "markdown",
      "metadata": {
        "id": "17fGSQm3xheK"
      },
      "source": [
        "**vendor_id vs Trip Duration**\n",
        "\n",
        "Let's check how the trip duration varies for different vendors."
      ]
    },
    {
      "cell_type": "code",
      "execution_count": 29,
      "metadata": {
        "colab": {
          "base_uri": "https://localhost:8080/",
          "height": 405
        },
        "id": "al6h99zlsbZd",
        "outputId": "f93d3259-c1d5-4564-94b7-58acfb2e91c6"
      },
      "outputs": [
        {
          "output_type": "display_data",
          "data": {
            "text/plain": [
              "<Figure size 720x432 with 1 Axes>"
            ],
            "image/png": "[encoded data removed]"
          },
          "metadata": {}
        }
      ],
      "source": [
        "plt.figure(figsize=(10, 6))\n",
        "sns.boxplot(x=\"vendor_id\", y=\"trip_duration\", data=dfm)\n",
        "plt.show()"
      ]
    },
    {
      "cell_type": "markdown",
      "metadata": {
        "id": "vGRIRkjwxvaL"
      },
      "source": [
        "Woah! This did not came out as expected. The only thing I can see from this boxplot is that for vendor 2, there are a number of outliers exceeding 24 hours while vendor 1 does not have such long trips.\n",
        "\n",
        "There could be 2 solutions to this:\n",
        "\n",
        "Remove the huge outliers and plot again\n",
        "Look at median trip duration for both vendors on hourly basis Let's try the first technique now and check trips below 50000 seconds only"
      ]
    },
    {
      "cell_type": "code",
      "execution_count": 30,
      "metadata": {
        "colab": {
          "base_uri": "https://localhost:8080/",
          "height": 377
        },
        "id": "HH0gEyryxrLW",
        "outputId": "53728378-280c-4676-886a-62c2bc403f83"
      },
      "outputs": [
        {
          "output_type": "display_data",
          "data": {
            "text/plain": [
              "<Figure size 1584x432 with 1 Axes>"
            ],
            "image/png": "[encoded data removed]"
          },
          "metadata": {}
        }
      ],
      "source": [
        "plt.figure(figsize=(22, 6))\n",
        "df_sub = dfm[dfm['trip_duration'] < 50000]\n",
        "sns.boxplot(x=\"vendor_id\", y=\"trip_duration\", data=df_sub)\n",
        "plt.show()"
      ]
    },
    {
      "cell_type": "markdown",
      "metadata": {
        "id": "ziuFX6hGx7O0"
      },
      "source": [
        "As you can see, we were in a false perception earlier that vendor 1 had more outliers. Since the median is just around 600 seconds, we observe that vendor 2 has many more outliers as compared to vendor 1. Next, to confirm this, we will quickly look at the mean wrt day of week for both vendors using tsplot (time series plot) from seaborn."
      ]
    },
    {
      "cell_type": "markdown",
      "metadata": {
        "id": "XfWuzH4QyEFa"
      },
      "source": [
        "**Trip Duration vs Passenger Count**"
      ]
    },
    {
      "cell_type": "code",
      "execution_count": 31,
      "metadata": {
        "colab": {
          "base_uri": "https://localhost:8080/",
          "height": 394
        },
        "id": "4gojoyeJx3Rb",
        "outputId": "346a06c7-c11e-49d6-9226-a752fb9bca68"
      },
      "outputs": [
        {
          "output_type": "display_data",
          "data": {
            "text/plain": [
              "<Figure size 1080x432 with 1 Axes>"
            ],
            "image/png": "[encoded data removed]"
          },
          "metadata": {}
        }
      ],
      "source": [
        "dfm.passenger_count.value_counts()\n",
        "plt.figure(figsize=(15, 6))\n",
        "df_sub = dfm[dfm['trip_duration'] < 10000]\n",
        "sns.boxplot(x=\"passenger_count\", y=\"trip_duration\", data=df_sub)\n",
        "plt.show()"
      ]
    },
    {
      "cell_type": "markdown",
      "metadata": {
        "id": "1GXAzeQLyVS7"
      },
      "source": [
        "* The boxplot clearly shows that there not much of a difference in distribution for the most frequently occuring passenger count values - 1, 2, 3.\n",
        "* Another key observation is that the number of outliers are reduced for higher passenger counts but that only comes down to the individual frequencies of each passenger count."
      ]
    },
    {
      "cell_type": "markdown",
      "metadata": {
        "id": "-Iunna6lyh7D"
      },
      "source": [
        "**Trip Duration per hour**"
      ]
    },
    {
      "cell_type": "markdown",
      "metadata": {
        "id": "4-0QGdUdy1TV"
      },
      "source": [
        "We see the trip duration is the maximum around 3 pm which may be because of traffic on the roads. Trip duration is the lowest around 6 am as streets may not be busy."
      ]
    },
    {
      "cell_type": "markdown",
      "metadata": {
        "id": "GY7ivSRizP8k"
      },
      "source": [
        "**Trip Duration per Day of Week**"
      ]
    },
    {
      "cell_type": "markdown",
      "metadata": {
        "id": "c2Cv0eiLzepw"
      },
      "source": [
        "Trip duration is the longest on Thursdays closely followed by Fridays."
      ]
    },
    {
      "cell_type": "markdown",
      "metadata": {
        "id": "-k1UDZRPzkJ1"
      },
      "source": [
        "**Trip Duration per month**"
      ]
    },
    {
      "cell_type": "code",
      "execution_count": 37,
      "metadata": {
        "colab": {
          "base_uri": "https://localhost:8080/",
          "height": 311
        },
        "id": "tyNk10yMzVe0",
        "outputId": "609ea825-2670-4005-aac8-9231ee70d077"
      },
      "outputs": [
        {
          "output_type": "error",
          "ename": "ValueError",
          "evalue": "ignored",
          "traceback": [
            "\u001b[0;31m---------------------------------------------------------------------------\u001b[0m",
            "\u001b[0;31mValueError\u001b[0m                                Traceback (most recent call last)",
            "\u001b[0;32m<ipython-input-37-7ebf8f592a59>\u001b[0m in \u001b[0;36m<module>\u001b[0;34m()\u001b[0m\n\u001b[0;32m----> 1\u001b[0;31m \u001b[0msns\u001b[0m\u001b[0;34m.\u001b[0m\u001b[0mlineplot\u001b[0m\u001b[0;34m(\u001b[0m\u001b[0mx\u001b[0m\u001b[0;34m=\u001b[0m\u001b[0;34m'pickup_month'\u001b[0m\u001b[0;34m,\u001b[0m\u001b[0my\u001b[0m\u001b[0;34m=\u001b[0m\u001b[0;34m'trip_duration'\u001b[0m\u001b[0;34m,\u001b[0m\u001b[0mdata\u001b[0m\u001b[0;34m=\u001b[0m\u001b[0mdfm\u001b[0m\u001b[0;34m)\u001b[0m\u001b[0;34m\u001b[0m\u001b[0;34m\u001b[0m\u001b[0m\n\u001b[0m",
            "\u001b[0;32m/usr/local/lib/python3.7/dist-packages/seaborn/_decorators.py\u001b[0m in \u001b[0;36minner_f\u001b[0;34m(*args, **kwargs)\u001b[0m\n\u001b[1;32m     44\u001b[0m             )\n\u001b[1;32m     45\u001b[0m         \u001b[0mkwargs\u001b[0m\u001b[0;34m.\u001b[0m\u001b[0mupdate\u001b[0m\u001b[0;34m(\u001b[0m\u001b[0;34m{\u001b[0m\u001b[0mk\u001b[0m\u001b[0;34m:\u001b[0m \u001b[0marg\u001b[0m \u001b[0;32mfor\u001b[0m \u001b[0mk\u001b[0m\u001b[0;34m,\u001b[0m \u001b[0marg\u001b[0m \u001b[0;32min\u001b[0m \u001b[0mzip\u001b[0m\u001b[0;34m(\u001b[0m\u001b[0msig\u001b[0m\u001b[0;34m.\u001b[0m\u001b[0mparameters\u001b[0m\u001b[0;34m,\u001b[0m \u001b[0margs\u001b[0m\u001b[0;34m)\u001b[0m\u001b[0;34m}\u001b[0m\u001b[0;34m)\u001b[0m\u001b[0;34m\u001b[0m\u001b[0;34m\u001b[0m\u001b[0m\n\u001b[0;32m---> 46\u001b[0;31m         \u001b[0;32mreturn\u001b[0m \u001b[0mf\u001b[0m\u001b[0;34m(\u001b[0m\u001b[0;34m**\u001b[0m\u001b[0mkwargs\u001b[0m\u001b[0;34m)\u001b[0m\u001b[0;34m\u001b[0m\u001b[0;34m\u001b[0m\u001b[0m\n\u001b[0m\u001b[1;32m     47\u001b[0m     \u001b[0;32mreturn\u001b[0m \u001b[0minner_f\u001b[0m\u001b[0;34m\u001b[0m\u001b[0;34m\u001b[0m\u001b[0m\n\u001b[1;32m     48\u001b[0m \u001b[0;34m\u001b[0m\u001b[0m\n",
            "\u001b[0;32m/usr/local/lib/python3.7/dist-packages/seaborn/relational.py\u001b[0m in \u001b[0;36mlineplot\u001b[0;34m(x, y, hue, size, style, data, palette, hue_order, hue_norm, sizes, size_order, size_norm, dashes, markers, style_order, units, estimator, ci, n_boot, seed, sort, err_style, err_kws, legend, ax, **kwargs)\u001b[0m\n\u001b[1;32m    693\u001b[0m         \u001b[0mdata\u001b[0m\u001b[0;34m=\u001b[0m\u001b[0mdata\u001b[0m\u001b[0;34m,\u001b[0m \u001b[0mvariables\u001b[0m\u001b[0;34m=\u001b[0m\u001b[0mvariables\u001b[0m\u001b[0;34m,\u001b[0m\u001b[0;34m\u001b[0m\u001b[0;34m\u001b[0m\u001b[0m\n\u001b[1;32m    694\u001b[0m         \u001b[0mestimator\u001b[0m\u001b[0;34m=\u001b[0m\u001b[0mestimator\u001b[0m\u001b[0;34m,\u001b[0m \u001b[0mci\u001b[0m\u001b[0;34m=\u001b[0m\u001b[0mci\u001b[0m\u001b[0;34m,\u001b[0m \u001b[0mn_boot\u001b[0m\u001b[0;34m=\u001b[0m\u001b[0mn_boot\u001b[0m\u001b[0;34m,\u001b[0m \u001b[0mseed\u001b[0m\u001b[0;34m=\u001b[0m\u001b[0mseed\u001b[0m\u001b[0;34m,\u001b[0m\u001b[0;34m\u001b[0m\u001b[0;34m\u001b[0m\u001b[0m\n\u001b[0;32m--> 695\u001b[0;31m         \u001b[0msort\u001b[0m\u001b[0;34m=\u001b[0m\u001b[0msort\u001b[0m\u001b[0;34m,\u001b[0m \u001b[0merr_style\u001b[0m\u001b[0;34m=\u001b[0m\u001b[0merr_style\u001b[0m\u001b[0;34m,\u001b[0m \u001b[0merr_kws\u001b[0m\u001b[0;34m=\u001b[0m\u001b[0merr_kws\u001b[0m\u001b[0;34m,\u001b[0m \u001b[0mlegend\u001b[0m\u001b[0;34m=\u001b[0m\u001b[0mlegend\u001b[0m\u001b[0;34m,\u001b[0m\u001b[0;34m\u001b[0m\u001b[0;34m\u001b[0m\u001b[0m\n\u001b[0m\u001b[1;32m    696\u001b[0m     )\n\u001b[1;32m    697\u001b[0m \u001b[0;34m\u001b[0m\u001b[0m\n",
            "\u001b[0;32m/usr/local/lib/python3.7/dist-packages/seaborn/relational.py\u001b[0m in \u001b[0;36m__init__\u001b[0;34m(self, data, variables, estimator, ci, n_boot, seed, sort, err_style, err_kws, legend)\u001b[0m\n\u001b[1;32m    365\u001b[0m         )\n\u001b[1;32m    366\u001b[0m \u001b[0;34m\u001b[0m\u001b[0m\n\u001b[0;32m--> 367\u001b[0;31m         \u001b[0msuper\u001b[0m\u001b[0;34m(\u001b[0m\u001b[0;34m)\u001b[0m\u001b[0;34m.\u001b[0m\u001b[0m__init__\u001b[0m\u001b[0;34m(\u001b[0m\u001b[0mdata\u001b[0m\u001b[0;34m=\u001b[0m\u001b[0mdata\u001b[0m\u001b[0;34m,\u001b[0m \u001b[0mvariables\u001b[0m\u001b[0;34m=\u001b[0m\u001b[0mvariables\u001b[0m\u001b[0;34m)\u001b[0m\u001b[0;34m\u001b[0m\u001b[0;34m\u001b[0m\u001b[0m\n\u001b[0m\u001b[1;32m    368\u001b[0m \u001b[0;34m\u001b[0m\u001b[0m\n\u001b[1;32m    369\u001b[0m         \u001b[0mself\u001b[0m\u001b[0;34m.\u001b[0m\u001b[0mestimator\u001b[0m \u001b[0;34m=\u001b[0m \u001b[0mestimator\u001b[0m\u001b[0;34m\u001b[0m\u001b[0;34m\u001b[0m\u001b[0m\n",
            "\u001b[0;32m/usr/local/lib/python3.7/dist-packages/seaborn/_core.py\u001b[0m in \u001b[0;36m__init__\u001b[0;34m(self, data, variables)\u001b[0m\n\u001b[1;32m    603\u001b[0m     \u001b[0;32mdef\u001b[0m \u001b[0m__init__\u001b[0m\u001b[0;34m(\u001b[0m\u001b[0mself\u001b[0m\u001b[0;34m,\u001b[0m \u001b[0mdata\u001b[0m\u001b[0;34m=\u001b[0m\u001b[0;32mNone\u001b[0m\u001b[0;34m,\u001b[0m \u001b[0mvariables\u001b[0m\u001b[0;34m=\u001b[0m\u001b[0;34m{\u001b[0m\u001b[0;34m}\u001b[0m\u001b[0;34m)\u001b[0m\u001b[0;34m:\u001b[0m\u001b[0;34m\u001b[0m\u001b[0;34m\u001b[0m\u001b[0m\n\u001b[1;32m    604\u001b[0m \u001b[0;34m\u001b[0m\u001b[0m\n\u001b[0;32m--> 605\u001b[0;31m         \u001b[0mself\u001b[0m\u001b[0;34m.\u001b[0m\u001b[0massign_variables\u001b[0m\u001b[0;34m(\u001b[0m\u001b[0mdata\u001b[0m\u001b[0;34m,\u001b[0m \u001b[0mvariables\u001b[0m\u001b[0;34m)\u001b[0m\u001b[0;34m\u001b[0m\u001b[0;34m\u001b[0m\u001b[0m\n\u001b[0m\u001b[1;32m    606\u001b[0m \u001b[0;34m\u001b[0m\u001b[0m\n\u001b[1;32m    607\u001b[0m         \u001b[0;32mfor\u001b[0m \u001b[0mvar\u001b[0m\u001b[0;34m,\u001b[0m \u001b[0mcls\u001b[0m \u001b[0;32min\u001b[0m \u001b[0mself\u001b[0m\u001b[0;34m.\u001b[0m\u001b[0m_semantic_mappings\u001b[0m\u001b[0;34m.\u001b[0m\u001b[0mitems\u001b[0m\u001b[0;34m(\u001b[0m\u001b[0;34m)\u001b[0m\u001b[0;34m:\u001b[0m\u001b[0;34m\u001b[0m\u001b[0;34m\u001b[0m\u001b[0m\n",
            "\u001b[0;32m/usr/local/lib/python3.7/dist-packages/seaborn/_core.py\u001b[0m in \u001b[0;36massign_variables\u001b[0;34m(self, data, variables)\u001b[0m\n\u001b[1;32m    667\u001b[0m             \u001b[0mself\u001b[0m\u001b[0;34m.\u001b[0m\u001b[0minput_format\u001b[0m \u001b[0;34m=\u001b[0m \u001b[0;34m\"long\"\u001b[0m\u001b[0;34m\u001b[0m\u001b[0;34m\u001b[0m\u001b[0m\n\u001b[1;32m    668\u001b[0m             plot_data, variables = self._assign_variables_longform(\n\u001b[0;32m--> 669\u001b[0;31m                 \u001b[0mdata\u001b[0m\u001b[0;34m,\u001b[0m \u001b[0;34m**\u001b[0m\u001b[0mvariables\u001b[0m\u001b[0;34m,\u001b[0m\u001b[0;34m\u001b[0m\u001b[0;34m\u001b[0m\u001b[0m\n\u001b[0m\u001b[1;32m    670\u001b[0m             )\n\u001b[1;32m    671\u001b[0m \u001b[0;34m\u001b[0m\u001b[0m\n",
            "\u001b[0;32m/usr/local/lib/python3.7/dist-packages/seaborn/_core.py\u001b[0m in \u001b[0;36m_assign_variables_longform\u001b[0;34m(self, data, **kwargs)\u001b[0m\n\u001b[1;32m    901\u001b[0m \u001b[0;34m\u001b[0m\u001b[0m\n\u001b[1;32m    902\u001b[0m                 \u001b[0merr\u001b[0m \u001b[0;34m=\u001b[0m \u001b[0;34mf\"Could not interpret value `{val}` for parameter `{key}`\"\u001b[0m\u001b[0;34m\u001b[0m\u001b[0;34m\u001b[0m\u001b[0m\n\u001b[0;32m--> 903\u001b[0;31m                 \u001b[0;32mraise\u001b[0m \u001b[0mValueError\u001b[0m\u001b[0;34m(\u001b[0m\u001b[0merr\u001b[0m\u001b[0;34m)\u001b[0m\u001b[0;34m\u001b[0m\u001b[0;34m\u001b[0m\u001b[0m\n\u001b[0m\u001b[1;32m    904\u001b[0m \u001b[0;34m\u001b[0m\u001b[0m\n\u001b[1;32m    905\u001b[0m             \u001b[0;32melse\u001b[0m\u001b[0;34m:\u001b[0m\u001b[0;34m\u001b[0m\u001b[0;34m\u001b[0m\u001b[0m\n",
            "\u001b[0;31mValueError\u001b[0m: Could not interpret value `pickup_month` for parameter `x`"
          ]
        }
      ],
      "source": [
        "sns.lineplot(x='pickup_month',y='trip_duration',data=dfm)"
      ]
    },
    {
      "cell_type": "markdown",
      "metadata": {
        "id": "3d4CFYXpzwVn"
      },
      "source": [
        "From February, we can see trip duration rising every month."
      ]
    },
    {
      "cell_type": "markdown",
      "metadata": {
        "id": "AugecYvzz8DM"
      },
      "source": [
        "**Correlation Heatmap**\n",
        "\n",
        "Let us quickly look at the correlation heatmap to check the correlations amongst all features."
      ]
    },
    {
      "cell_type": "code",
      "execution_count": 33,
      "metadata": {
        "colab": {
          "base_uri": "https://localhost:8080/",
          "height": 381
        },
        "id": "DZayp8npzs46",
        "outputId": "5e7e7835-2fec-4642-d727-c8fb5cb602cf"
      },
      "outputs": [
        {
          "output_type": "display_data",
          "data": {
            "text/plain": [
              "<Figure size 1584x432 with 2 Axes>"
            ],
            "image/png": "[encoded data removed]"
          },
          "metadata": {}
        }
      ],
      "source": [
        "plt.figure(figsize=(22, 6))\n",
        "sf = dfm.drop(['id', 'pickup_datetime', 'dropoff_datetime',\n",
        "       'passenger_count','check_trip_duration','log_trip_duration'],\n",
        "        axis=1)\n",
        "corr = sf.apply(lambda x: pd.factorize(x)[0]).corr()\n",
        "ax = sns.heatmap(corr, xticklabels=corr.columns, yticklabels=corr.columns, \n",
        "                 linewidths=.2, cmap=\"Reds\")"
      ]
    },
    {
      "cell_type": "markdown",
      "source": [
        "# **Preprocessing & Feature Extraction**"
      ],
      "metadata": {
        "id": "3Y4fhMhgmqIp"
      }
    },
    {
      "cell_type": "markdown",
      "source": [
        "Some of my ideas to create new variables and the reasons are as follows\n",
        "\n",
        "1.Difference between pickup and dropoff latitude - will give an idea about the distance covered which could be predictive\n",
        "\n",
        "2.Difference between pickup and dropoff longitude - same reason as above\n",
        "\n",
        "3.Haversine distance between pickup and dropoff co-ordinates - to capture the actual distance travelled.\n",
        "\n",
        "4.Pickup minute - since pickup hour is an important variable, the minute of pickup might well have been predictive.\n",
        "\n",
        "5.Pickup day of year - same reason as above"
      ],
      "metadata": {
        "id": "J4EaGEIom5wV"
      }
    },
    {
      "cell_type": "markdown",
      "source": [
        "**DateTime Conversion**"
      ],
      "metadata": {
        "id": "8cfORy6snlxV"
      }
    },
    {
      "cell_type": "markdown",
      "source": [
        "The datetime features from csv files are read as strings and in order to easily extract features like day of week, month, year etc. we need to convert it into datetime format of python."
      ],
      "metadata": {
        "id": "t4ceB15jnsF-"
      }
    },
    {
      "cell_type": "code",
      "source": [
        "nyc=df.copy()"
      ],
      "metadata": {
        "id": "d7b_cHC_oLdC"
      },
      "execution_count": 34,
      "outputs": []
    },
    {
      "cell_type": "code",
      "source": [
        "# converting strings to datetime features\n",
        "nyc['pickup_datetime'] = pd.to_datetime(nyc.pickup_datetime)\n",
        "nyc['dropoff_datetime'] = pd.to_datetime(nyc.dropoff_datetime)"
      ],
      "metadata": {
        "id": "_w4U8yiwn044"
      },
      "execution_count": 35,
      "outputs": []
    },
    {
      "cell_type": "code",
      "execution_count": 36,
      "metadata": {
        "id": "ms6Px8rKJ1NX"
      },
      "outputs": [],
      "source": [
        "# Log transform the Y values\n",
        "df_y = np.log1p(nyc['trip_duration'])\n",
        "\n",
        "# Add some datetime features\n",
        "nyc.loc[:, 'pickup_weekday'] = nyc['pickup_datetime'].dt.weekday\n",
        "nyc.loc[:, 'pickup_hour_weekofyear'] = nyc['pickup_datetime'].dt.weekofyear\n",
        "nyc.loc[:, 'pickup_hour'] = nyc['pickup_datetime'].dt.hour\n",
        "nyc.loc[:, 'pickup_minute'] = nyc['pickup_datetime'].dt.minute\n",
        "nyc.loc[:, 'pickup_dt'] = (nyc['pickup_datetime'] - nyc['pickup_datetime'].min()).dt.total_seconds()\n",
        "nyc.loc[:, 'pickup_week_hour'] = nyc['pickup_weekday'] * 24 + nyc['pickup_hour']"
      ]
    },
    {
      "cell_type": "markdown",
      "source": [
        "**Distance Features**"
      ],
      "metadata": {
        "id": "-4PHqcyRrwhC"
      }
    },
    {
      "cell_type": "markdown",
      "source": [
        "As discussed earlier, distance features must be important and must be included here"
      ],
      "metadata": {
        "id": "IFrpo6VAr4bW"
      }
    },
    {
      "cell_type": "markdown",
      "source": [
        "**Eucledian Distance**"
      ],
      "metadata": {
        "id": "Iibv55Hdr6q3"
      }
    },
    {
      "cell_type": "markdown",
      "source": [
        "Let's Calculate the Eucledian distance between pickup and drop off location to get some idea on how far the pickup and dropoff points are since this would definitely impact the trip duration even though we know that cars can't fly"
      ],
      "metadata": {
        "id": "ulIoJiFtsD7r"
      }
    },
    {
      "cell_type": "code",
      "execution_count": 38,
      "metadata": {
        "id": "V1ux08XIJ4nl"
      },
      "outputs": [],
      "source": [
        "#displacement\n",
        "y_dist= nyc['pickup_longitude'] - nyc['dropoff_longitude']\n",
        "x_dist = nyc['pickup_latitude'] - nyc['dropoff_latitude']\n",
        "\n",
        "#square distance\n",
        "nyc['dist_sq'] = (y_dist ** 2) + (x_dist ** 2)\n",
        "\n",
        "#distance\n",
        "nyc['dist_sqrt'] = nyc['dist_sq'] ** 0.5"
      ]
    },
    {
      "cell_type": "markdown",
      "source": [
        "**Haversine Distance**"
      ],
      "metadata": {
        "id": "KnbG66bmsMGG"
      }
    },
    {
      "cell_type": "markdown",
      "source": [
        "Let's calculate the distance (km) between pickup and dropoff points. The haversine formula determines the great-circle distance between two points on a sphere given their longitudes and latitudes. We will also calculate the approximate angle at which the dropoff location lies wrt the pickup location. pd.DataFrame.apply() would be too slow so the haversine function is rewritten to handle arrays."
      ],
      "metadata": {
        "id": "NaJH0HGNsZIP"
      }
    },
    {
      "cell_type": "markdown",
      "source": [
        "Haversine direction represents the information of angle of the line connecting the dropoff and pickup point over the surface of earth wrt equator.\n",
        "\n"
      ],
      "metadata": {
        "id": "pIlcvQq1sb4N"
      }
    },
    {
      "cell_type": "code",
      "execution_count": 39,
      "metadata": {
        "id": "4WeKO1ufJ9Dl"
      },
      "outputs": [],
      "source": [
        "def haversine_array(lat1, lng1, lat2, lng2):\n",
        "    lat1, lng1, lat2, lng2 = map(np.radians, (lat1, lng1, lat2, lng2))\n",
        "    AVG_EARTH_RADIUS = 6371  # in km\n",
        "    lat = lat2 - lat1\n",
        "    lng = lng2 - lng1\n",
        "    d = np.sin(lat * 0.5) ** 2 + np.cos(lat1) * np.cos(lat2) * np.sin(lng * 0.5) ** 2\n",
        "    h = 2 * AVG_EARTH_RADIUS * np.arcsin(np.sqrt(d))\n",
        "    return h\n",
        "\n",
        "def direction_array(lat1, lng1, lat2, lng2):\n",
        "    AVG_EARTH_RADIUS = 6371  # in km\n",
        "    lng_delta_rad = np.radians(lng2 - lng1)\n",
        "    lat1, lng1, lat2, lng2 = map(np.radians, (lat1, lng1, lat2, lng2))\n",
        "    y = np.sin(lng_delta_rad) * np.cos(lat2)\n",
        "    x = np.cos(lat1) * np.sin(lat2) - np.sin(lat1) * np.cos(lat2) * np.cos(lng_delta_rad)\n",
        "    return np.degrees(np.arctan2(y, x))\n",
        "\n",
        "\n",
        "nyc['haversine_distance'] = haversine_array(nyc['pickup_latitude'].values, \n",
        "                                                     nyc['pickup_longitude'].values, \n",
        "                                                     nyc['dropoff_latitude'].values, \n",
        "                                                     nyc['dropoff_longitude'].values)\n",
        "\n",
        "\n",
        "nyc['direction'] = direction_array(nyc['pickup_latitude'].values, \n",
        "                                          nyc['pickup_longitude'].values, \n",
        "                                          nyc['dropoff_latitude'].values, \n",
        "                                          nyc['dropoff_longitude'].values)"
      ]
    },
    {
      "cell_type": "markdown",
      "source": [
        "**Binning**"
      ],
      "metadata": {
        "id": "J2rAmRXJssX3"
      }
    },
    {
      "cell_type": "markdown",
      "source": [
        "The lattitude and longitude could be a bit noisy and it might be a good idea to bin them and create new features after rounding their values."
      ],
      "metadata": {
        "id": "HlzQX1mtsyDp"
      }
    },
    {
      "cell_type": "code",
      "execution_count": 40,
      "metadata": {
        "id": "U0fb7mgmJ-1S"
      },
      "outputs": [],
      "source": [
        "## Binned Coordinates ###\n",
        "nyc['pickup_latitude_round3'] = np.round(nyc['pickup_latitude'],3)\n",
        "nyc['pickup_longitude_round3'] = np.round(nyc['pickup_longitude'],3)\n",
        "\n",
        "nyc['dropoff_latitude_round3'] = np.round(nyc['dropoff_latitude'],3)\n",
        "nyc['dropoff_longitude_round3'] = np.round(nyc['dropoff_longitude'],3)"
      ]
    },
    {
      "cell_type": "markdown",
      "metadata": {
        "id": "fmiqGML40wr0"
      },
      "source": [
        "**One Hot Encoding**\n",
        "\n",
        "Here, Vendor ID can be converted to one hot encoding or frequency encoding since in the raw data it has values 1 and 2 without any inherent order."
      ]
    },
    {
      "cell_type": "code",
      "execution_count": 41,
      "metadata": {
        "colab": {
          "base_uri": "https://localhost:8080/"
        },
        "id": "IDtnWPhH0Hoy",
        "outputId": "38ad5fc6-85e5-406e-8167-37e38a8b973e"
      },
      "outputs": [
        {
          "output_type": "execute_result",
          "data": {
            "text/plain": [
              "2    776965\n",
              "1    675420\n",
              "Name: vendor_id, dtype: int64"
            ]
          },
          "metadata": {},
          "execution_count": 41
        }
      ],
      "source": [
        "dfm.vendor_id.value_counts()"
      ]
    },
    {
      "cell_type": "markdown",
      "metadata": {
        "id": "OTyOe8px06bi"
      },
      "source": [
        "Now, there is not much difference in the frequencies of both and that might not make for an important feature. so we will just convert it to 0 and 1 by subtracting 1 from it"
      ]
    },
    {
      "cell_type": "code",
      "execution_count": 42,
      "metadata": {
        "id": "HDgPtOHE01L8"
      },
      "outputs": [],
      "source": [
        "nyc['vendor_id'] = df['vendor_id'] - 1\n"
      ]
    },
    {
      "cell_type": "code",
      "execution_count": 43,
      "metadata": {
        "colab": {
          "base_uri": "https://localhost:8080/"
        },
        "id": "BKwoTWcn0-ah",
        "outputId": "94b8828c-00de-4f90-c4d5-f5f66defa2b4"
      },
      "outputs": [
        {
          "output_type": "execute_result",
          "data": {
            "text/plain": [
              "id                          0\n",
              "vendor_id                   0\n",
              "pickup_datetime             0\n",
              "dropoff_datetime            0\n",
              "passenger_count             0\n",
              "pickup_longitude            0\n",
              "pickup_latitude             0\n",
              "dropoff_longitude           0\n",
              "dropoff_latitude            0\n",
              "store_and_fwd_flag          0\n",
              "trip_duration               0\n",
              "pickup_weekday              0\n",
              "pickup_hour_weekofyear      0\n",
              "pickup_hour                 0\n",
              "pickup_minute               0\n",
              "pickup_dt                   0\n",
              "pickup_week_hour            0\n",
              "dist_sq                     0\n",
              "dist_sqrt                   0\n",
              "haversine_distance          0\n",
              "direction                   0\n",
              "pickup_latitude_round3      0\n",
              "pickup_longitude_round3     0\n",
              "dropoff_latitude_round3     0\n",
              "dropoff_longitude_round3    0\n",
              "dtype: int64"
            ]
          },
          "metadata": {},
          "execution_count": 43
        }
      ],
      "source": [
        "np.sum(pd.isnull(nyc))"
      ]
    },
    {
      "cell_type": "markdown",
      "metadata": {
        "id": "jV94fvjd1MdZ"
      },
      "source": [
        "Before we go on to build a model, we must drop the variables that should not be fed as features to the algorithms. We will drop\n",
        "\n",
        "* id - Uniquely represents a sample in the train set\n",
        "* pickup_datetime - Since we have extracted the datetime features, there is no need to keep the datetime column\n",
        "* dropoff_datetime - If this is used to create features, it would be a leakage and we will get perfect model performance. Why? The time gap between dropoff_datetime and pickup_datetime is essentially what we are trying to predict\n",
        "* trip_duration - This is the target variable so needs to be dropped\n",
        "store_and_fwd_flag - This variable is not available before the start of the trip and should not be used for modelling."
      ]
    },
    {
      "cell_type": "code",
      "execution_count": 44,
      "metadata": {
        "id": "qaB2ceHRKMiW"
      },
      "outputs": [],
      "source": [
        "nyc = nyc.drop(['id', 'pickup_datetime', 'dropoff_datetime', 'trip_duration','store_and_fwd_flag'], axis=1)"
      ]
    },
    {
      "cell_type": "markdown",
      "source": [
        "# **Model Building**"
      ],
      "metadata": {
        "id": "I8Nyfl72tFbA"
      }
    },
    {
      "cell_type": "code",
      "source": [
        "nyc.head()"
      ],
      "metadata": {
        "colab": {
          "base_uri": "https://localhost:8080/",
          "height": 270
        },
        "id": "kEjtfSKgtMQz",
        "outputId": "76792016-b163-4e20-87bb-3e70fd56f119"
      },
      "execution_count": 45,
      "outputs": [
        {
          "output_type": "execute_result",
          "data": {
            "text/plain": [
              "   vendor_id  passenger_count  pickup_longitude  pickup_latitude  \\\n",
              "0          1                1        -73.982155        40.767937   \n",
              "1          0                1        -73.980415        40.738564   \n",
              "2          1                1        -73.979027        40.763939   \n",
              "3          1                1        -74.010040        40.719971   \n",
              "4          1                1        -73.973053        40.793209   \n",
              "\n",
              "   dropoff_longitude  dropoff_latitude  pickup_weekday  \\\n",
              "0         -73.964630         40.765602               0   \n",
              "1         -73.999481         40.731152               6   \n",
              "2         -74.005333         40.710087               1   \n",
              "3         -74.012268         40.706718               2   \n",
              "4         -73.972923         40.782520               5   \n",
              "\n",
              "   pickup_hour_weekofyear  pickup_hour  pickup_minute   pickup_dt  \\\n",
              "0                      11           17             24   6369878.0   \n",
              "1                      23            0             43  14085798.0   \n",
              "2                       3           11             35   1596907.0   \n",
              "3                      14           19             32   8364734.0   \n",
              "4                      12           13             30   7392638.0   \n",
              "\n",
              "   pickup_week_hour   dist_sq  dist_sqrt  haversine_distance   direction  \\\n",
              "0                17  0.000313   0.017680            1.498521   99.970196   \n",
              "1               144  0.000418   0.020456            1.805507 -117.153768   \n",
              "2                35  0.003592   0.059934            6.385098 -159.680165   \n",
              "3                67  0.000181   0.013438            1.485498 -172.737700   \n",
              "4               133  0.000114   0.010690            1.188588  179.473585   \n",
              "\n",
              "   pickup_latitude_round3  pickup_longitude_round3  dropoff_latitude_round3  \\\n",
              "0                  40.768                  -73.982                   40.766   \n",
              "1                  40.739                  -73.980                   40.731   \n",
              "2                  40.764                  -73.979                   40.710   \n",
              "3                  40.720                  -74.010                   40.707   \n",
              "4                  40.793                  -73.973                   40.783   \n",
              "\n",
              "   dropoff_longitude_round3  \n",
              "0                   -73.965  \n",
              "1                   -73.999  \n",
              "2                   -74.005  \n",
              "3                   -74.012  \n",
              "4                   -73.973  "
            ],
            "text/html": [
              "\n",
              "  <div id=\"df-ae787091-a117-4b07-af15-4dd511eed622\">\n",
              "    <div class=\"colab-df-container\">\n",
              "      <div>\n",
              "<style scoped>\n",
              "    .dataframe tbody tr th:only-of-type {\n",
              "        vertical-align: middle;\n",
              "    }\n",
              "\n",
              "    .dataframe tbody tr th {\n",
              "        vertical-align: top;\n",
              "    }\n",
              "\n",
              "    .dataframe thead th {\n",
              "        text-align: right;\n",
              "    }\n",
              "</style>\n",
              "<table border=\"1\" class=\"dataframe\">\n",
              "  <thead>\n",
              "    <tr style=\"text-align: right;\">\n",
              "      <th></th>\n",
              "      <th>vendor_id</th>\n",
              "      <th>passenger_count</th>\n",
              "      <th>pickup_longitude</th>\n",
              "      <th>pickup_latitude</th>\n",
              "      <th>dropoff_longitude</th>\n",
              "      <th>dropoff_latitude</th>\n",
              "      <th>pickup_weekday</th>\n",
              "      <th>pickup_hour_weekofyear</th>\n",
              "      <th>pickup_hour</th>\n",
              "      <th>pickup_minute</th>\n",
              "      <th>pickup_dt</th>\n",
              "      <th>pickup_week_hour</th>\n",
              "      <th>dist_sq</th>\n",
              "      <th>dist_sqrt</th>\n",
              "      <th>haversine_distance</th>\n",
              "      <th>direction</th>\n",
              "      <th>pickup_latitude_round3</th>\n",
              "      <th>pickup_longitude_round3</th>\n",
              "      <th>dropoff_latitude_round3</th>\n",
              "      <th>dropoff_longitude_round3</th>\n",
              "    </tr>\n",
              "  </thead>\n",
              "  <tbody>\n",
              "    <tr>\n",
              "      <th>0</th>\n",
              "      <td>1</td>\n",
              "      <td>1</td>\n",
              "      <td>-73.982155</td>\n",
              "      <td>40.767937</td>\n",
              "      <td>-73.964630</td>\n",
              "      <td>40.765602</td>\n",
              "      <td>0</td>\n",
              "      <td>11</td>\n",
              "      <td>17</td>\n",
              "      <td>24</td>\n",
              "      <td>6369878.0</td>\n",
              "      <td>17</td>\n",
              "      <td>0.000313</td>\n",
              "      <td>0.017680</td>\n",
              "      <td>1.498521</td>\n",
              "      <td>99.970196</td>\n",
              "      <td>40.768</td>\n",
              "      <td>-73.982</td>\n",
              "      <td>40.766</td>\n",
              "      <td>-73.965</td>\n",
              "    </tr>\n",
              "    <tr>\n",
              "      <th>1</th>\n",
              "      <td>0</td>\n",
              "      <td>1</td>\n",
              "      <td>-73.980415</td>\n",
              "      <td>40.738564</td>\n",
              "      <td>-73.999481</td>\n",
              "      <td>40.731152</td>\n",
              "      <td>6</td>\n",
              "      <td>23</td>\n",
              "      <td>0</td>\n",
              "      <td>43</td>\n",
              "      <td>14085798.0</td>\n",
              "      <td>144</td>\n",
              "      <td>0.000418</td>\n",
              "      <td>0.020456</td>\n",
              "      <td>1.805507</td>\n",
              "      <td>-117.153768</td>\n",
              "      <td>40.739</td>\n",
              "      <td>-73.980</td>\n",
              "      <td>40.731</td>\n",
              "      <td>-73.999</td>\n",
              "    </tr>\n",
              "    <tr>\n",
              "      <th>2</th>\n",
              "      <td>1</td>\n",
              "      <td>1</td>\n",
              "      <td>-73.979027</td>\n",
              "      <td>40.763939</td>\n",
              "      <td>-74.005333</td>\n",
              "      <td>40.710087</td>\n",
              "      <td>1</td>\n",
              "      <td>3</td>\n",
              "      <td>11</td>\n",
              "      <td>35</td>\n",
              "      <td>1596907.0</td>\n",
              "      <td>35</td>\n",
              "      <td>0.003592</td>\n",
              "      <td>0.059934</td>\n",
              "      <td>6.385098</td>\n",
              "      <td>-159.680165</td>\n",
              "      <td>40.764</td>\n",
              "      <td>-73.979</td>\n",
              "      <td>40.710</td>\n",
              "      <td>-74.005</td>\n",
              "    </tr>\n",
              "    <tr>\n",
              "      <th>3</th>\n",
              "      <td>1</td>\n",
              "      <td>1</td>\n",
              "      <td>-74.010040</td>\n",
              "      <td>40.719971</td>\n",
              "      <td>-74.012268</td>\n",
              "      <td>40.706718</td>\n",
              "      <td>2</td>\n",
              "      <td>14</td>\n",
              "      <td>19</td>\n",
              "      <td>32</td>\n",
              "      <td>8364734.0</td>\n",
              "      <td>67</td>\n",
              "      <td>0.000181</td>\n",
              "      <td>0.013438</td>\n",
              "      <td>1.485498</td>\n",
              "      <td>-172.737700</td>\n",
              "      <td>40.720</td>\n",
              "      <td>-74.010</td>\n",
              "      <td>40.707</td>\n",
              "      <td>-74.012</td>\n",
              "    </tr>\n",
              "    <tr>\n",
              "      <th>4</th>\n",
              "      <td>1</td>\n",
              "      <td>1</td>\n",
              "      <td>-73.973053</td>\n",
              "      <td>40.793209</td>\n",
              "      <td>-73.972923</td>\n",
              "      <td>40.782520</td>\n",
              "      <td>5</td>\n",
              "      <td>12</td>\n",
              "      <td>13</td>\n",
              "      <td>30</td>\n",
              "      <td>7392638.0</td>\n",
              "      <td>133</td>\n",
              "      <td>0.000114</td>\n",
              "      <td>0.010690</td>\n",
              "      <td>1.188588</td>\n",
              "      <td>179.473585</td>\n",
              "      <td>40.793</td>\n",
              "      <td>-73.973</td>\n",
              "      <td>40.783</td>\n",
              "      <td>-73.973</td>\n",
              "    </tr>\n",
              "  </tbody>\n",
              "</table>\n",
              "</div>\n",
              "      <button class=\"colab-df-convert\" onclick=\"convertToInteractive('df-ae787091-a117-4b07-af15-4dd511eed622')\"\n",
              "              title=\"Convert this dataframe to an interactive table.\"\n",
              "              style=\"display:none;\">\n",
              "        \n",
              "  <svg xmlns=\"http://www.w3.org/2000/svg\" height=\"24px\"viewBox=\"0 0 24 24\"\n",
              "       width=\"24px\">\n",
              "    <path d=\"M0 0h24v24H0V0z\" fill=\"none\"/>\n",
              "    <path d=\"M18.56 5.44l.94 2.06.94-2.06 2.06-.94-2.06-.94-.94-2.06-.94 2.06-2.06.94zm-11 1L8.5 8.5l.94-2.06 2.06-.94-2.06-.94L8.5 2.5l-.94 2.06-2.06.94zm10 10l.94 2.06.94-2.06 2.06-.94-2.06-.94-.94-2.06-.94 2.06-2.06.94z\"/><path d=\"M17.41 7.96l-1.37-1.37c-.4-.4-.92-.59-1.43-.59-.52 0-1.04.2-1.43.59L10.3 9.45l-7.72 7.72c-.78.78-.78 2.05 0 2.83L4 21.41c.39.39.9.59 1.41.59.51 0 1.02-.2 1.41-.59l7.78-7.78 2.81-2.81c.8-.78.8-2.07 0-2.86zM5.41 20L4 18.59l7.72-7.72 1.47 1.35L5.41 20z\"/>\n",
              "  </svg>\n",
              "      </button>\n",
              "      \n",
              "  <style>\n",
              "    .colab-df-container {\n",
              "      display:flex;\n",
              "      flex-wrap:wrap;\n",
              "      gap: 12px;\n",
              "    }\n",
              "\n",
              "    .colab-df-convert {\n",
              "      background-color: #E8F0FE;\n",
              "      border: none;\n",
              "      border-radius: 50%;\n",
              "      cursor: pointer;\n",
              "      display: none;\n",
              "      fill: #1967D2;\n",
              "      height: 32px;\n",
              "      padding: 0 0 0 0;\n",
              "      width: 32px;\n",
              "    }\n",
              "\n",
              "    .colab-df-convert:hover {\n",
              "      background-color: #E2EBFA;\n",
              "      box-shadow: 0px 1px 2px rgba(60, 64, 67, 0.3), 0px 1px 3px 1px rgba(60, 64, 67, 0.15);\n",
              "      fill: #174EA6;\n",
              "    }\n",
              "\n",
              "    [theme=dark] .colab-df-convert {\n",
              "      background-color: #3B4455;\n",
              "      fill: #D2E3FC;\n",
              "    }\n",
              "\n",
              "    [theme=dark] .colab-df-convert:hover {\n",
              "      background-color: #434B5C;\n",
              "      box-shadow: 0px 1px 3px 1px rgba(0, 0, 0, 0.15);\n",
              "      filter: drop-shadow(0px 1px 2px rgba(0, 0, 0, 0.3));\n",
              "      fill: #FFFFFF;\n",
              "    }\n",
              "  </style>\n",
              "\n",
              "      <script>\n",
              "        const buttonEl =\n",
              "          document.querySelector('#df-ae787091-a117-4b07-af15-4dd511eed622 button.colab-df-convert');\n",
              "        buttonEl.style.display =\n",
              "          google.colab.kernel.accessAllowed ? 'block' : 'none';\n",
              "\n",
              "        async function convertToInteractive(key) {\n",
              "          const element = document.querySelector('#df-ae787091-a117-4b07-af15-4dd511eed622');\n",
              "          const dataTable =\n",
              "            await google.colab.kernel.invokeFunction('convertToInteractive',\n",
              "                                                     [key], {});\n",
              "          if (!dataTable) return;\n",
              "\n",
              "          const docLinkHtml = 'Like what you see? Visit the ' +\n",
              "            '<a target=\"_blank\" href=https://colab.research.google.com/notebooks/data_table.ipynb>data table notebook</a>'\n",
              "            + ' to learn more about interactive tables.';\n",
              "          element.innerHTML = '';\n",
              "          dataTable['output_type'] = 'display_data';\n",
              "          await google.colab.output.renderOutput(dataTable, element);\n",
              "          const docLink = document.createElement('div');\n",
              "          docLink.innerHTML = docLinkHtml;\n",
              "          element.appendChild(docLink);\n",
              "        }\n",
              "      </script>\n",
              "    </div>\n",
              "  </div>\n",
              "  "
            ]
          },
          "metadata": {},
          "execution_count": 45
        }
      ]
    },
    {
      "cell_type": "markdown",
      "source": [
        "We have all numerical data types in our dataset now. Time to delve into model building. A very simple baseline could just be the mean of the values in the train set. Let's check the performance on that."
      ],
      "metadata": {
        "id": "gPvLxBjHtRB8"
      }
    },
    {
      "cell_type": "markdown",
      "metadata": {
        "id": "N_V1VhAJ1wX3"
      },
      "source": [
        "\n",
        "**Test Train Split**\n",
        "\n",
        "We have all numbers in our dataset now. Time to delve into model building. But before that, we need to finalise a validation strategy to create the train and test sets. Here, we will do a random split and keep one third of the data in test set and remaining two third of data in the train set"
      ]
    },
    {
      "cell_type": "code",
      "execution_count": 46,
      "metadata": {
        "id": "Qumlukzf1qKH"
      },
      "outputs": [],
      "source": [
        "#Splitting the data into Train and Validation set\n",
        "xtrain, xtest, ytrain, ytest = train_test_split(nyc,df_y,test_size=1/3, random_state=0)"
      ]
    },
    {
      "cell_type": "markdown",
      "metadata": {
        "id": "DMmeo2hi1_R7"
      },
      "source": [
        "**Mean Prediction**\n",
        "\n",
        "Before we go on to try any machine learning model, let us look at the performance of a basic model that just says the mean of trip duration in the train set is the prediction for all the trips in the test set."
      ]
    },
    {
      "cell_type": "code",
      "execution_count": 47,
      "metadata": {
        "colab": {
          "base_uri": "https://localhost:8080/"
        },
        "id": "LHNg05mp13bP",
        "outputId": "e6a64b76-5edb-4b2c-fb7f-bc1648c6407d"
      },
      "outputs": [
        {
          "output_type": "execute_result",
          "data": {
            "text/plain": [
              "0.7932210515663911"
            ]
          },
          "metadata": {},
          "execution_count": 47
        }
      ],
      "source": [
        "mean_pred = np.repeat(ytrain.mean(),len(ytest))\n",
        "\n",
        "sqrt(mean_squared_error(ytest, mean_pred))"
      ]
    },
    {
      "cell_type": "markdown",
      "metadata": {
        "id": "kEOPOKY6PNxf"
      },
      "source": [
        "# **Cross validation**\n",
        "Cross Validation is one of the most important concepts in any type of data modelling. It simply says, try to leave a sample on which you do not train the model and test the model on this sample before finalizing the model.\n",
        "\n",
        "we divide the entire population into k equal samples. Now we train models on k-1 samples and validate on 1 sample. Then, at the second iteration we train the model with a different sample held as validation.\n",
        "\n",
        "In k iterations, we have basically built model on each sample and held each of them as validation. This is a way to reduce the selection bias and reduce the variance in prediction power."
      ]
    },
    {
      "cell_type": "code",
      "execution_count": 48,
      "metadata": {
        "id": "rYPFo6RuaIyJ"
      },
      "outputs": [],
      "source": [
        "def cv_score(ml_model, rstate = 11,cols = nyc.columns):\n",
        "    i = 1\n",
        "    cv_scores = []\n",
        "    df1 = nyc.copy()\n",
        "    df1 = nyc[cols]\n",
        "    \n",
        "    kf = KFold(n_splits=5,random_state=rstate,shuffle=True)\n",
        "    for train_index,test_index in kf.split(df1,df_y):\n",
        "        print('\\n{} of kfold {}'.format(i,kf.n_splits))\n",
        "        xtr,xvl = df1.loc[train_index],df1.loc[test_index]\n",
        "        ytr,yvl = df_y[train_index],df_y[test_index]\n",
        "\n",
        "        model = ml_model\n",
        "        model.fit(xtr, ytr)\n",
        "        train_val = model.predict(xtr)\n",
        "        pred_val = model.predict(xvl)\n",
        "        rmse_score_train = sqrt(mean_squared_error(ytr, train_val))\n",
        "        rmse_score = sqrt(mean_squared_error(yvl, pred_val))\n",
        "        sufix = \"\"\n",
        "        msg = \"\"\n",
        "        #msg += \"Train RMSE: {:.5f} \".format(rmse_score_train)\n",
        "        msg += \"Valid RMSE: {:.5f}\".format(rmse_score)\n",
        "        print(\"{}\".format(msg))\n",
        "        # Save scores\n",
        "        cv_scores.append(rmse_score)\n",
        "        i+=1\n",
        "    return cv_scores"
      ]
    },
    {
      "cell_type": "markdown",
      "metadata": {
        "id": "mLFAIagp2IjT"
      },
      "source": [
        "# **Linear Regression**"
      ]
    },
    {
      "cell_type": "markdown",
      "source": [
        "Lets begin by using the simplest regression algorithm Linear regression to check the performance."
      ],
      "metadata": {
        "id": "puXUJy_4tc_-"
      }
    },
    {
      "cell_type": "code",
      "execution_count": 49,
      "metadata": {
        "colab": {
          "base_uri": "https://localhost:8080/"
        },
        "id": "Fv3xcicRahXz",
        "outputId": "c4489154-f338-425a-928d-49794914a159"
      },
      "outputs": [
        {
          "output_type": "stream",
          "name": "stdout",
          "text": [
            "\n",
            "1 of kfold 5\n",
            "Valid RMSE: 0.61369\n",
            "\n",
            "2 of kfold 5\n",
            "Valid RMSE: 0.61481\n",
            "\n",
            "3 of kfold 5\n",
            "Valid RMSE: 0.61963\n",
            "\n",
            "4 of kfold 5\n",
            "Valid RMSE: 0.61161\n",
            "\n",
            "5 of kfold 5\n",
            "Valid RMSE: 0.61786\n"
          ]
        }
      ],
      "source": [
        "linreg_scores = cv_score(LinearRegression())"
      ]
    },
    {
      "cell_type": "markdown",
      "source": [
        "# **Decision tree**"
      ],
      "metadata": {
        "id": "WBQXw1_-9SKf"
      }
    },
    {
      "cell_type": "markdown",
      "source": [
        "1.I will implement a Decision Tree Regressor first for three primary reasons:\n",
        "\n",
        "2.it is the easiest to interpret\n",
        "\n",
        "3.Does not require feature scaling\n",
        "\n",
        "4.computationally less expensive than other methods"
      ],
      "metadata": {
        "id": "MQTLiIA99pmw"
      }
    },
    {
      "cell_type": "code",
      "execution_count": 50,
      "metadata": {
        "colab": {
          "base_uri": "https://localhost:8080/"
        },
        "id": "cJKd-D6eaj2T",
        "outputId": "277e79e5-c90b-458f-d84e-46a60888bd8b"
      },
      "outputs": [
        {
          "output_type": "stream",
          "name": "stdout",
          "text": [
            "\n",
            "1 of kfold 5\n",
            "Valid RMSE: 0.42935\n",
            "\n",
            "2 of kfold 5\n",
            "Valid RMSE: 0.42346\n",
            "\n",
            "3 of kfold 5\n",
            "Valid RMSE: 0.42965\n",
            "\n",
            "4 of kfold 5\n",
            "Valid RMSE: 0.42828\n",
            "\n",
            "5 of kfold 5\n",
            "Valid RMSE: 0.42853\n"
          ]
        }
      ],
      "source": [
        "dtree_scores = cv_score(DecisionTreeRegressor(min_samples_leaf=25, min_samples_split=25))"
      ]
    },
    {
      "cell_type": "code",
      "source": [
        "from sklearn.tree import DecisionTreeRegressor, export_graphviz\n",
        "from sklearn import tree\n",
        "from IPython.display import SVG\n",
        "from graphviz import Source\n",
        "from IPython.display import display"
      ],
      "metadata": {
        "id": "R6L33M1UwKKl"
      },
      "execution_count": null,
      "outputs": []
    },
    {
      "cell_type": "code",
      "execution_count": 51,
      "metadata": {
        "id": "rPMXg6ZCaoaP"
      },
      "outputs": [],
      "source": [
        "results_df = pd.DataFrame({'linear_regression':linreg_scores, 'dtree': dtree_scores})"
      ]
    },
    {
      "cell_type": "code",
      "execution_count": 52,
      "metadata": {
        "colab": {
          "base_uri": "https://localhost:8080/",
          "height": 265
        },
        "id": "M3uYMVHWarYE",
        "outputId": "02b6a44e-7a55-4bd5-8951-3b3ac3e99f6b"
      },
      "outputs": [
        {
          "output_type": "display_data",
          "data": {
            "text/plain": [
              "<Figure size 432x288 with 1 Axes>"
            ],
            "image/png": "[encoded data removed]"
          },
          "metadata": {}
        }
      ],
      "source": [
        "results_df.plot(y=[\"linear_regression\", \"dtree\"], kind=\"bar\", legend=False)\n",
        "plt.legend(bbox_to_anchor=(1.05, 1), loc=2, borderaxespad=0.)\n",
        "plt.show()"
      ]
    },
    {
      "cell_type": "markdown",
      "metadata": {
        "id": "ffx7G-3CPdvZ"
      },
      "source": [
        "Decision Tree is better than Linear regression"
      ]
    },
    {
      "cell_type": "code",
      "execution_count": null,
      "metadata": {
        "id": "faAttF0Xat7H"
      },
      "outputs": [],
      "source": [
        "from sklearn import tree"
      ]
    },
    {
      "cell_type": "code",
      "source": [
        "dtree = DecisionTreeRegressor(min_samples_leaf=25,min_samples_split=25)\n",
        "dtree.fit(xtrain,ytrain)"
      ],
      "metadata": {
        "id": "fusKG4V0pFdO",
        "colab": {
          "base_uri": "https://localhost:8080/",
          "height": 183
        },
        "outputId": "59929df3-2d48-4c4e-d27f-721cfba46569"
      },
      "execution_count": null,
      "outputs": [
        {
          "output_type": "error",
          "ename": "NameError",
          "evalue": "ignored",
          "traceback": [
            "\u001b[0;31m---------------------------------------------------------------------------\u001b[0m",
            "\u001b[0;31mNameError\u001b[0m                                 Traceback (most recent call last)",
            "\u001b[0;32m<ipython-input-60-d82af4b1d890>\u001b[0m in \u001b[0;36m<module>\u001b[0;34m()\u001b[0m\n\u001b[1;32m      1\u001b[0m \u001b[0mdtree\u001b[0m \u001b[0;34m=\u001b[0m \u001b[0mDecisionTreeRegressor\u001b[0m\u001b[0;34m(\u001b[0m\u001b[0mmin_samples_leaf\u001b[0m\u001b[0;34m=\u001b[0m\u001b[0;36m25\u001b[0m\u001b[0;34m,\u001b[0m\u001b[0mmin_samples_split\u001b[0m\u001b[0;34m=\u001b[0m\u001b[0;36m25\u001b[0m\u001b[0;34m)\u001b[0m\u001b[0;34m\u001b[0m\u001b[0;34m\u001b[0m\u001b[0m\n\u001b[0;32m----> 2\u001b[0;31m \u001b[0mdtree\u001b[0m\u001b[0;34m.\u001b[0m\u001b[0mfit\u001b[0m\u001b[0;34m(\u001b[0m\u001b[0mxtrain\u001b[0m\u001b[0;34m,\u001b[0m\u001b[0mytrain\u001b[0m\u001b[0;34m)\u001b[0m\u001b[0;34m\u001b[0m\u001b[0;34m\u001b[0m\u001b[0m\n\u001b[0m",
            "\u001b[0;31mNameError\u001b[0m: name 'xtrain' is not defined"
          ]
        }
      ]
    },
    {
      "cell_type": "code",
      "source": [
        "decision_tree=tree_export_graphviz(dtree,out_file=\"tree.dot\",feature_names=xtrain.columns,max_depth=2,filled=True)"
      ],
      "metadata": {
        "id": "8WpA8Oihp149"
      },
      "execution_count": null,
      "outputs": []
    },
    {
      "cell_type": "markdown",
      "metadata": {
        "id": "vQTa_MQf4H98"
      },
      "source": [
        "# **Decision tree**"
      ]
    },
    {
      "cell_type": "markdown",
      "metadata": {
        "id": "1xUI5csB5I8i"
      },
      "source": [
        "I will implement a Decision Tree Regressor first for three primary reasons:\n",
        "\n",
        "it is the easiest to interpret\n",
        "\n",
        "does not require feature scaling\n",
        "\n",
        "computationally less expensive than other methods"
      ]
    },
    {
      "cell_type": "code",
      "execution_count": null,
      "metadata": {
        "colab": {
          "base_uri": "https://localhost:8080/"
        },
        "id": "rdwsLKDi6ieB",
        "outputId": "5778b095-df68-4898-e0bd-d3b782e1c79a"
      },
      "outputs": [
        {
          "name": "stdout",
          "output_type": "stream",
          "text": [
            "DecisionTreeRegressor()\n",
            "\n",
            "Decision Tree Regression Performance Metrics\n",
            "R^2= 0.4760368320419779\n",
            "MAE: 0.3636475976605979\n",
            "MSE: 0.3297498188335384\n",
            "RMSE: 0.5742384686117243\n"
          ]
        }
      ],
      "source": [
        "from sklearn.tree import DecisionTreeRegressor\n",
        "\n",
        "# Instantiate model object\n",
        "dtree = DecisionTreeRegressor()\n",
        "\n",
        "# Fit to training data\n",
        "dtree.fit(xtrain,ytrain)\n",
        "print(dtree)\n",
        "\n",
        "# Predict\n",
        "y_pred_dtree = dtree.predict(xtest)\n",
        "\n",
        "# Score It\n",
        "from sklearn import metrics\n",
        "print('\\nDecision Tree Regression Performance Metrics')\n",
        "print('R^2=',metrics.explained_variance_score(ytest,y_pred_dtree))\n",
        "print('MAE:',metrics.mean_absolute_error(ytest,y_pred_dtree))\n",
        "print('MSE:',metrics.mean_squared_error(ytest,y_pred_dtree))\n",
        "print('RMSE:',np.sqrt(metrics.mean_squared_error(ytest,y_pred_dtree)))"
      ]
    },
    {
      "cell_type": "markdown",
      "metadata": {
        "id": "duQfpaNA5n_M"
      },
      "source": [
        "**Learning curve**\n",
        "\n",
        "Learning curves constitute a great tool to diagnose bias and variance in any supervised learning algorithm. It shows how error changes as the training set size increases. We'll use the learning_curve() function from the scikit-learn library to generate a learning curve for the regression model. There's no need to put aside a validation set because learning_curve() will take care of that and that's why we will plot the learning curve over whole dataset."
      ]
    },
    {
      "cell_type": "code",
      "execution_count": null,
      "metadata": {
        "id": "FqAwl7x05lYc"
      },
      "outputs": [],
      "source": [
        "import statsmodels.formula.api as sm\n",
        "from sklearn.model_selection import learning_curve\n",
        "from sklearn.model_selection import ShuffleSplit\n",
        "import warnings; warnings.simplefilter('ignore')"
      ]
    },
    {
      "cell_type": "code",
      "execution_count": null,
      "metadata": {
        "colab": {
          "background_save": true
        },
        "id": "w9IwIjQ05y1_",
        "outputId": "b7826bef-9e99-4348-9f59-d052939846f8"
      },
      "outputs": [
        {
          "data": {
            "text/plain": [
              "<module 'matplotlib.pyplot' from '/usr/local/lib/python3.7/dist-packages/matplotlib/pyplot.py'>"
            ]
          },
          "execution_count": null,
          "metadata": {},
          "output_type": "execute_result"
        },
        {
          "data": {
            "image/png": "[encoded data removed]",
            "text/plain": [
              "<Figure size 1008x360 with 1 Axes>"
            ]
          },
          "metadata": {},
          "output_type": "display_data"
        }
      ],
      "source": [
        "def learning_curves(estimator, title, features, target, train_sizes, cv, n_jobs=-1):\n",
        "    plt.figure(figsize = (14,5))\n",
        "    train_sizes, train_scores, validation_scores = learning_curve(estimator, features, target, train_sizes = train_sizes, cv = cv, scoring = 'neg_mean_squared_error',  n_jobs=n_jobs)\n",
        "    train_scores_mean = -train_scores.mean(axis = 1)\n",
        "    validation_scores_mean = -validation_scores.mean(axis = 1)\n",
        "    \n",
        "    plt.grid()\n",
        "    \n",
        "    plt.plot(train_sizes, train_scores_mean,'o-', color=\"r\", label = 'Training error')\n",
        "    plt.plot(train_sizes, validation_scores_mean,'o-', color=\"g\", label = 'Validation error')\n",
        "\n",
        "    plt.ylabel('MSE', fontsize = 14)\n",
        "    plt.xlabel('Training set size', fontsize = 14)\n",
        "    \n",
        "    title = 'Learning curves for a ' + title + ' model'\n",
        "    plt.title(title, fontsize = 18, loc='left')\n",
        "    \n",
        "    plt.legend(loc=\"best\")\n",
        "    \n",
        "    return plt\n",
        "\n",
        "# score curves, each time with 20% data randomly selected as a validation set.\n",
        "cv = ShuffleSplit(n_splits=10, test_size=0.2, random_state=4)\n",
        "\n",
        "# Plot learning curve for the RF Regressor\n",
        "title = \"Decision Tree Regressor\"\n",
        "\n",
        "# Call learning curve with all dataset i.e. traininig and test combined because CV will take of data split.\n",
        "learning_curves(dtree, title, dfm,df_y, train_sizes=np.linspace(.1, 1.0, 5), cv=cv, n_jobs=-1)"
      ]
    },
    {
      "cell_type": "code",
      "source": [
        "from sklearn.linear_model import Lasso\n",
        "from sklearn.linear_model import Ridge"
      ],
      "metadata": {
        "id": "hyMUMXiLy_X7"
      },
      "execution_count": 53,
      "outputs": []
    },
    {
      "cell_type": "code",
      "source": [
        "from sklearn.model_selection import GridSearchCV\n",
        "### Cross validation\n",
        "lasso = Lasso()\n",
        "parameters = {'alpha': [1e-15,1e-13,1e-10,1e-8,1e-5,1e-4,1e-3,1e-2,1e-1,1,5,10,20,30,40,45,50,55,60,100]}\n",
        "lasso_regressor = GridSearchCV(lasso, parameters, scoring='r2', cv=5)\n",
        "lasso_regressor.fit(xtrain, ytrain)"
      ],
      "metadata": {
        "colab": {
          "base_uri": "https://localhost:8080/"
        },
        "id": "4fWuZ3JwOwKa",
        "outputId": "6ae74f79-8c38-4d2b-d449-e9ce4f5a1dd1"
      },
      "execution_count": 54,
      "outputs": [
        {
          "output_type": "execute_result",
          "data": {
            "text/plain": [
              "GridSearchCV(cv=5, estimator=Lasso(),\n",
              "             param_grid={'alpha': [1e-15, 1e-13, 1e-10, 1e-08, 1e-05, 0.0001,\n",
              "                                   0.001, 0.01, 0.1, 1, 5, 10, 20, 30, 40, 45,\n",
              "                                   50, 55, 60, 100]},\n",
              "             scoring='r2')"
            ]
          },
          "metadata": {},
          "execution_count": 54
        }
      ]
    },
    {
      "cell_type": "code",
      "source": [
        "lasso_regressor.score(xtrain, ytrain)"
      ],
      "metadata": {
        "colab": {
          "base_uri": "https://localhost:8080/"
        },
        "id": "M228aW-G7_8s",
        "outputId": "e138390e-b1a1-4979-c46a-105ae2c51e74"
      },
      "execution_count": 55,
      "outputs": [
        {
          "output_type": "execute_result",
          "data": {
            "text/plain": [
              "0.394651949072929"
            ]
          },
          "metadata": {},
          "execution_count": 55
        }
      ]
    },
    {
      "cell_type": "code",
      "source": [
        "print(\"The best fit alpha value is found out to be :\" ,lasso_regressor.best_params_)\n",
        "print(\"\\nUsing \",lasso_regressor.best_params_, \" the negative mean squared error is: \", lasso_regressor.best_score_)"
      ],
      "metadata": {
        "colab": {
          "base_uri": "https://localhost:8080/"
        },
        "id": "QxqGlLyK8SE4",
        "outputId": "5880a94a-7fbb-4558-9374-2dbbf4d1372f"
      },
      "execution_count": 56,
      "outputs": [
        {
          "output_type": "stream",
          "name": "stdout",
          "text": [
            "The best fit alpha value is found out to be : {'alpha': 0.001}\n",
            "\n",
            "Using  {'alpha': 0.001}  the negative mean squared error is:  0.3876624406292243\n"
          ]
        }
      ]
    },
    {
      "cell_type": "code",
      "source": [
        "from sklearn.linear_model import Ridge\n",
        "### Cross validation\n",
        "ridge = Ridge()\n",
        "parameters = {'alpha': [1e-15,1e-13,1e-10,1e-8,1e-5,1e-4,1e-3,1e-2,1e-1,1,5,10,20,30,40,45,50,55,60,100]}\n",
        "ridge_regressor = GridSearchCV(ridge, parameters, scoring='r2', cv=5)\n",
        "ridge_regressor.fit(xtrain, ytrain)"
      ],
      "metadata": {
        "colab": {
          "base_uri": "https://localhost:8080/"
        },
        "id": "wfYmRyiS-MfY",
        "outputId": "deccac8b-e23f-477f-d892-b6522cdb2cec"
      },
      "execution_count": 58,
      "outputs": [
        {
          "output_type": "execute_result",
          "data": {
            "text/plain": [
              "GridSearchCV(cv=5, estimator=Ridge(),\n",
              "             param_grid={'alpha': [1e-15, 1e-13, 1e-10, 1e-08, 1e-05, 0.0001,\n",
              "                                   0.001, 0.01, 0.1, 1, 5, 10, 20, 30, 40, 45,\n",
              "                                   50, 55, 60, 100]},\n",
              "             scoring='r2')"
            ]
          },
          "metadata": {},
          "execution_count": 58
        }
      ]
    },
    {
      "cell_type": "code",
      "source": [
        "ridge_regressor.score(xtrain, ytrain)"
      ],
      "metadata": {
        "colab": {
          "base_uri": "https://localhost:8080/"
        },
        "id": "Zxbsp7p4FvdH",
        "outputId": "8f71cc28-ab9f-45cf-f514-68bfa0bf067f"
      },
      "execution_count": 62,
      "outputs": [
        {
          "output_type": "execute_result",
          "data": {
            "text/plain": [
              "0.3999213333782985"
            ]
          },
          "metadata": {},
          "execution_count": 62
        }
      ]
    },
    {
      "cell_type": "code",
      "source": [
        "print(\"The best fit alpha value is found out to be :\" ,ridge_regressor.best_params_)\n",
        "print(\"\\nUsing \",ridge_regressor.best_params_, \" the negative mean squared error is: \", lasso_regressor.best_score_)"
      ],
      "metadata": {
        "colab": {
          "base_uri": "https://localhost:8080/"
        },
        "id": "BpRksDDNHy_w",
        "outputId": "2363bb38-0a28-454e-8cf7-2c84bce763cb"
      },
      "execution_count": 63,
      "outputs": [
        {
          "output_type": "stream",
          "name": "stdout",
          "text": [
            "The best fit alpha value is found out to be : {'alpha': 0.001}\n",
            "\n",
            "Using  {'alpha': 0.001}  the negative mean squared error is:  0.3876624406292243\n"
          ]
        }
      ]
    },
    {
      "cell_type": "code",
      "source": [
        ""
      ],
      "metadata": {
        "id": "ujUYLv8wH2o6"
      },
      "execution_count": null,
      "outputs": []
    },
    {
      "cell_type": "markdown",
      "metadata": {
        "id": "LNIMYQySmQy3"
      },
      "source": [
        "# **Conclusion**"
      ]
    },
    {
      "cell_type": "markdown",
      "metadata": {
        "id": "8dsJn5-4mVuz"
      },
      "source": [
        "1. Mostly 1 or 2 passengers avail the cab. The instance of large group of people travelling together is rare.\n",
        "2. Most trips were taken on Friday and Monday being the least.\n",
        "we observe that most pickups and drops occur in the evening. While the least drops and pickups occur during morning.\n",
        "3. The highest average time taken to complete a trip are for trips started in midday(between 14 and 17 hours) and the least are the ones taken in the early morning(between 6–7 hours)\n",
        "4. vendor 1 mostly provides short trip duration cabs while vendor 2 provides cab for both short and long trips.\n",
        "5. The flag was stored only for short duration trips and for long duration trips the flag was never stored.\n",
        "6. Desion tree model give more accurate value on data set than linear regression model.\n",
        "[ ]\n"
      ]
    }
  ],
  "metadata": {
    "colab": {
      "collapsed_sections": [
        "tOGC-qoyhJeX",
        "zo0c5TLsCL_u",
        "VPW0ChMZD1gX",
        "N8k66G5oEf4O",
        "p7L1ajJbFFEl",
        "_0jhRNqHHB-J",
        "HG7Y85Khpz7p",
        "Y7zVuMaK0RLE",
        "kEOPOKY6PNxf"
      ],
      "name": " NYC_TEAM- Capstone Project.ipynb",
      "provenance": [],
      "include_colab_link": true
    },
    "kernelspec": {
      "display_name": "Python 3",
      "language": "python",
      "name": "python3"
    },
    "language_info": {
      "codemirror_mode": {
        "name": "ipython",
        "version": 3
      },
      "file_extension": ".py",
      "mimetype": "text/x-python",
      "name": "python",
      "nbconvert_exporter": "python",
      "pygments_lexer": "ipython3",
      "version": "3.6.6"
    }
  },
  "nbformat": 4,
  "nbformat_minor": 0
}